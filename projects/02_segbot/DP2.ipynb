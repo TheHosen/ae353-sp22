{
 "cells": [
  {
   "cell_type": "markdown",
   "id": "middle-acoustic",
   "metadata": {},
   "source": [
    "# Differential drive robot (i.e., \"segbot\") in artificial gravity"
   ]
  },
  {
   "cell_type": "markdown",
   "id": "working-minority",
   "metadata": {},
   "source": [
    "Import modules and configure the notebook."
   ]
  },
  {
   "cell_type": "code",
   "execution_count": 1,
   "id": "dimensional-contamination",
   "metadata": {},
   "outputs": [
    {
     "data": {
      "text/plain": [
       "<module 'ae353_segbot' from 'C:\\\\Users\\\\aleca\\\\ae353-sp22\\\\projects\\\\02_segbot\\\\ae353_segbot.py'>"
      ]
     },
     "execution_count": 1,
     "metadata": {},
     "output_type": "execute_result"
    }
   ],
   "source": [
    "# This module is part of the python standard library\n",
    "import time\n",
    "\n",
    "# These modules are part of other existing libraries\n",
    "import numpy as np\n",
    "import matplotlib.pyplot as plt\n",
    "\n",
    "# This is my own script (it is an interface to the pybullet simulator)\n",
    "import ae353_segbot\n",
    "\n",
    "# I often go back and forth between making changes to my scripts and to\n",
    "# the notebook in which they are used. One \"gotcha\" is that notebooks only\n",
    "# import modules or scripts ONCE. Subsequent imports don't do anything, and\n",
    "# in particular won't reflect any changes I've made to my scripts. To make\n",
    "# sure that I'm working with the \"latest version of my code, I use this bit\n",
    "# of magic, which forces the notebook to \"reload\" my script:\n",
    "import importlib\n",
    "importlib.reload(ae353_segbot)"
   ]
  },
  {
   "cell_type": "markdown",
   "id": "02b723c8",
   "metadata": {},
   "source": [
    "Create an instance of the `Simulator` class, which is an interface to the [pybullet](http://pybullet.org) simulation engine.\n",
    "\n",
    "There are several optional arguments:\n",
    "\n",
    "* `display` (`True` or `False`) is whether or not to show the simulation window;\n",
    "* `width` and `height` (positive integers, default `640` and `480`, respectively) is the weight and height of the simulation window (if shown) in pixels;\n",
    "* `bumpy` (`True` or `False`) is whether or not the station is \"bumpy\".\n",
    "\n",
    "**You must evaluate this cell only *once*.** If you want to start fresh with a new simulator, you must do `Kernel -> Restart` from the notebook menu first. If you evaluate this cell more than once without a call to `Kernel -> Restart` then you may get strange behavior that is hard to debug."
   ]
  },
  {
   "cell_type": "code",
   "execution_count": 2,
   "id": "359ab3ab",
   "metadata": {},
   "outputs": [],
   "source": [
    "simulator = ae353_segbot.Simulator(\n",
    "    display=True,\n",
    "    width=480,\n",
    "    height=320,\n",
    "    bumpy=False,\n",
    ")"
   ]
  },
  {
   "cell_type": "markdown",
   "id": "75738c69",
   "metadata": {},
   "source": [
    "Define a controller that maps sensor measurements to actuator commands. By default, it chooses to apply zero torque to the gimbal. Modify the `run` function to make the controller behave differently."
   ]
  },
  {
   "cell_type": "markdown",
   "id": "1d2a5524",
   "metadata": {},
   "source": [
    "## System of Equations\n",
    "\n",
    "$\\begin{bmatrix} \\dot{e}_\\text{lateral} \\\\ \\dot{e}_\\text{heading} \\\\ \\dot{v} \\\\ \\dot{w} \\\\ \\ddot{\\theta} \\end{bmatrix}=\n",
    "\\begin{bmatrix}v \\sin{\\left(e_\\text{heading} \\right)}\\\\w\\\\- \\frac{2400 \\tau_{L} + 2400 \\tau_{R} + 2808 \\left(\\dot{\\theta}^{2} + w^{2}\\right) \\sin{\\left(\\theta \\right)} + 65 \\left(50 \\tau_{L} + 50 \\tau_{R} - 39 w^{2} \\sin{\\left(2 \\theta \\right)} - 900 \\sin{\\left(\\theta \\right)}\\right) \\cos{\\left(\\theta \\right)}}{11700 \\cos^{2}{\\left(\\theta \\right)} - 12168}\\\\\\frac{32 \\left(- 875 \\tau_{L} + 875 \\tau_{R} - 1443 \\dot{\\theta} w \\sin{\\left(2 \\theta \\right)} - 2925 v w \\sin{\\left(\\theta \\right)}\\right)}{13 \\left(3120 \\sin^{2}{\\left(\\theta \\right)} + 2051\\right)}\\\\\\frac{5 \\left(8450 \\tau_{L} + 8450 \\tau_{R} - 6591 w^{2} \\sin{\\left(2 \\theta \\right)} + 60 \\left(100 \\tau_{L} + 100 \\tau_{R} + 117 \\left(\\dot{\\theta}^{2} + w^{2}\\right) \\sin{\\left(\\theta \\right)}\\right) \\cos{\\left(\\theta \\right)} - 152100 \\sin{\\left(\\theta \\right)}\\right)}{1404 \\left(25 \\cos^{2}{\\left(\\theta \\right)} - 26\\right)}\\end{bmatrix}$\n",
    "\n",
    "## Define Constants"
   ]
  },
  {
   "cell_type": "code",
   "execution_count": 16,
   "id": "995e3793",
   "metadata": {},
   "outputs": [],
   "source": [
    "import sympy as sym\n",
    "from sympy.physics import mechanics\n",
    "mechanics.init_vprinting()\n",
    "\n",
    "# Dimensions of chassis\n",
    "dx = 0.4\n",
    "dy = 0.6\n",
    "dz = 0.8\n",
    "\n",
    "# Distance between axle and COM of chassis\n",
    "h = 0.3\n",
    "\n",
    "# Half-distance between wheels\n",
    "a = 0.7 / 2\n",
    "\n",
    "# Mass of chassis\n",
    "mb = 12.\n",
    "\n",
    "# MOI of chassis\n",
    "Jbx = (mb / 12) * (dy**2 + dz**2)\n",
    "Jby = (mb / 12) * (dx**2 + dz**2)\n",
    "Jbz = (mb / 12) * (dx**2 + dy**2)\n",
    "\n",
    "# Radius of each wheel\n",
    "r = 0.325\n",
    "\n",
    "# Width of each wheel\n",
    "hw = 0.075\n",
    "\n",
    "# Mass of each wheel\n",
    "mw = 1.2\n",
    "\n",
    "# MOI of each wheel\n",
    "Jw = (mw / 2) * r**2\n",
    "Jwt = (mw / 12) * (3 * r**2 + hw**2)\n",
    "\n",
    "# Total mass\n",
    "m = mb + 2 * mw\n",
    "\n",
    "# Total MOI\n",
    "Jx = Jbx + 2 * Jwt\n",
    "Jy = Jby\n",
    "Jz = Jbz + 2 * Jwt\n",
    "\n",
    "# Station parameters\n",
    "station_velocity = -0.5 # <-- FIXME (change the velocity to change gravity)\n",
    "station_radius = 20.    # <-- radius in meters of inside surface of station\n",
    "\n",
    "# Acceleration of artifical gravity\n",
    "g = station_velocity**2 * station_radius\n",
    "\n",
    "# Dimensions\n",
    "h = sym.nsimplify(h)\n",
    "a = sym.nsimplify(a)\n",
    "r = sym.nsimplify(r)\n",
    "\n",
    "# Masses\n",
    "mb = sym.nsimplify(mb)\n",
    "mw = sym.nsimplify(mw)\n",
    "m = sym.nsimplify(m)\n",
    "\n",
    "# MOIs\n",
    "Jx = sym.nsimplify(Jx)\n",
    "Jy = sym.nsimplify(Jy)\n",
    "Jz = sym.nsimplify(Jz)\n",
    "Jw = sym.nsimplify(Jw)\n",
    "Jwt = sym.nsimplify(Jwt)\n",
    "\n",
    "# Gravity\n",
    "g = sym.nsimplify(g)\n",
    "\n",
    "(e_l,\n",
    " e_h,\n",
    " v,\n",
    " w,\n",
    " theta,\n",
    " thetadot,\n",
    " tau_R,\n",
    " tau_L,\n",
    " p) = sym.symbols('e_l, e_h, v, w, theta, thetadot, tau_R, tau_L, p', real=True)"
   ]
  },
  {
   "cell_type": "markdown",
   "id": "ad681daa",
   "metadata": {},
   "source": [
    "## Find A and B"
   ]
  },
  {
   "cell_type": "code",
   "execution_count": 17,
   "id": "2555da61",
   "metadata": {},
   "outputs": [
    {
     "data": {
      "text/latex": [
       "$\\displaystyle \\left[\\begin{matrix}v \\sin{\\left(e_{h} \\right)}\\\\w\\\\- \\frac{1200 \\tau_{L} + 1200 \\tau_{R} + 1404 \\left(p^{2} + w^{2}\\right) \\sin{\\left(\\theta \\right)} + \\frac{65 \\left(50 \\tau_{L} + 50 \\tau_{R} - 39 w^{2} \\sin{\\left(2 \\theta \\right)} - 900 \\sin{\\left(\\theta \\right)}\\right) \\cos{\\left(\\theta \\right)}}{2}}{5850 \\cos^{2}{\\left(\\theta \\right)} - 6084}\\\\\\frac{32 \\left(- 1443 p w \\sin{\\left(2 \\theta \\right)} - 875 \\tau_{L} + 875 \\tau_{R} - 2925 v w \\sin{\\left(\\theta \\right)}\\right)}{13 \\left(3120 \\sin^{2}{\\left(\\theta \\right)} + 2051\\right)}\\\\\\frac{5 \\left(4225 \\tau_{L} + 4225 \\tau_{R} - \\frac{6591 w^{2} \\sin{\\left(2 \\theta \\right)}}{2} + 30 \\left(100 \\tau_{L} + 100 \\tau_{R} + 117 \\left(p^{2} + w^{2}\\right) \\sin{\\left(\\theta \\right)}\\right) \\cos{\\left(\\theta \\right)} - 76050 \\sin{\\left(\\theta \\right)}\\right)}{702 \\left(25 \\cos^{2}{\\left(\\theta \\right)} - 26\\right)}\\\\p\\end{matrix}\\right]$"
      ],
      "text/plain": [
       "⎡                                                   v⋅sin(eₕ)                 \n",
       "⎢                                                                             \n",
       "⎢                                                       w                     \n",
       "⎢                                                                             \n",
       "⎢   ⎛                                                 ⎛                      2\n",
       "⎢   ⎜                           ⎛ 2    2⎞          65⋅⎝50⋅τ_L + 50⋅τ_R - 39⋅w \n",
       "⎢  -⎜1200⋅τ_L + 1200⋅τ_R + 1404⋅⎝p  + w ⎠⋅sin(θ) + ───────────────────────────\n",
       "⎢   ⎝                                                                         \n",
       "⎢  ───────────────────────────────────────────────────────────────────────────\n",
       "⎢                                                      2                      \n",
       "⎢                                              5850⋅cos (θ) - 6084            \n",
       "⎢                                                                             \n",
       "⎢                         32⋅(-1443⋅p⋅w⋅sin(2⋅θ) - 875⋅τ_L + 875⋅τ_R - 2925⋅v⋅\n",
       "⎢                         ────────────────────────────────────────────────────\n",
       "⎢                                               ⎛        2          ⎞         \n",
       "⎢                                            13⋅⎝3120⋅sin (θ) + 2051⎠         \n",
       "⎢                                                                             \n",
       "⎢  ⎛                            2                                             \n",
       "⎢  ⎜                      6591⋅w ⋅sin(2⋅θ)      ⎛                        ⎛ 2  \n",
       "⎢5⋅⎜4225⋅τ_L + 4225⋅τ_R - ──────────────── + 30⋅⎝100⋅τ_L + 100⋅τ_R + 117⋅⎝p  +\n",
       "⎢  ⎝                             2                                            \n",
       "⎢─────────────────────────────────────────────────────────────────────────────\n",
       "⎢                                                 ⎛      2        ⎞           \n",
       "⎢                                             702⋅⎝25⋅cos (θ) - 26⎠           \n",
       "⎢                                                                             \n",
       "⎣                                                       p                     \n",
       "\n",
       "                                   ⎤\n",
       "                                   ⎥\n",
       "                                   ⎥\n",
       "                                   ⎥\n",
       "                      ⎞       ⎞    ⎥\n",
       "⋅sin(2⋅θ) - 900⋅sin(θ)⎠⋅cos(θ)⎟    ⎥\n",
       "──────────────────────────────⎟    ⎥\n",
       " 2                            ⎠    ⎥\n",
       "────────────────────────────────   ⎥\n",
       "                                   ⎥\n",
       "                                   ⎥\n",
       "                                   ⎥\n",
       "w⋅sin(θ))                          ⎥\n",
       "─────────                          ⎥\n",
       "                                   ⎥\n",
       "                                   ⎥\n",
       "                                   ⎥\n",
       "                                  ⎞⎥\n",
       "  2⎞       ⎞                      ⎟⎥\n",
       " w ⎠⋅sin(θ)⎠⋅cos(θ) - 76050⋅sin(θ)⎟⎥\n",
       "                                  ⎠⎥\n",
       "───────────────────────────────────⎥\n",
       "                                   ⎥\n",
       "                                   ⎥\n",
       "                                   ⎥\n",
       "                                   ⎦"
      ]
     },
     "execution_count": 17,
     "metadata": {},
     "output_type": "execute_result"
    }
   ],
   "source": [
    "M = sym.Matrix([[m + 2 * Jw / r**2, 0, mb * h * sym.cos(theta)],\n",
    "                [0, (Jx + mb * h**2) * sym.sin(theta)**2 + Jz * sym.cos(theta)**2 + (2 * Jw * a**2 / r**2) + 2 * mw * a**2, 0],\n",
    "                [mb * h * sym.cos(theta), 0, Jy * mb * h**2]])\n",
    "N = sym.Matrix([[mb * h * (w**2 + p**2) * sym.sin(theta)],\n",
    "                [-2 * (Jx - Jz + m * h**2) * sym.cos(theta) * sym.sin(theta) * w * p - mb * h * sym.sin(theta) * v * w],\n",
    "                [(Jx - Jz + mb * h**2) * sym.cos(theta) * sym.sin(theta) * w**2 + mb * g * h * sym.sin(theta)]])\n",
    "R = sym.Matrix([[1 / r, 1 / r],\n",
    "                [-a / r, a / r],\n",
    "                [-1, -1]])\n",
    "f = sym.simplify(M.inv() * (N + R * sym.Matrix([[tau_L], [tau_R]])))\n",
    "\n",
    "\n",
    "f = sym.Matrix([[v * sym.sin(e_h)],\n",
    "                [w],\n",
    "                [f],\n",
    "                [p]])\n",
    "\n",
    "f"
   ]
  },
  {
   "cell_type": "code",
   "execution_count": 21,
   "id": "b29fadb4",
   "metadata": {},
   "outputs": [
    {
     "name": "stdout",
     "output_type": "stream",
     "text": [
      "[[0.0], [0.0], [0.0], [0.0], [-0.0], [0.0]]\n",
      "(6, 6)\n",
      "6\n",
      "80626342.19766352\n"
     ]
    }
   ],
   "source": [
    "import scipy as sci\n",
    "import scipy.linalg as sla\n",
    "\n",
    "# equilibrium of ve = 1\n",
    "f_num = sym.lambdify([e_l, e_h, v, w, p, theta, tau_R, tau_L], f)\n",
    "e_le = 0.\n",
    "e_he = 0.\n",
    "ve = 1.0\n",
    "we = 0.\n",
    "pe = 0.\n",
    "thetae = 0.\n",
    "tau_Re = 0.\n",
    "tau_Le = 0.\n",
    "print(f_num(e_le, e_he, ve, we, pe, thetae, tau_Re, tau_Le).tolist())\n",
    "\n",
    "\n",
    "#Find A\n",
    "A_num = sym.lambdify((e_l, e_h, v, w, p, theta, tau_R, tau_L), f.jacobian([e_l, e_h, v, w, p, theta]))\n",
    "A = A_num(e_le, e_he, ve, we, pe, thetae, tau_Re, tau_Le).astype(float)\n",
    "\n",
    "#Find B\n",
    "B_num = sym.lambdify((e_l, e_h, v, w, p, theta, tau_R, tau_L), f.jacobian([tau_R, tau_L]))\n",
    "B = B_num(e_le, e_he, ve, we, pe, thetae, tau_Re, tau_Le).astype(float)\n",
    "\n",
    "#Find W\n",
    "a = np.poly(A)[1:]\n",
    "Accf = np.block([[-a], [np.eye(A.shape[1]-1), np.zeros((A.shape[1]-1, 1))]])\n",
    "Bccf = np.block([[np.ones((B.shape[1]))], [np.zeros((A.shape[1]-1, B.shape[1]))]])\n",
    "#print(Bccf)\n",
    "n = A.shape[0]\n",
    "\n",
    "# Initialize W with its first column\n",
    "W = B\n",
    "\n",
    "# Create W one column at a time by iterating over i from 1 to n-1\n",
    "for i in range(1, n):\n",
    "    col = np.linalg.matrix_power(A, i) @ B\n",
    "    W = np.block([W, col])\n",
    "    # Initialize Wccf with its first column\n",
    "\n",
    "# Check if controllable system\n",
    "print(A.shape)\n",
    "print(np.linalg.matrix_rank(W))\n",
    "print(np.linalg.cond(W))\n",
    "\n",
    "Q = 5*np.eye(A.shape[0])\n",
    "# (1 divided by max error)^2 to normalize matrix with all elements\n",
    "R = np.eye(B.shape[1])\n",
    "\n",
    "P = sla.solve_continuous_are(A, B, Q, R)\n",
    "\n",
    "K1 = np.linalg.inv(R) @  B.T @ P\n"
   ]
  },
  {
   "cell_type": "code",
   "execution_count": 6,
   "id": "e8164ad0",
   "metadata": {},
   "outputs": [],
   "source": [
    "class Controller:\n",
    "    def __init__(self, K, e_l, e_h, v, w, p, theta, tau_R, tau_L ):\n",
    "        self.K = K\n",
    "        self.e_le = e_le\n",
    "        self.e_he = e_he\n",
    "        self.ve = ve\n",
    "        self.we = we\n",
    "        self.pe = pe\n",
    "        self.thetae = thetae\n",
    "        self.tau_Re = tau_Re\n",
    "        self.tau_Le = tau_Le\n",
    "    def reset(self):\n",
    "        pass\n",
    "    \n",
    "    def run(\n",
    "            self,\n",
    "            t,\n",
    "            lateral_error,\n",
    "            heading_error,\n",
    "            forward_speed,\n",
    "            turning_rate,\n",
    "            pitch_angle,\n",
    "            pitch_rate,\n",
    "        ):\n",
    "        \n",
    "        x = np.array([\n",
    "            lateral_error - e_le,\n",
    "            heading_error - e_he,\n",
    "            forward_speed - ve,\n",
    "            turning_rate - we,\n",
    "            pitch_angle - thetae,\n",
    "            pitch_rate - pe\n",
    "        ])\n",
    "        \n",
    "        #Find input\n",
    "        u = -self.K @ x\n",
    "    \n",
    "        \n",
    "        #Find actuator command\n",
    "        tau1 = u[0]\n",
    "        tau2 = u[1]\n",
    "        \n",
    "        wheel_torque1 = tau1\n",
    "        wheel_torque2 = tau2\n",
    "        \n",
    "        return wheel_torque1, wheel_torque2\n",
    "        \n",
    "        \n",
    "        \n",
    "K = K1\n",
    "\n"
   ]
  },
  {
   "cell_type": "markdown",
   "id": "bc096551",
   "metadata": {},
   "source": [
    "Create an instance of the controller."
   ]
  },
  {
   "cell_type": "code",
   "execution_count": 7,
   "id": "93300860",
   "metadata": {},
   "outputs": [],
   "source": [
    "controller = Controller(K, e_le, e_he, ve, we, pe, thetae, tau_Re, tau_Le)"
   ]
  },
  {
   "cell_type": "markdown",
   "id": "bcf56b66",
   "metadata": {},
   "source": [
    "Reset the simulator with given initial conditions. You may also change the angular velocity of the station if you like, but - beware! - doing so will change the amount of artificial gravity."
   ]
  },
  {
   "cell_type": "code",
   "execution_count": 19,
   "id": "cf8a455d",
   "metadata": {},
   "outputs": [],
   "source": [
    "simulator.reset(\n",
    "    initial_speed=1.,\n",
    "    initial_lateral_error=0.,\n",
    "    initial_heading_error=0.,\n",
    "    initial_pitch=np.pi/6,\n",
    "    station_velocity=-0.5,\n",
    ")"
   ]
  },
  {
   "cell_type": "markdown",
   "id": "74613036",
   "metadata": {},
   "source": [
    "Reset the controller."
   ]
  },
  {
   "cell_type": "code",
   "execution_count": 17,
   "id": "9a0fa5ff",
   "metadata": {},
   "outputs": [],
   "source": [
    "controller.reset()"
   ]
  },
  {
   "cell_type": "markdown",
   "id": "5f7ffb3f",
   "metadata": {},
   "source": [
    "Choose a camera view from the following options:\n",
    "* `camera_sideview()`\n",
    "* `camera_backview()`\n",
    "* `camera_wideview()`"
   ]
  },
  {
   "cell_type": "code",
   "execution_count": 18,
   "id": "060c00d1",
   "metadata": {},
   "outputs": [],
   "source": [
    "simulator.camera_sideview()"
   ]
  },
  {
   "cell_type": "markdown",
   "id": "c326b31f",
   "metadata": {},
   "source": [
    "Run the simulator."
   ]
  },
  {
   "cell_type": "code",
   "execution_count": 19,
   "id": "63f745f5",
   "metadata": {},
   "outputs": [],
   "source": [
    "data = simulator.run(\n",
    "    controller,           # <-- required (an instance of your Controller class)\n",
    "    max_time=5.0,         # <-- optional (how long you want to run the simulation in seconds)\n",
    "    data_filename=None,   # <-- optional (save data to this file, e.g., 'my_data.json')\n",
    "    video_filename=None,  # <-- optional (save video to this file, e.g., 'my_video.mov')\n",
    ")"
   ]
  },
  {
   "cell_type": "markdown",
   "id": "601a7926",
   "metadata": {},
   "source": [
    "Get, show, and save a snapshot of the simulation after the last time step."
   ]
  },
  {
   "cell_type": "code",
   "execution_count": null,
   "id": "0cff3241",
   "metadata": {},
   "outputs": [],
   "source": [
    "# Get snapshot as height x width x 4 numpy array of RGBA values\n",
    "rgba = simulator.snapshot()\n",
    "\n",
    "# Display snapshot\n",
    "plt.figure(figsize=(8, 8))\n",
    "plt.imshow(rgba)\n",
    "\n",
    "# Save snapshot\n",
    "plt.imsave('my_snapshot.png', rgba)"
   ]
  },
  {
   "cell_type": "markdown",
   "id": "58c95e55",
   "metadata": {},
   "source": [
    "Plot the results."
   ]
  },
  {
   "cell_type": "code",
   "execution_count": null,
   "id": "0ff24bb2",
   "metadata": {},
   "outputs": [],
   "source": [
    "# Create a figure with three subplots, all of which share the same x-axis\n",
    "fig, (ax_pos, ax_vel, ax_pitch, ax_torque) = plt.subplots(4, 1, figsize=(8, 8), sharex=True)\n",
    "\n",
    "# Plot lateral and heading error\n",
    "ax_pos.plot(\n",
    "    data['t'], data['lateral_error'],\n",
    "    label='lateral_error (m)', linewidth=4,\n",
    ")\n",
    "ax_pos.plot(\n",
    "    data['t'], data['heading_error'],\n",
    "    '--', label='heading_error (rad)', linewidth=4,\n",
    ")\n",
    "ax_pos.grid()\n",
    "ax_pos.legend(fontsize=16)\n",
    "ax_pos.tick_params(labelsize=14)\n",
    "\n",
    "# Plot forward speed and turning rate\n",
    "ax_vel.plot(\n",
    "    data['t'], data['forward_speed'],\n",
    "    label='forward speed (m/s)', linewidth=4,\n",
    ")\n",
    "ax_vel.plot(\n",
    "    data['t'], data['turning_rate'],\n",
    "    '--', label='turning rate (rad / s)', linewidth=4,\n",
    ")\n",
    "ax_vel.grid()\n",
    "ax_vel.legend(fontsize=16)\n",
    "ax_vel.tick_params(labelsize=14)\n",
    "\n",
    "# Plot pitch angle and pitch rate\n",
    "ax_pitch.plot(\n",
    "    data['t'], data['pitch_angle'],\n",
    "    label='pitch angle (rad)', linewidth=4,\n",
    ")\n",
    "ax_pitch.plot(\n",
    "    data['t'], data['pitch_rate'],\n",
    "    '--', label='pitch rate (rad)', linewidth=4,\n",
    ")\n",
    "ax_pitch.grid()\n",
    "ax_pitch.legend(fontsize=16)\n",
    "ax_pitch.tick_params(labelsize=14)\n",
    "\n",
    "# Plot torques\n",
    "ax_torque.plot(\n",
    "    data['t'], data['right_wheel_torque_command'],\n",
    "    label='right wheel torque command (N-m)', linewidth=4,\n",
    ")\n",
    "ax_torque.plot(\n",
    "    data['t'], data['right_wheel_torque'],\n",
    "    '--', label='right wheel torque (N-m)', linewidth=4,\n",
    ")\n",
    "ax_torque.plot(\n",
    "    data['t'], data['left_wheel_torque_command'],\n",
    "    label='left wheel torque command (N-m)', linewidth=4,\n",
    ")\n",
    "ax_torque.plot(\n",
    "    data['t'], data['left_wheel_torque'],\n",
    "    '--', label='left wheel torque (N-m)', linewidth=4,\n",
    ")\n",
    "ax_torque.plot(\n",
    "    data['t'], -np.ones_like(data['t']) * simulator.tau_max,\n",
    "    ':', linewidth=4, color='C4', zorder=0,\n",
    ")\n",
    "ax_torque.plot(\n",
    "    data['t'], np.ones_like(data['t']) * simulator.tau_max,\n",
    "    ':', linewidth=4, color='C4', zorder=0,\n",
    ")\n",
    "ax_torque.grid()\n",
    "ax_torque.legend(fontsize=16)\n",
    "ax_torque.tick_params(labelsize=14)\n",
    "ax_torque.set_ylim(-1.2 * simulator.tau_max, 1.2 * simulator.tau_max)\n",
    "\n",
    "# Set x-axis properties (only need to do this on the last\n",
    "# subplot since all subplots share the same x-axis)\n",
    "ax_torque.set_xlabel('time (s)', fontsize=20)\n",
    "ax_torque.set_xlim([data['t'][0], data['t'][-1]])\n",
    "\n",
    "# Make the arrangement of subplots look nice\n",
    "fig.tight_layout()"
   ]
  },
  {
   "cell_type": "markdown",
   "id": "407559d4",
   "metadata": {},
   "source": [
    "Save the figure (without transparent background)."
   ]
  },
  {
   "cell_type": "code",
   "execution_count": null,
   "id": "5d3c1b22",
   "metadata": {},
   "outputs": [],
   "source": [
    "fig.savefig('my_figure.png', facecolor='white', transparent=False)"
   ]
  }
 ],
 "metadata": {
  "kernelspec": {
   "display_name": "Python 3 (ipykernel)",
   "language": "python",
   "name": "python3"
  },
  "language_info": {
   "codemirror_mode": {
    "name": "ipython",
    "version": 3
   },
   "file_extension": ".py",
   "mimetype": "text/x-python",
   "name": "python",
   "nbconvert_exporter": "python",
   "pygments_lexer": "ipython3",
   "version": "3.10.2"
  }
 },
 "nbformat": 4,
 "nbformat_minor": 5
}
