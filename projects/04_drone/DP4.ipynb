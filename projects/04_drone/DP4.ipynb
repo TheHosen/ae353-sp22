{
 "cells": [
  {
   "cell_type": "markdown",
   "id": "middle-acoustic",
   "metadata": {},
   "source": [
    "# DP4: Control of a Drone"
   ]
  },
  {
   "cell_type": "markdown",
   "id": "faced-least",
   "metadata": {},
   "source": [
    "Import all modules used in code"
   ]
  },
  {
   "cell_type": "code",
   "execution_count": 1,
   "id": "informed-qatar",
   "metadata": {},
   "outputs": [],
   "source": [
    "import os\n",
    "import time\n",
    "import numpy as np\n",
    "import matplotlib.pyplot as plt\n",
    "import secrets\n",
    "import ae353_drone\n",
    "import scipy\n",
    "from scipy import linalg\n",
    "from scipy import signal\n",
    "import sympy as sym"
   ]
  },
  {
   "cell_type": "markdown",
   "id": "final-distinction",
   "metadata": {},
   "source": [
    "Produce random number to use as seed for simulator (to reproduce results)"
   ]
  },
  {
   "cell_type": "code",
   "execution_count": 2,
   "id": "ceramic-evanescence",
   "metadata": {},
   "outputs": [
    {
     "name": "stdout",
     "output_type": "stream",
     "text": [
      "1628996061\n"
     ]
    }
   ],
   "source": [
    "seed = secrets.randbits(32)\n",
    "print(seed)"
   ]
  },
  {
   "cell_type": "markdown",
   "id": "environmental-refrigerator",
   "metadata": {},
   "source": [
    "Initialize simulator with the chosen seed"
   ]
  },
  {
   "cell_type": "code",
   "execution_count": 3,
   "id": "needed-motion",
   "metadata": {},
   "outputs": [],
   "source": [
    "seed1 = 1278929124\n",
    "\n",
    "simulator = ae353_drone.Simulator(\n",
    "    display=False,\n",
    "    seed=seed1,\n",
    ")"
   ]
  },
  {
   "cell_type": "markdown",
   "id": "2ceefbc3",
   "metadata": {},
   "source": [
    "# ================== Dynamic model derivation ==================\n",
    "\n",
    "Define physical parameters of the model, these values do not change"
   ]
  },
  {
   "cell_type": "code",
   "execution_count": 4,
   "id": "7310be01",
   "metadata": {},
   "outputs": [],
   "source": [
    "params = {\n",
    "    'm': 0.5,\n",
    "    'Jx': 0.0023,\n",
    "    'Jy': 0.0023,\n",
    "    'Jz': 0.0040,\n",
    "    'l': 0.175,\n",
    "    'g': 9.81,\n",
    "}"
   ]
  },
  {
   "cell_type": "markdown",
   "id": "ec7c816b",
   "metadata": {},
   "source": [
    "Derive equations of motion as per the code provided by Professor Bretl"
   ]
  },
  {
   "cell_type": "code",
   "execution_count": 5,
   "id": "0876dec2",
   "metadata": {
    "scrolled": true
   },
   "outputs": [
    {
     "name": "stdout",
     "output_type": "stream",
     "text": [
      "The equations of motion are:\n"
     ]
    },
    {
     "data": {
      "text/latex": [
       "$\\displaystyle \\left[\\begin{matrix}v_{x} \\cos{\\left(\\psi \\right)} \\cos{\\left(\\theta \\right)} + v_{y} \\left(\\sin{\\left(\\phi \\right)} \\sin{\\left(\\theta \\right)} \\cos{\\left(\\psi \\right)} - \\sin{\\left(\\psi \\right)} \\cos{\\left(\\phi \\right)}\\right) + v_{z} \\left(\\sin{\\left(\\phi \\right)} \\sin{\\left(\\psi \\right)} + \\sin{\\left(\\theta \\right)} \\cos{\\left(\\phi \\right)} \\cos{\\left(\\psi \\right)}\\right)\\\\v_{x} \\sin{\\left(\\psi \\right)} \\cos{\\left(\\theta \\right)} + v_{y} \\left(\\sin{\\left(\\phi \\right)} \\sin{\\left(\\psi \\right)} \\sin{\\left(\\theta \\right)} + \\cos{\\left(\\phi \\right)} \\cos{\\left(\\psi \\right)}\\right) - v_{z} \\left(\\sin{\\left(\\phi \\right)} \\cos{\\left(\\psi \\right)} - \\sin{\\left(\\psi \\right)} \\sin{\\left(\\theta \\right)} \\cos{\\left(\\phi \\right)}\\right)\\\\- v_{x} \\sin{\\left(\\theta \\right)} + v_{y} \\sin{\\left(\\phi \\right)} \\cos{\\left(\\theta \\right)} + v_{z} \\cos{\\left(\\phi \\right)} \\cos{\\left(\\theta \\right)}\\\\\\frac{w_{y} \\sin{\\left(\\phi \\right)} + w_{z} \\cos{\\left(\\phi \\right)}}{\\cos{\\left(\\theta \\right)}}\\\\w_{y} \\cos{\\left(\\phi \\right)} - w_{z} \\sin{\\left(\\phi \\right)}\\\\w_{x} + w_{y} \\sin{\\left(\\phi \\right)} \\tan{\\left(\\theta \\right)} + w_{z} \\cos{\\left(\\phi \\right)} \\tan{\\left(\\theta \\right)}\\\\v_{y} w_{z} - v_{z} w_{y} + \\frac{981 \\sin{\\left(\\theta \\right)}}{100}\\\\- v_{x} w_{z} + v_{z} w_{x} - \\frac{981 \\sin{\\left(\\phi \\right)} \\cos{\\left(\\theta \\right)}}{100}\\\\2 f_{z} + v_{x} w_{y} - v_{y} w_{x} - \\frac{981 \\cos{\\left(\\phi \\right)} \\cos{\\left(\\theta \\right)}}{100}\\\\\\frac{10000 \\tau_{x}}{23} - \\frac{17 w_{y} w_{z}}{23}\\\\\\frac{10000 \\tau_{y}}{23} + \\frac{17 w_{x} w_{z}}{23}\\\\250 \\tau_{z}\\end{matrix}\\right]$"
      ],
      "text/plain": [
       "Matrix([\n",
       "[v_x*cos(psi)*cos(theta) + v_y*(sin(phi)*sin(theta)*cos(psi) - sin(psi)*cos(phi)) + v_z*(sin(phi)*sin(psi) + sin(theta)*cos(phi)*cos(psi))],\n",
       "[v_x*sin(psi)*cos(theta) + v_y*(sin(phi)*sin(psi)*sin(theta) + cos(phi)*cos(psi)) - v_z*(sin(phi)*cos(psi) - sin(psi)*sin(theta)*cos(phi))],\n",
       "[                                                                      -v_x*sin(theta) + v_y*sin(phi)*cos(theta) + v_z*cos(phi)*cos(theta)],\n",
       "[                                                                                                 (w_y*sin(phi) + w_z*cos(phi))/cos(theta)],\n",
       "[                                                                                                              w_y*cos(phi) - w_z*sin(phi)],\n",
       "[                                                                                  w_x + w_y*sin(phi)*tan(theta) + w_z*cos(phi)*tan(theta)],\n",
       "[                                                                                                   v_y*w_z - v_z*w_y + 981*sin(theta)/100],\n",
       "[                                                                                         -v_x*w_z + v_z*w_x - 981*sin(phi)*cos(theta)/100],\n",
       "[                                                                                  2*f_z + v_x*w_y - v_y*w_x - 981*cos(phi)*cos(theta)/100],\n",
       "[                                                                                                           10000*tau_x/23 - 17*w_y*w_z/23],\n",
       "[                                                                                                           10000*tau_y/23 + 17*w_x*w_z/23],\n",
       "[                                                                                                                                250*tau_z]])"
      ]
     },
     "execution_count": 5,
     "metadata": {},
     "output_type": "execute_result"
    }
   ],
   "source": [
    "# components of position (meters)\n",
    "p_x, p_y, p_z = sym.symbols('p_x, p_y, p_z')\n",
    "\n",
    "# yaw, pitch, roll angles (radians)\n",
    "psi, theta, phi = sym.symbols('psi, theta, phi')\n",
    "\n",
    "# components of linear velocity (meters / second)\n",
    "v_x, v_y, v_z = sym.symbols('v_x, v_y, v_z')\n",
    "v_in_body = sym.Matrix([v_x, v_y, v_z])\n",
    "\n",
    "# components of angular velocity (radians / second)\n",
    "w_x, w_y, w_z = sym.symbols('w_x, w_y, w_z')\n",
    "w_in_body = sym.Matrix([w_x, w_y, w_z])\n",
    "\n",
    "# components of net rotor torque\n",
    "tau_x, tau_y, tau_z = sym.symbols('tau_x, tau_y, tau_z')\n",
    "\n",
    "# net rotor force\n",
    "f_z = sym.symbols('f_z')\n",
    "\n",
    "# parameters\n",
    "m = sym.nsimplify(params['m'])\n",
    "Jx = sym.nsimplify(params['Jx'])\n",
    "Jy = sym.nsimplify(params['Jy'])\n",
    "Jz = sym.nsimplify(params['Jz'])\n",
    "l = sym.nsimplify(params['l'])\n",
    "g = sym.nsimplify(params['g'])\n",
    "J = sym.diag(Jx, Jy, Jz)\n",
    "\n",
    "# rotation matrices\n",
    "Rz = sym.Matrix([[sym.cos(psi), -sym.sin(psi), 0], [sym.sin(psi), sym.cos(psi), 0], [0, 0, 1]])\n",
    "Ry = sym.Matrix([[sym.cos(theta), 0, sym.sin(theta)], [0, 1, 0], [-sym.sin(theta), 0, sym.cos(theta)]])\n",
    "Rx = sym.Matrix([[1, 0, 0], [0, sym.cos(phi), -sym.sin(phi)], [0, sym.sin(phi), sym.cos(phi)]])\n",
    "R_body_in_world = Rz @ Ry @ Rx\n",
    "\n",
    "# angular velocity to angular rates\n",
    "ex = sym.Matrix([[1], [0], [0]])\n",
    "ey = sym.Matrix([[0], [1], [0]])\n",
    "ez = sym.Matrix([[0], [0], [1]])\n",
    "M = sym.simplify(sym.Matrix.hstack((Ry @ Rx).T @ ez, Rx.T @ ey, ex).inv(), full=True)\n",
    "\n",
    "# applied forces\n",
    "f_in_body = R_body_in_world.T @ sym.Matrix([[0], [0], [-m * g]]) + sym.Matrix([[0], [0], [f_z]])\n",
    "\n",
    "# applied torques\n",
    "tau_in_body = sym.Matrix([[tau_x], [tau_y], [tau_z]])\n",
    "\n",
    "# equations of motion\n",
    "f = sym.Matrix.vstack(\n",
    "    R_body_in_world * v_in_body,\n",
    "    M * w_in_body,\n",
    "    (1 / m) * (f_in_body - w_in_body.cross(m * v_in_body)),\n",
    "    J.inv() * (tau_in_body - w_in_body.cross(J * w_in_body)),\n",
    ")\n",
    "\n",
    "f = sym.simplify(f, full=True)\n",
    "print('The equations of motion are:')\n",
    "f"
   ]
  },
  {
   "cell_type": "markdown",
   "id": "8fa05a3b",
   "metadata": {},
   "source": [
    "### Linearize dynamic model\n",
    "\n",
    "Find and check equilibirum point"
   ]
  },
  {
   "cell_type": "code",
   "execution_count": 6,
   "id": "90f41ea6",
   "metadata": {},
   "outputs": [
    {
     "name": "stdout",
     "output_type": "stream",
     "text": [
      "Equilibirum is satisfied\n"
     ]
    }
   ],
   "source": [
    "# Ignore scientific notation for small numbers\n",
    "np.set_printoptions(suppress=True)\n",
    "\n",
    "#create lambda function to find equilibrium point\n",
    "f_num = sym.lambdify([p_x, p_y, p_z, psi, theta, phi, v_x, v_y, v_z, w_x, w_y, w_z, tau_x, tau_y, tau_z, f_z], f)\n",
    "\n",
    "#define equilibrium values\n",
    "p_xe = 0.0\n",
    "p_ye = 0.0\n",
    "p_ze = 0.0\n",
    "psie = 0.0\n",
    "thetae = 0.0\n",
    "phie = 0.0\n",
    "v_xe = 0.0\n",
    "v_ye = 0.0\n",
    "v_ze = 0.0\n",
    "w_xe = 0.0\n",
    "w_ye = 0.0\n",
    "w_ze = 0.0\n",
    "tau_xe = 0.0\n",
    "tau_ye = 0.0\n",
    "tau_ze = 0.0\n",
    "f_ze = 9.81/2   # f_ze is not zero since the drone must counteract gravity!\n",
    "\n",
    "\n",
    "#check if equilibirum is satisfied\n",
    "check = f_num(p_xe, p_ye, p_ze, psie, thetae, phie, v_xe, v_ye, v_ze, w_xe, w_ye, w_ze, tau_xe, tau_ye, tau_ze, f_ze)\n",
    "if np.all((check == 0)):\n",
    "    print('Equilibirum is satisfied')\n",
    "else:\n",
    "    print('Check your equilibrium point')"
   ]
  },
  {
   "cell_type": "markdown",
   "id": "df90886b",
   "metadata": {},
   "source": [
    "Find A and B matrices"
   ]
  },
  {
   "cell_type": "code",
   "execution_count": 7,
   "id": "e35057e8",
   "metadata": {
    "scrolled": true
   },
   "outputs": [
    {
     "name": "stdout",
     "output_type": "stream",
     "text": [
      "Your A matrix is:\n",
      "[[ 0.    0.    0.    0.    0.    0.    1.    0.    0.    0.    0.    0.  ]\n",
      " [ 0.    0.    0.    0.    0.    0.    0.    1.    0.    0.    0.    0.  ]\n",
      " [ 0.    0.    0.    0.   -0.    0.   -0.    0.    1.    0.    0.    0.  ]\n",
      " [ 0.    0.    0.    0.    0.    0.    0.    0.    0.    0.    0.    1.  ]\n",
      " [ 0.    0.    0.    0.    0.   -0.    0.    0.    0.    0.    1.   -0.  ]\n",
      " [ 0.    0.    0.    0.    0.    0.    0.    0.    0.    1.    0.    0.  ]\n",
      " [ 0.    0.    0.    0.    9.81  0.    0.    0.   -0.    0.   -0.    0.  ]\n",
      " [ 0.    0.    0.    0.    0.   -9.81 -0.    0.    0.    0.    0.   -0.  ]\n",
      " [ 0.    0.    0.    0.    0.    0.    0.   -0.    0.   -0.    0.    0.  ]\n",
      " [ 0.    0.    0.    0.    0.    0.    0.    0.    0.    0.   -0.   -0.  ]\n",
      " [ 0.    0.    0.    0.    0.    0.    0.    0.    0.    0.    0.    0.  ]\n",
      " [ 0.    0.    0.    0.    0.    0.    0.    0.    0.    0.    0.    0.  ]] \n",
      "\n",
      "Your B matrix is:\n",
      "[[  0.          0.          0.          0.       ]\n",
      " [  0.          0.          0.          0.       ]\n",
      " [  0.          0.          0.          0.       ]\n",
      " [  0.          0.          0.          0.       ]\n",
      " [  0.          0.          0.          0.       ]\n",
      " [  0.          0.          0.          0.       ]\n",
      " [  0.          0.          0.          0.       ]\n",
      " [  0.          0.          0.          0.       ]\n",
      " [  0.          0.          0.          2.       ]\n",
      " [434.7826087   0.          0.          0.       ]\n",
      " [  0.        434.7826087   0.          0.       ]\n",
      " [  0.          0.        250.          0.       ]]\n"
     ]
    }
   ],
   "source": [
    "#----------------Find A----------------#\n",
    "#create lamba function for jacobians\n",
    "A_num = sym.lambdify([p_x, p_y, p_z, psi, theta, phi, v_x, v_y, v_z, w_x, w_y, w_z, tau_x, tau_y, tau_z, f_z], \n",
    "                     f.jacobian([p_x, p_y, p_z, psi, theta, phi, v_x, v_y, v_z, w_x, w_y, w_z]))\n",
    "\n",
    "#evaluate at equilibrium point\n",
    "A = A_num(p_xe, p_ye, p_ze, psie, thetae, phie, v_xe, v_ye, v_ze, w_xe, w_ye, w_ze, tau_xe, tau_ye, \n",
    "          tau_ze, f_ze).astype(float)\n",
    "\n",
    "#----------------Find B----------------#\n",
    "#create lamba function for jacobians\n",
    "B_num = sym.lambdify([p_x, p_y, p_z, psi, theta, phi, v_x, v_y, v_z, w_x, w_y, w_z, tau_x, tau_y, tau_z, f_z], \n",
    "                     f.jacobian([tau_x, tau_y, tau_z, f_z]))\n",
    "\n",
    "#evaluate at equilibrium point\n",
    "B = B_num(p_xe, p_ye, p_ze, psie, thetae, phie, v_xe, v_ye, v_ze, w_xe, w_ye, w_ze, tau_xe, tau_ye, \n",
    "          tau_ze, f_ze).astype(float)\n",
    "\n",
    "\n",
    "#print results\n",
    "print('Your A matrix is:')\n",
    "print(A, '\\n')\n",
    "print('Your B matrix is:')\n",
    "print(B)"
   ]
  },
  {
   "cell_type": "markdown",
   "id": "039e0b02",
   "metadata": {},
   "source": [
    "### Check for controllability"
   ]
  },
  {
   "cell_type": "code",
   "execution_count": 8,
   "id": "152762e1",
   "metadata": {},
   "outputs": [
    {
     "name": "stdout",
     "output_type": "stream",
     "text": [
      "The shape of A is\n",
      "(12, 12) \n",
      "\n",
      "The rank of W_c is\n",
      "12 \n",
      "\n",
      "The system is controllable\n"
     ]
    }
   ],
   "source": [
    "# Create index variable for loop\n",
    "n = A.shape[0]\n",
    "\n",
    "# Initialize W with its first column, where W is the controllability matrix\n",
    "W = B\n",
    "\n",
    "# Create W one column at a time by iterating over i from 1 to n-1\n",
    "for i in range(1, n):\n",
    "    col = np.linalg.matrix_power(A, i) @ B\n",
    "    W = np.block([W, col])\n",
    "\n",
    "# Check if controllable system, the rank must match the shape of A\n",
    "print('The shape of A is')\n",
    "print(A.shape , '\\n')\n",
    "print('The rank of W_c is')\n",
    "print(np.linalg.matrix_rank(W), '\\n')\n",
    "\n",
    "if A.shape[0] == np.linalg.matrix_rank(W):\n",
    "    print('The system is controllable')\n",
    "else:\n",
    "    print('The system is not controllable')"
   ]
  },
  {
   "cell_type": "markdown",
   "id": "dcb94df8",
   "metadata": {},
   "source": [
    "# ================== Sensor model definition ==================\n",
    "\n",
    "Define the sensor model, as provided by Professor Bretl"
   ]
  },
  {
   "cell_type": "code",
   "execution_count": 9,
   "id": "742984a0",
   "metadata": {
    "scrolled": true
   },
   "outputs": [
    {
     "data": {
      "text/latex": [
       "$\\displaystyle \\left[\\begin{matrix}p_{x}\\\\p_{y}\\\\p_{z}\\\\\\psi\\end{matrix}\\right]$"
      ],
      "text/plain": [
       "Matrix([\n",
       "[p_x],\n",
       "[p_y],\n",
       "[p_z],\n",
       "[psi]])"
      ]
     },
     "execution_count": 9,
     "metadata": {},
     "output_type": "execute_result"
    }
   ],
   "source": [
    "g = sym.Matrix([p_x, p_y, p_z, psi])\n",
    "#print g to visualize result\n",
    "g"
   ]
  },
  {
   "cell_type": "markdown",
   "id": "94b93d93",
   "metadata": {},
   "source": [
    "### Linearize sensor model\n",
    "\n",
    "Find and check equilibrium point"
   ]
  },
  {
   "cell_type": "code",
   "execution_count": 10,
   "id": "5af222d7",
   "metadata": {},
   "outputs": [
    {
     "name": "stdout",
     "output_type": "stream",
     "text": [
      "Equilibirum is satisfied\n"
     ]
    }
   ],
   "source": [
    "#create lambda function to find equilibrium point\n",
    "f_num = sym.lambdify([p_x, p_y, p_z, psi], g)\n",
    "\n",
    "#define equilibrium values\n",
    "p_xe = 0.0\n",
    "p_ye = 0.0\n",
    "p_ze = 0.0\n",
    "psie = 0.0\n",
    "\n",
    "#check if equilibirum is satisfied\n",
    "check = f_num(p_xe, p_ye, p_ze, psie)\n",
    "if np.all((check == 0)):\n",
    "    print('Equilibirum is satisfied')\n",
    "else:\n",
    "    print('Check your equilibrium point')"
   ]
  },
  {
   "cell_type": "markdown",
   "id": "c88c6c90",
   "metadata": {},
   "source": [
    "Find C and D matrices"
   ]
  },
  {
   "cell_type": "code",
   "execution_count": 11,
   "id": "0edf9a6a",
   "metadata": {},
   "outputs": [
    {
     "name": "stdout",
     "output_type": "stream",
     "text": [
      "Your C matrix is:\n",
      "[[1. 0. 0. 0. 0. 0. 0. 0. 0. 0. 0. 0.]\n",
      " [0. 1. 0. 0. 0. 0. 0. 0. 0. 0. 0. 0.]\n",
      " [0. 0. 1. 0. 0. 0. 0. 0. 0. 0. 0. 0.]\n",
      " [0. 0. 0. 1. 0. 0. 0. 0. 0. 0. 0. 0.]] \n",
      "\n",
      "Your D matrix is:\n",
      "[[0. 0. 0. 0.]\n",
      " [0. 0. 0. 0.]\n",
      " [0. 0. 0. 0.]\n",
      " [0. 0. 0. 0.]]\n"
     ]
    }
   ],
   "source": [
    "#----------------Find C----------------#\n",
    "#create lamba function for jacobians\n",
    "C_num = sym.lambdify([p_x, p_y, p_z, psi, theta, phi, v_x, v_y, v_z, w_x, w_y, w_z, tau_x, tau_y, tau_z, f_z], \n",
    "                     g.jacobian([p_x, p_y, p_z, psi, theta, phi, v_x, v_y, v_z, w_x, w_y, w_z]))\n",
    "#evaluate at equilibrium point\n",
    "C = C_num(p_xe, p_ye, p_ze, psie, thetae, phie, v_xe, v_ye, v_ze, w_xe, w_ye, w_ze, tau_xe, tau_ye, \n",
    "          tau_ze, f_ze).astype(float)\n",
    "\n",
    "\n",
    "#----------------Find D----------------#\n",
    "#create lamba function for jacobians\n",
    "D_num = sym.lambdify([p_x, p_y, p_z, psi, theta, phi, v_x, v_y, v_z, w_x, w_y, w_z, tau_x, tau_y, tau_z, f_z], \n",
    "                     g.jacobian([tau_x, tau_y, tau_z, f_z]))\n",
    "#evaluate at equilibrium point\n",
    "D = D_num(p_xe, p_ye, p_ze, psie, thetae, phie, v_xe, v_ye, v_ze, w_xe, w_ye, w_ze, tau_xe, tau_ye, \n",
    "          tau_ze, f_ze).astype(float)\n",
    "\n",
    "\n",
    "#print results\n",
    "print('Your C matrix is:')\n",
    "print(C, '\\n')\n",
    "print('Your D matrix is:')\n",
    "print(D)                      #D will be a zero matrix as mentioned in the report, \n",
    "                              #and is not necessary to produce our controller/observer"
   ]
  },
  {
   "cell_type": "markdown",
   "id": "769ef740",
   "metadata": {},
   "source": [
    "### Check for Observability"
   ]
  },
  {
   "cell_type": "code",
   "execution_count": 12,
   "id": "51a192e5",
   "metadata": {},
   "outputs": [
    {
     "name": "stdout",
     "output_type": "stream",
     "text": [
      "The shape of A is\n",
      "(12, 12) \n",
      "\n",
      "The rank of W_o is\n",
      "12 \n",
      "\n",
      "The system is observable\n"
     ]
    }
   ],
   "source": [
    "# Initialize W with its first column, where W is the observability matrix\n",
    "W = C\n",
    "\n",
    "# Create W one row at a time by iterating over i from 1 to n-1\n",
    "for i in range(1, n):\n",
    "    col = C @ np.linalg.matrix_power(A, i)\n",
    "    W = np.block([[W], \n",
    "                  [col]])\n",
    "\n",
    "# Check if observable system, the rank must match the shape of A\n",
    "print('The shape of A is')\n",
    "print(A.shape , '\\n')\n",
    "print('The rank of W_o is')\n",
    "print(np.linalg.matrix_rank(W.T), '\\n')\n",
    "\n",
    "if A.shape[0] == np.linalg.matrix_rank(W.T):\n",
    "    print('The system is observable')\n",
    "else:\n",
    "    print('The system is not observable')"
   ]
  },
  {
   "cell_type": "markdown",
   "id": "039640d8",
   "metadata": {},
   "source": [
    "# =========== Controller and observer design: LQR ==========="
   ]
  },
  {
   "cell_type": "markdown",
   "id": "ab944ef3",
   "metadata": {},
   "source": [
    "Define a function to return the solution to the LQR problem:"
   ]
  },
  {
   "cell_type": "code",
   "execution_count": 13,
   "id": "4f941273",
   "metadata": {},
   "outputs": [],
   "source": [
    "def lqr(A, B ,Q, R):\n",
    "    P = linalg.solve_continuous_are(A, B, Q, R)\n",
    "    K = linalg.inv(R) @ B.T @ P\n",
    "    return K"
   ]
  },
  {
   "cell_type": "markdown",
   "id": "620f2f0c",
   "metadata": {},
   "source": [
    "### Find gain matrix K\n",
    "Define weights:"
   ]
  },
  {
   "cell_type": "code",
   "execution_count": 14,
   "id": "1d6162eb",
   "metadata": {},
   "outputs": [],
   "source": [
    "# Define Qc\n",
    "Qc = np.diag([9., 9., 18., 1., 0.9, 0.9, 1.1, 1.1, 1.1, 2., 2., 2.])\n",
    "\n",
    "# Define Rc\n",
    "Rc = 10*np.diag([1., 1., 1., 1.])"
   ]
  },
  {
   "cell_type": "markdown",
   "id": "b67f02ad",
   "metadata": {},
   "source": [
    "Find gain matrix K"
   ]
  },
  {
   "cell_type": "code",
   "execution_count": 15,
   "id": "45415a86",
   "metadata": {},
   "outputs": [
    {
     "name": "stdout",
     "output_type": "stream",
     "text": [
      "Your K matrix is:\n",
      "[[-0.         -0.9486833  -0.          0.          0.          2.68744805\n",
      "   0.         -0.79358887 -0.          0.4608278  -0.          0.        ]\n",
      " [ 0.9486833  -0.          0.         -0.          2.68744805 -0.\n",
      "   0.79358887  0.         -0.         -0.          0.4608278  -0.        ]\n",
      " [-0.          0.          0.          0.31622777 -0.         -0.\n",
      "  -0.          0.          0.          0.         -0.          0.45003313]\n",
      " [ 0.         -0.          1.34164079  0.         -0.         -0.\n",
      "  -0.          0.          1.20484056 -0.         -0.          0.        ]]\n"
     ]
    }
   ],
   "source": [
    "#Using LQR solver\n",
    "K = lqr(A, B, Qc, Rc)\n",
    "print('Your K matrix is:')\n",
    "print(K)"
   ]
  },
  {
   "cell_type": "markdown",
   "id": "f03e622b",
   "metadata": {},
   "source": [
    "### Find gain matrix L\n",
    "Define weights:"
   ]
  },
  {
   "cell_type": "code",
   "execution_count": 16,
   "id": "c9801ca8",
   "metadata": {},
   "outputs": [],
   "source": [
    "# Define Ro\n",
    "Ro = np.diag([1., 1., 1., 1., 1., 1., 1., 1., 1., 1., 1., 1.])\n",
    "\n",
    "#Define Qo\n",
    "Qo = 2.5*linalg.inv(np.diag([1., 1., 1., 1.]))"
   ]
  },
  {
   "cell_type": "markdown",
   "id": "70740ddd",
   "metadata": {},
   "source": [
    "Find gain matrix L"
   ]
  },
  {
   "cell_type": "code",
   "execution_count": 17,
   "id": "3dfec063",
   "metadata": {
    "scrolled": true
   },
   "outputs": [
    {
     "name": "stdout",
     "output_type": "stream",
     "text": [
      "Your L matrix is:\n",
      "[[ 6.19074455  0.          0.          0.        ]\n",
      " [ 0.          6.19074455  0.          0.        ]\n",
      " [ 0.          0.          2.37955409  0.        ]\n",
      " [ 0.          0.          0.          2.37955409]\n",
      " [ 2.87648914  0.          0.          0.        ]\n",
      " [ 0.         -2.87648914  0.          0.        ]\n",
      " [17.91265902  0.          0.          0.        ]\n",
      " [ 0.         17.91265902  0.          0.        ]\n",
      " [ 0.          0.          1.58113883  0.        ]\n",
      " [ 0.         -1.58113883  0.          0.        ]\n",
      " [ 1.58113883  0.          0.          0.        ]\n",
      " [ 0.          0.          0.          1.58113883]]\n"
     ]
    }
   ],
   "source": [
    "# Using LQR solver making the appropriate replacements\n",
    "L = lqr(A.T, C.T, linalg.inv(Ro), linalg.inv(Qo)).T\n",
    "print('Your L matrix is:')\n",
    "print(L)"
   ]
  },
  {
   "cell_type": "markdown",
   "id": "d9cb6fad",
   "metadata": {},
   "source": [
    "### Check for asymptotic stability\n",
    "\n",
    "Use the separation principle, i.e. check if the controller and obersever closed loop systems are asymptotically stable on their own. If they are, the whole system is asymptotically stable!"
   ]
  },
  {
   "cell_type": "code",
   "execution_count": 18,
   "id": "229bf2ce",
   "metadata": {},
   "outputs": [
    {
     "name": "stdout",
     "output_type": "stream",
     "text": [
      "\n",
      " The eigenvalues of your controller are:\n",
      "\n",
      "[-194.43954011+0.j         -194.43954011+0.j\n",
      " -111.8011627 +0.j           -1.79598031+2.38997786j\n",
      "   -1.79598031-2.38997786j   -1.79598031+2.38997786j\n",
      "   -1.79598031-2.38997786j   -2.32841222+0.j\n",
      "   -2.32841222+0.j           -0.70712092+0.j\n",
      "   -1.20484056+1.10979313j   -1.20484056-1.10979313j]\n",
      "\n",
      " The eigenvalues of your controller are all of negative real part,     \n",
      " therefore the closed-loop system is indeed asymptotically stable\n",
      "\n",
      " The eigenvalues of your observer are:\n",
      "\n",
      "[-1.30070672+2.07143425j -1.30070672-2.07143425j -1.30070672+2.07143425j\n",
      " -1.30070672-2.07143425j -2.587242  +0.j         -2.587242  +0.j\n",
      " -1.18977704+0.40690222j -1.18977704-0.40690222j -1.00208912+0.j\n",
      " -1.00208912-0.j         -1.18977704+0.40690222j -1.18977704-0.40690222j]\n",
      "\n",
      " The eigenvalues of your observer are all of negative real part,     \n",
      " therefore the closed-loop observer is indeed asymptotically stable\n"
     ]
    }
   ],
   "source": [
    "#check eigenvalues to ensure asymptotic stabilty of controller\n",
    "F = A - B@K\n",
    "#find eigenvalues\n",
    "s = linalg.eigvals(F)\n",
    "print('\\n The eigenvalues of your controller are:\\n')\n",
    "print(s)\n",
    "\n",
    "if (s.real < 0).all() == True:\n",
    "    print('\\n The eigenvalues of your controller are all of negative real part, \\\n",
    "    \\n therefore the closed-loop system is indeed asymptotically stable')\n",
    "else:\n",
    "    print('\\n The eigenvalues of your controller are NOT all of negative real part, please refine your Q and R weights')\n",
    "    \n",
    "#check eigenvalues to ensure asymptotic stabilty of observer\n",
    "F = A - L@C\n",
    "#find eigenvalues\n",
    "s = linalg.eigvals(F)\n",
    "print('\\n The eigenvalues of your observer are:\\n')\n",
    "print(s)\n",
    "\n",
    "if (s.real < 0).all() == True:\n",
    "    print('\\n The eigenvalues of your observer are all of negative real part, \\\n",
    "    \\n therefore the closed-loop observer is indeed asymptotically stable')\n",
    "else:\n",
    "    print('\\n The eigenvalues of your observer are NOT all of negative real part, please refine your Q and R weights')"
   ]
  },
  {
   "cell_type": "markdown",
   "id": "strategic-moore",
   "metadata": {},
   "source": [
    "# =========== Define controllers ===========\n",
    "\n",
    "Our drone, Vector:"
   ]
  },
  {
   "cell_type": "code",
   "execution_count": 19,
   "id": "mathematical-emphasis",
   "metadata": {},
   "outputs": [],
   "source": [
    "class Controller:\n",
    "    def __init__(self):\n",
    "        \n",
    "        #pass in variables from before\n",
    "        self.dt = 0.01\n",
    "        self.A = A\n",
    "        self.B = B\n",
    "        self.C = C\n",
    "        self.K = K\n",
    "        self.L = L\n",
    "        self.p_xe = p_xe\n",
    "        self.p_ye = p_ye\n",
    "        self.p_ze = p_ze\n",
    "        self.psie = psie\n",
    "        self.thetae = thetae\n",
    "        self.phie = phie\n",
    "        self.v_xe = v_xe\n",
    "        self.v_ye = v_ye\n",
    "        self.v_ze = v_ze\n",
    "        self.w_xe = w_xe\n",
    "        self.w_ye = w_ye\n",
    "        self.w_ze = w_ze\n",
    "        self.tau_xe = tau_xe\n",
    "        self.tau_ye = tau_ye\n",
    "        self.tau_ze = tau_ze\n",
    "        self.f_ze = f_ze\n",
    "        \n",
    "        \n",
    "        #keep track of state estimate and desired state\n",
    "        self.variables_to_log = ['xhat', 'xdes']\n",
    "        \n",
    "    def get_color(self):\n",
    "        return [0., 1., 0.]\n",
    "\n",
    "    def reset(\n",
    "            self,\n",
    "            p_x_meas, p_y_meas, p_z_meas, # <-- measured position of drone (meters)\n",
    "            yaw_meas,                     # <-- measured yaw angle of drone (radians)\n",
    "        ):\n",
    "        \n",
    "        #initialize state estimate\n",
    "        self.xhat = np.array([p_x_meas, p_y_meas, p_z_meas, yaw_meas, 0., 0., 0., 0., 0., 0., 0., 0.])\n",
    "        self.xdes = np.array([])\n",
    "\n",
    "    def run(\n",
    "            self,\n",
    "            p_x_meas, p_y_meas, p_z_meas, # <-- measured position of drone (meters)\n",
    "            yaw_meas,                     # <-- measured yaw angle of drone (radians)\n",
    "            p_x_ring, p_y_ring, p_z_ring, # <-- center position of next ring (meters)\n",
    "            is_last_ring,                 # <-- True if next ring is the last ring, False otherwise\n",
    "            pos_others,                   # <-- 2d array of size n x 3, where n is the number\n",
    "                                          #     of all *other* drones - the ith row in this array\n",
    "                                          #     has the coordinates [x_i, y_i, z_i], in meters, of\n",
    "                                          #     the ith other drone\n",
    "        ):\n",
    "        \n",
    "        \n",
    "        #define new input\n",
    "        udes = np.array([0.0, 0.0, 0.0, 0.0])\n",
    "        \n",
    "        #define new state\n",
    "        self.xdes = np.array([p_x_ring, p_y_ring, p_z_ring, 0.0, 0.0, 0.0, 0.0, 0.0, 0.0, 0.0, 0.0, 0.0])\n",
    "        \n",
    "        #implement tracking\n",
    "        if is_last_ring == False: #<-----------------------------------if its not the last ring\n",
    "            P_hat = self.xhat[0:3] #<----------------------------------find current position\n",
    "            P_ring = np.array([p_x_ring, p_y_ring, p_z_ring]) #<-------find position of ring\n",
    "            r = 1.20 #<------------------------------------------------define step magnitude\n",
    "        \n",
    "            if np.linalg.norm(P_ring-P_hat) > r: #<----------------------------------if distance to ring is greater than r\n",
    "                pdes = P_hat + r*((P_ring-P_hat)/np.linalg.norm(P_ring-P_hat)) #<----create new desired position\n",
    "                self.xdes[0:3]=pdes #<-----------------------------------------------update desired state with pdes\n",
    "                \n",
    "        else: #<-----------------------------------------------------------------if its last ring\n",
    "            P_hat = self.xhat[0:3] #<--------------------------------------------find current position\n",
    "            P_ring = np.array([p_x_ring, p_y_ring, p_z_ring]) #<-----------------find position of ring\n",
    "            r = 1.7 #<-----------------------------------------------------------define new step magnitude\n",
    "            pdes = P_hat + r*((P_ring-P_hat)/np.linalg.norm(P_ring-P_hat)) #<----create new desired position\n",
    "            self.xdes[0:3]=pdes #<-----------------------------------------------update desired state with pdes\n",
    "        \n",
    "        #implement controller\n",
    "        u = udes -self.K @ (self.xhat - self.xdes)\n",
    "        \n",
    "        #implement observer\n",
    "        y = np.array([p_x_meas, p_y_meas, p_z_meas, yaw_meas]) - np.array([self.p_xe, self.p_ye, self.p_ze, self.psie])\n",
    "        \n",
    "        #update state estimate\n",
    "        self.xhat += self.dt * (self.A@self.xhat + self.B@u - L@(self.C@self.xhat - y))\n",
    "        \n",
    "        #extract actuator commands\n",
    "        tau_x = u[0] + self.tau_xe\n",
    "        tau_y = u[1] + self.tau_ye\n",
    "        tau_z = u[2] + self.tau_ze\n",
    "        f_z = u[3] + self.f_ze\n",
    "\n",
    "        return tau_x, tau_y, tau_z, f_z"
   ]
  },
  {
   "cell_type": "markdown",
   "id": "3f196ed8",
   "metadata": {},
   "source": [
    "Copy of first controller, aka darth Vector: This controller is used to test multiple drones at once"
   ]
  },
  {
   "cell_type": "code",
   "execution_count": 20,
   "id": "75c8050b",
   "metadata": {},
   "outputs": [],
   "source": [
    "class Controller2:\n",
    "    def __init__(self):\n",
    "        \n",
    "        #pass in variables from before\n",
    "        self.dt = 0.01\n",
    "        self.A = A\n",
    "        self.B = B\n",
    "        self.C = C\n",
    "        self.K = K\n",
    "        self.L = L\n",
    "        self.p_xe = p_xe\n",
    "        self.p_ye = p_ye\n",
    "        self.p_ze = p_ze\n",
    "        self.psie = psie\n",
    "        self.thetae = thetae\n",
    "        self.phie = phie\n",
    "        self.v_xe = v_xe\n",
    "        self.v_ye = v_ye\n",
    "        self.v_ze = v_ze\n",
    "        self.w_xe = w_xe\n",
    "        self.w_ye = w_ye\n",
    "        self.w_ze = w_ze\n",
    "        self.tau_xe = tau_xe\n",
    "        self.tau_ye = tau_ye\n",
    "        self.tau_ze = tau_ze\n",
    "        self.f_ze = f_ze\n",
    "        \n",
    "        \n",
    "        #keep track of state estimate and desired state\n",
    "        self.variables_to_log = ['xhat', 'xdes']\n",
    "        \n",
    "    def get_color(self):\n",
    "        return [0., 1., 0.]\n",
    "\n",
    "    def reset(\n",
    "            self,\n",
    "            p_x_meas, p_y_meas, p_z_meas, # <-- measured position of drone (meters)\n",
    "            yaw_meas,                     # <-- measured yaw angle of drone (radians)\n",
    "        ):\n",
    "        \n",
    "        #initialize state estimate\n",
    "        self.xhat = np.array([p_x_meas, p_y_meas, p_z_meas, yaw_meas, 0., 0., 0., 0., 0., 0., 0., 0.])\n",
    "        self.xdes = np.array([])\n",
    "\n",
    "    def run(\n",
    "            self,\n",
    "            p_x_meas, p_y_meas, p_z_meas, # <-- measured position of drone (meters)\n",
    "            yaw_meas,                     # <-- measured yaw angle of drone (radians)\n",
    "            p_x_ring, p_y_ring, p_z_ring, # <-- center position of next ring (meters)\n",
    "            is_last_ring,                 # <-- True if next ring is the last ring, False otherwise\n",
    "            pos_others,                   # <-- 2d array of size n x 3, where n is the number\n",
    "                                          #     of all *other* drones - the ith row in this array\n",
    "                                          #     has the coordinates [x_i, y_i, z_i], in meters, of\n",
    "                                          #     the ith other drone\n",
    "        ):\n",
    "        \n",
    "        \n",
    "        #define new input\n",
    "        udes = np.array([0.0, 0.0, 0.0, 0.0])\n",
    "        \n",
    "        #define new state\n",
    "        self.xdes = np.array([p_x_ring, p_y_ring, p_z_ring, 0.0, 0.0, 0.0, 0.0, 0.0, 0.0, 0.0, 0.0, 0.0])\n",
    "        \n",
    "        #implement tracking\n",
    "        if is_last_ring == False: #<-----------------------------------if its not the last ring\n",
    "            P_hat = self.xhat[0:3] #<----------------------------------find current position\n",
    "            P_ring = np.array([p_x_ring, p_y_ring, p_z_ring]) #<-------find position of ring\n",
    "            r = 1.20 #<------------------------------------------------define step magnitude\n",
    "        \n",
    "            if np.linalg.norm(P_ring-P_hat) > r: #<----------------------------------if distance to ring is greater than r\n",
    "                pdes = P_hat + r*((P_ring-P_hat)/np.linalg.norm(P_ring-P_hat)) #<----create new desired position\n",
    "                self.xdes[0:3]=pdes #<-----------------------------------------------update desired state with pdes\n",
    "                \n",
    "        else: #<-----------------------------------------------------------------if its last ring\n",
    "            P_hat = self.xhat[0:3] #<--------------------------------------------find current position\n",
    "            P_ring = np.array([p_x_ring, p_y_ring, p_z_ring]) #<-----------------find position of ring\n",
    "            r = 1.7 #<-----------------------------------------------------------define new step magnitude\n",
    "            pdes = P_hat + r*((P_ring-P_hat)/np.linalg.norm(P_ring-P_hat)) #<----create new desired position\n",
    "            self.xdes[0:3]=pdes #<-----------------------------------------------update desired state with pdes\n",
    "        \n",
    "        #implement controller\n",
    "        u = udes -self.K @ (self.xhat - self.xdes)\n",
    "        \n",
    "        #compute output\n",
    "        y = np.array([p_x_meas, p_y_meas, p_z_meas, yaw_meas]) - np.array([self.p_xe, self.p_ye, self.p_ze, self.psie])\n",
    "        \n",
    "        #implement observer by updating state estimate\n",
    "        self.xhat += self.dt * (self.A@self.xhat + self.B@u - L@(self.C@self.xhat - y))\n",
    "        \n",
    "        #extract actuator commands\n",
    "        tau_x = u[0] + self.tau_xe\n",
    "        tau_y = u[1] + self.tau_ye\n",
    "        tau_z = u[2] + self.tau_ze\n",
    "        f_z = u[3] + self.f_ze\n",
    "\n",
    "        return tau_x, tau_y, tau_z, f_z"
   ]
  },
  {
   "cell_type": "markdown",
   "id": "7a6981f5",
   "metadata": {},
   "source": [
    "Allow long runtimes and print statements in controller code"
   ]
  },
  {
   "cell_type": "code",
   "execution_count": 21,
   "id": "exceptional-aspect",
   "metadata": {},
   "outputs": [],
   "source": [
    "simulator.set_rules(\n",
    "    error_on_print=False,    \n",
    "    error_on_timeout=False,  \n",
    ")"
   ]
  },
  {
   "cell_type": "markdown",
   "id": "47b02dda",
   "metadata": {},
   "source": [
    "# ======== Test the drone in simulation by itself ========"
   ]
  },
  {
   "cell_type": "code",
   "execution_count": 22,
   "id": "78f15ce1",
   "metadata": {},
   "outputs": [],
   "source": [
    "#----------Inititalize arrays to store data----------#\n",
    "#times until completion\n",
    "t = np.array([])\n",
    "\n",
    "#counters\n",
    "finished = 0\n",
    "collision = 0\n",
    "tooslow = 0\n",
    "ring = np.array([0., 0., 0., 0., 0., 0., 0.])\n",
    "\n",
    "#error between estimated position and actual position\n",
    "err_x_obs = np.array([])\n",
    "err_y_obs = np.array([])\n",
    "err_z_obs = np.array([])\n",
    "\n",
    "#error between actual position and desired position\n",
    "err_x_cont = np.array([])\n",
    "err_y_cont = np.array([])\n",
    "err_z_cont = np.array([])\n",
    "\n",
    "#run times of controller\n",
    "run_time = np.array([])\n",
    "\n",
    "#----------Loop through x simulations----------#\n",
    "x = 200\n",
    "for i in range(x):\n",
    "    \n",
    "    #------Get simulator ready------#\n",
    "    #clear drones to restart simulation\n",
    "    simulator.clear_drones()\n",
    "    #add vector to the race (and prepare to steal da moon)\n",
    "    simulator.add_drone(Controller, '651725086', 'Vector.png')\n",
    "    #reset the drone at random location in start ring\n",
    "    simulator.reset()\n",
    "    #run for 40.0 seconds to ensure drone has enough time to complete race\n",
    "    simulator.run(max_time=40.0)\n",
    "    \n",
    "    #------Get raw data------#\n",
    "    data = simulator.get_data('651725086')\n",
    "    \n",
    "    #----Find error between estimated position and actual position----#\n",
    "    #assemble error for this one simularion\n",
    "    err_x_temp = data['xhat'][:, 0] - data['p_x']\n",
    "    err_y_temp = data['xhat'][:, 1] - data['p_y']\n",
    "    err_z_temp = data['xhat'][:, 2] - data['p_z']\n",
    "    #append error to respective arrays\n",
    "    err_x_obs = np.append(err_x_obs, err_x_temp)\n",
    "    err_y_obs = np.append(err_y_obs, err_y_temp)\n",
    "    err_z_obs = np.append(err_z_obs, err_z_temp)\n",
    "    \n",
    "    #----Find error between actual position and desired position----#\n",
    "    #assemble error for this one simularion\n",
    "    err_x_temp = data['p_x'] - data['xdes'][:, 0]\n",
    "    err_y_temp = data['p_y'] - data['xdes'][:, 1]\n",
    "    err_z_temp = data['p_z'] - data['xdes'][:, 2]\n",
    "    \n",
    "    # Estimated position \n",
    "    #append error to respective arrays\n",
    "    err_x_cont = np.append(err_x_cont, err_x_temp)\n",
    "    err_y_cont = np.append(err_y_cont, err_y_temp)\n",
    "    err_z_cont = np.append(err_z_cont, err_z_temp)\n",
    "    \n",
    "\n",
    "    \n",
    "    #----Check for failure and time until finish----#\n",
    "    (\n",
    "        fail,\n",
    "        finish,\n",
    "        time_finish,\n",
    "    ) = simulator.get_result('651725086')\n",
    "    \n",
    "    \n",
    "    if fail:                           #if it fails, controller run-time exceeded, add to too slow\n",
    "        tooslow = tooslow + 1          \n",
    "    elif finish:                       #if it finished, add to finish counter\n",
    "        finished += 1\n",
    "        t = np.append(t, time_finish)\n",
    "    else:                              #if it doesn't finish, but doesn't fail, drone has collided\n",
    "        if data['is_last_ring'][-1]==True:         # It has collided with the last ring\n",
    "            ring[6]=ring[6] + 1\n",
    "        else:\n",
    "            if data['p_x'][-1]<0.5:   # It has collided with the starting ring\n",
    "                ring[0] = ring[0] + 1\n",
    "            elif data['p_x'][-1]<5.5:  # It has collided with the first ring\n",
    "                ring[1] = ring[1] + 1\n",
    "            elif data['p_x'][-1]<10.5: # It has collided with the second ring\n",
    "                ring[2] = ring[2] + 1\n",
    "            elif data['p_x'][-1]<15.5: # It has collided with the third ring\n",
    "                ring[3] = ring[3] + 1\n",
    "            elif data['p_x'][-1]<20.5: # It has collided with the fourth ring\n",
    "                ring[4] = ring[4] + 1\n",
    "            elif data['p_x'][-1]<25.5: # It has collided with the fifth ring\n",
    "                ring[5] = ring[5] + 1\n",
    "        collision = collision + 1                           \n",
    "    \n",
    "    #append run time to array\n",
    "    run_time = np.append(run_time, data['run_time'])\n",
    "    \n",
    "  "
   ]
  },
  {
   "cell_type": "markdown",
   "id": "359f9bc3",
   "metadata": {},
   "source": [
    "# ======== Evaluate control design ========"
   ]
  },
  {
   "cell_type": "markdown",
   "id": "1ab50938",
   "metadata": {},
   "source": [
    "Check how many finished, how many failed"
   ]
  },
  {
   "cell_type": "code",
   "execution_count": 23,
   "id": "6f0389a2",
   "metadata": {},
   "outputs": [
    {
     "name": "stdout",
     "output_type": "stream",
     "text": [
      "2 drones hit a ring and could not finish\n",
      "       0.0 collided with starting ring\n",
      "       1.0 collided with the first ring\n",
      "       0.0 collided with the second ring\n",
      "       0.0 collided with the third ring\n",
      "       1.0 collided with the fourth ring\n",
      "       0.0 collided with the fifth ring\n",
      "       0.0 collided with the last ring\n",
      "0 drones exceeded computation time\n",
      "198 were able to finish\n"
     ]
    }
   ],
   "source": [
    "print(collision, 'drones hit a ring and could not finish')\n",
    "print('      ', ring[0], 'collided with starting ring')\n",
    "print('      ', ring[1],'collided with the first ring')\n",
    "print('      ', ring[2], 'collided with the second ring')\n",
    "print('      ', ring[3], 'collided with the third ring')\n",
    "print('      ', ring[4], 'collided with the fourth ring')\n",
    "print('      ', ring[5], 'collided with the fifth ring')\n",
    "print('      ', ring[6], 'collided with the last ring')\n",
    "print(tooslow, 'drones exceeded computation time')\n",
    "print(finished, 'were able to finish')"
   ]
  },
  {
   "cell_type": "markdown",
   "id": "f2949600",
   "metadata": {},
   "source": [
    "### How fast the drone completes the race\n",
    "\n",
    "Plot histrogram of finish times to see if the average time of completion meets the requirement. If it does, the control design is working well!"
   ]
  },
  {
   "cell_type": "code",
   "execution_count": 24,
   "id": "0415a23d",
   "metadata": {},
   "outputs": [
    {
     "name": "stdout",
     "output_type": "stream",
     "text": [
      "Average time to completion:  22.201010101010098\n",
      "Percentage of the time that the drone finishes the race:  99.0 %\n"
     ]
    },
    {
     "data": {
      "image/png": "[encoded data removed]",
      "text/plain": [
       "<Figure size 720x504 with 1 Axes>"
      ]
     },
     "metadata": {
      "needs_background": "light"
     },
     "output_type": "display_data"
    }
   ],
   "source": [
    "#Creating histogram\n",
    "fig, ax = plt.subplots(figsize =(10, 7))\n",
    "ax.hist(t, bins = np.arange(20,41, 0.5), color = 'b',label = 'Simulations')\n",
    "ax.set_xlabel(\"Time until completion (s)\", fontsize=26)\n",
    "ax.set_ylabel(\"Count\", fontsize=26)\n",
    "ax.tick_params(labelsize=19)\n",
    "\n",
    "# Find average time until completion\n",
    "mean = np.mean(t)\n",
    "print(\"Average time to completion: \", mean)\n",
    "\n",
    "#print % of race completion\n",
    "percent = finished / x *100\n",
    "print(\"Percentage of the time that the drone finishes the race: \", percent, \"%\")\n",
    "\n",
    "# Plot average time to finish\n",
    "ax.axvline(x = mean, ymin = 0, ymax = .95, linestyle = (0,(3,3)), color = 'g', linewidth = 5, label = 'Average time\\nuntil completion (s)')\n",
    "\n",
    "# Plot requirement of 30 seconds\n",
    "ax.axvline(x = 30, ymin = 0, ymax = 0.95, color = 'r', linestyle = (0,(3,3)), linewidth = 5, label = 'Requirement\\nthreshold (s)' % mean)\n",
    "\n",
    "#legend and grid to make it pretty\n",
    "ax.legend(loc='best', fontsize = 20)\n",
    "ax.grid()\n",
    "\n",
    "#force consistent figure size\n",
    "plt.rcParams.update({'figure.autolayout': True})\n",
    "fig.savefig('Time_Until_Completion.png', facecolor='white', transparent=False)\n",
    "\n",
    "# Show plot\n",
    "plt.show()"
   ]
  },
  {
   "cell_type": "markdown",
   "id": "1249afd2",
   "metadata": {},
   "source": [
    "### How well the controller is working\n",
    "\n",
    "Plot error between actual position and desired position to check how well the controller is working"
   ]
  },
  {
   "cell_type": "code",
   "execution_count": 25,
   "id": "f76a035c",
   "metadata": {
    "scrolled": false
   },
   "outputs": [
    {
     "data": {
      "image/png": "[encoded data removed]",
      "text/plain": [
       "<Figure size 720x504 with 1 Axes>"
      ]
     },
     "metadata": {
      "needs_background": "light"
     },
     "output_type": "display_data"
    }
   ],
   "source": [
    "#Creating histogram\n",
    "fig, ax = plt.subplots(figsize =(10, 7))\n",
    "ax.hist([err_x_cont, err_y_cont, err_z_cont], bins = np.arange(-2.5, 2.5, .3),label = ['x', 'y', 'z'])\n",
    "ax.set_xlabel(\"Error (m)\", fontsize=26)\n",
    "ax.set_ylabel(\"Count\", fontsize=26)\n",
    "ax.tick_params(labelsize=19)\n",
    "ax.ticklabel_format(style='scientific', scilimits=(0, 0), axis='y')\n",
    "ax.yaxis.offsetText.set_fontsize(19)\n",
    "\n",
    "#Plot upper bound of step r\n",
    "ax.axvline(x = -1.7, ymin = 0, ymax = .95, linestyle = (0,(3,3)), color = 'r', linewidth = 5, label = 'Lower bound of r')\n",
    "\n",
    "#Plot lower bound of step r\n",
    "ax.axvline(x = 1.7, ymin = 0, ymax = 0.95, color = 'r', linestyle = (0,(3,3)), linewidth = 5, label = 'Upper bound of r')\n",
    "\n",
    "#legend and grid to make it pretty\n",
    "ax.legend(loc='best', fontsize = 22)\n",
    "ax.grid()\n",
    "\n",
    "#force consistent figure size\n",
    "plt.rcParams.update({'figure.autolayout': True})\n",
    "fig.savefig('Controller.png', facecolor='white', transparent=False)\n",
    "\n",
    "# Show plot\n",
    "plt.show()"
   ]
  },
  {
   "cell_type": "markdown",
   "id": "e55c5a4c",
   "metadata": {},
   "source": [
    "### How well the observer is working\n",
    "\n",
    "Plot error between estimated and actual postion to check how well the oberserver is working"
   ]
  },
  {
   "cell_type": "code",
   "execution_count": 26,
   "id": "b58087b1",
   "metadata": {},
   "outputs": [
    {
     "data": {
      "image/png": "[encoded data removed]",
      "text/plain": [
       "<Figure size 720x504 with 1 Axes>"
      ]
     },
     "metadata": {
      "needs_background": "light"
     },
     "output_type": "display_data"
    }
   ],
   "source": [
    "# Creating histogram\n",
    "fig, ax = plt.subplots(figsize =(10, 7))\n",
    "ax.hist([err_x_obs, err_y_obs, err_z_obs], bins = np.arange(-.1, .1001, 0.01),label = ['x', 'y', 'z'])\n",
    "ax.set_xlabel(\"Error (m)\", fontsize=26)\n",
    "ax.set_ylabel(\"Count\", fontsize=26)\n",
    "ax.tick_params(labelsize=19)\n",
    "ax.ticklabel_format(style='scientific', scilimits=(0, 0), axis='y')\n",
    "ax.yaxis.offsetText.set_fontsize(19)\n",
    "\n",
    "#legend and grid to make it pretty\n",
    "ax.legend(loc='best', fontsize = 22)\n",
    "ax.grid()\n",
    "\n",
    "#force consistent figure size\n",
    "plt.rcParams.update({'figure.autolayout': True})\n",
    "fig.savefig('Observer.png', facecolor='white', transparent=False)\n",
    "\n",
    "# Show plot\n",
    "plt.show()"
   ]
  },
  {
   "cell_type": "markdown",
   "id": "c32a2f27",
   "metadata": {},
   "source": [
    "### How long it takes the controller to run\n",
    "\n",
    "Plot computation time to ensure the controller runs fast enough to avoid disqualification in the race."
   ]
  },
  {
   "cell_type": "code",
   "execution_count": 27,
   "id": "b53742f2",
   "metadata": {},
   "outputs": [
    {
     "data": {
      "image/png": "[encoded data removed]",
      "text/plain": [
       "<Figure size 720x504 with 1 Axes>"
      ]
     },
     "metadata": {
      "needs_background": "light"
     },
     "output_type": "display_data"
    }
   ],
   "source": [
    "#Creating histogram\n",
    "fig, ax = plt.subplots(figsize =(10, 7))\n",
    "ax.hist(run_time, bins = np.arange(0, 0.005, .0001), label = ['x', 'y', 'z'])\n",
    "ax.set_xlabel(\"Computation time (s)\", fontsize=26)\n",
    "ax.set_ylabel(\"Count\", fontsize=26)\n",
    "ax.tick_params(labelsize=19)\n",
    "ax.ticklabel_format(style='scientific', scilimits=(0, 0))\n",
    "ax.yaxis.offsetText.set_fontsize(19)\n",
    "ax.xaxis.offsetText.set_fontsize(19)\n",
    "\n",
    "#legend and grid to make it pretty\n",
    "ax.legend(loc='best', fontsize = 22)\n",
    "ax.grid()\n",
    "\n",
    "#force consistent figure size\n",
    "plt.rcParams.update({'figure.autolayout': True})\n",
    "fig.savefig('Computation.png', facecolor='white', transparent=False)\n",
    "\n",
    "# Show plot\n",
    "plt.show()"
   ]
  },
  {
   "cell_type": "markdown",
   "id": "cognitive-nomination",
   "metadata": {},
   "source": [
    "# ======== Run two drones at once ========"
   ]
  },
  {
   "cell_type": "code",
   "execution_count": 28,
   "id": "82833440",
   "metadata": {},
   "outputs": [],
   "source": [
    "#----------Inititalize arrays to store data----------#\n",
    "#times until completion\n",
    "t = np.array([])\n",
    "\n",
    "#counter to mark how many finish the race\n",
    "finished = 0\n",
    "collision_drone = 0\n",
    "collision_ring = 0\n",
    "tooslow = 0\n",
    "ring = np.array([0., 0., 0., 0., 0., 0., 0.])\n",
    "\n",
    "#error between estimated position and actual position\n",
    "err_x_obs = np.array([])\n",
    "err_y_obs = np.array([])\n",
    "err_z_obs = np.array([])\n",
    "\n",
    "#error between actual position and desired position\n",
    "err_x_cont = np.array([])\n",
    "err_y_cont = np.array([])\n",
    "err_z_cont = np.array([])\n",
    "\n",
    "#run times of controller\n",
    "run_time = np.array([])\n",
    "\n",
    "\n",
    "#----------Loop through x simulations----------#\n",
    "x = 200\n",
    "for i in range(x):\n",
    "    \n",
    "    #------Get simulator ready------#\n",
    "    #clear drones to restart simulation\n",
    "    simulator.clear_drones()\n",
    "    #add vector and darth vector to the race (and prepare to steal da moon)\n",
    "    simulator.add_drone(Controller, '651725086', 'Vector.png')\n",
    "    simulator.add_drone(Controller2, '651725087', 'Vector.png')\n",
    "    #reset the drone at random location in start ring\n",
    "    simulator.reset()\n",
    "    #run for 40.0 seconds to ensure drone has enough time to complete race\n",
    "    simulator.run(max_time=40.0)\n",
    "    \n",
    "    #------Get raw data------#\n",
    "    data = simulator.get_data('651725086')  # Vector's data, what we are analysing\n",
    "    data2 = simulator.get_data('651725087') # Darth Vector's data\n",
    "    \n",
    "    #----Find error between estimated position and actual position----#\n",
    "    #assemble error for this one simularion\n",
    "    err_x_temp = data['xhat'][:, 0] - data['p_x']\n",
    "    err_y_temp = data['xhat'][:, 1] - data['p_y']\n",
    "    err_z_temp = data['xhat'][:, 2] - data['p_z']\n",
    "    #append error to respective arrays\n",
    "    err_x_obs = np.append(err_x_obs, err_x_temp)\n",
    "    err_y_obs = np.append(err_y_obs, err_y_temp)\n",
    "    err_z_obs = np.append(err_z_obs, err_z_temp)\n",
    "    \n",
    "    #----Find error between actual position and desired position----#\n",
    "    #assemble error for this one simularion\n",
    "    err_x_temp = data['p_x'] - data['xdes'][:, 0]\n",
    "    err_y_temp = data['p_y'] - data['xdes'][:, 1]\n",
    "    err_z_temp = data['p_z'] - data['xdes'][:, 2]\n",
    "    #append error to respective arrays\n",
    "    err_x_cont = np.append(err_x_cont, err_x_temp)\n",
    "    err_y_cont = np.append(err_y_cont, err_y_temp)\n",
    "    err_z_cont = np.append(err_z_cont, err_z_temp)\n",
    "\n",
    "    \n",
    "    #----Check for failure and time until finish----#\n",
    "    (\n",
    "        fail,\n",
    "        finish,\n",
    "        time_finish,\n",
    "    ) = simulator.get_result('651725086')\n",
    "    \n",
    "    (\n",
    "        fail2,\n",
    "        finish2,\n",
    "        time_finish2,\n",
    "    ) = simulator.get_result('651725087')\n",
    "    \n",
    "    \n",
    "    if fail:                           #if it fails, controller run-time exceeded, add to too slow\n",
    "        tooslow = tooslow + 1          \n",
    "    elif finish:                       #if it finished, add to finish counter\n",
    "        finished += 1\n",
    "        t = np.append(t, time_finish)\n",
    "    else:                              #if it doesn't finish, but doesn't fail, drone has collided\n",
    "        if fail2==False and finish2==False: #If the drones collide with each other, \n",
    "                                            #both have failed to finish and not have fail\n",
    "            collision_drone = collision_drone + 1\n",
    "        else:\n",
    "            if data['p_x'][-1]<0.5:    # It has collided with the starting ring\n",
    "                ring[0] = ring[0] + 1\n",
    "            elif data['p_x'][-1]<5.5:  # It has collided with the first ring\n",
    "                ring[1] = ring[1] + 1\n",
    "            elif data['p_x'][-1]<10.5: # It has collided with the second ring\n",
    "                ring[2] = ring[2] + 1\n",
    "            elif data['p_x'][-1]<15.5: # It has collided with the third ring\n",
    "                ring[3] = ring[3] + 1\n",
    "            elif data['p_x'][-1]<20.5: # It has collided with the fourth ring\n",
    "                ring[4] = ring[4] + 1\n",
    "            elif data['p_x'][-1]<25.5: # It has collided with the fifth ring\n",
    "                ring[5] = ring[5] + 1\n",
    "            elif data['p_x'][-1]<30.5: # It has collided with the last ring\n",
    "                ring[6] = ring[6] + 1\n",
    "            collision_ring = collision_ring + 1                         \n",
    "    \n",
    "    #append run time to array\n",
    "    run_time = np.append(run_time, data['run_time'])"
   ]
  },
  {
   "cell_type": "markdown",
   "id": "44eafc96",
   "metadata": {},
   "source": [
    "### How fast the drone completes the race\n",
    "\n",
    "Plot histrogram of finish times to see if the average time of completion meets the requirement."
   ]
  },
  {
   "cell_type": "code",
   "execution_count": 29,
   "id": "26a326a8",
   "metadata": {
    "scrolled": false
   },
   "outputs": [
    {
     "name": "stdout",
     "output_type": "stream",
     "text": [
      "Average time to completion:  25.29207547169811\n",
      "Percentage of the time that the drone finishes the race:  26.5 %\n"
     ]
    },
    {
     "data": {
      "image/png": "[encoded data removed]",
      "text/plain": [
       "<Figure size 720x504 with 1 Axes>"
      ]
     },
     "metadata": {
      "needs_background": "light"
     },
     "output_type": "display_data"
    }
   ],
   "source": [
    "#Creating histogram\n",
    "fig, ax = plt.subplots(figsize =(10, 7))\n",
    "ax.hist(t, bins = np.arange(20,41, 0.5), color = 'b',label = 'Simulations')\n",
    "ax.set_xlabel(\"Time until completion (s)\", fontsize=26)\n",
    "ax.set_ylabel(\"Count\", fontsize=26)\n",
    "ax.tick_params(labelsize=19)\n",
    "\n",
    "# Find average time until completion\n",
    "mean = np.mean(t)\n",
    "print(\"Average time to completion: \", mean)\n",
    "\n",
    "#print % of race completion\n",
    "percent = finished / x *100\n",
    "print(\"Percentage of the time that the drone finishes the race: \", percent, \"%\")\n",
    "\n",
    "# Plot average time to finish\n",
    "ax.axvline(x = mean, ymin = 0, ymax = .95, linestyle = (0,(3,3)), color = 'g', linewidth = 5, label = 'Average time\\nuntil completion (s)')\n",
    "\n",
    "# Plot requirement of 30 seconds\n",
    "ax.axvline(x = 30, ymin = 0, ymax = 0.95, color = 'r', linestyle = (0,(3,3)), linewidth = 5, label = 'Requirement\\nthreshold (s)' % mean)\n",
    "\n",
    "#legend and grid to make it pretty\n",
    "ax.legend(loc='best', fontsize = 20)\n",
    "ax.grid()\n",
    "\n",
    "#force consistent figure size\n",
    "plt.rcParams.update({'figure.autolayout': True})\n",
    "fig.savefig('Time_Until_Completion2.png', facecolor='white', transparent=False)\n",
    "\n",
    "# Show plot\n",
    "plt.show()  "
   ]
  },
  {
   "cell_type": "markdown",
   "id": "8ae845b7",
   "metadata": {},
   "source": [
    "Check how many finished, how many failed"
   ]
  },
  {
   "cell_type": "code",
   "execution_count": 30,
   "id": "2000af8d",
   "metadata": {},
   "outputs": [
    {
     "name": "stdout",
     "output_type": "stream",
     "text": [
      "29 drones hit a ring and could not finish\n",
      "       1.0 collided with the first ring\n",
      "       3.0 collided with the second ring\n",
      "       10.0 collided with the third ring\n",
      "       6.0 collided with the fourth ring\n",
      "       5.0 collided with the fifth ring\n",
      "       3.0 collided with the last ring\n",
      "118 drones collided with the other drone\n",
      "0 drones exceeded computation time\n",
      "53 were able to finish\n"
     ]
    }
   ],
   "source": [
    "print(collision_ring, 'drones hit a ring and could not finish')\n",
    "print('      ', ring[0], 'collided with the first ring')\n",
    "print('      ', ring[1], 'collided with the second ring')\n",
    "print('      ', ring[2], 'collided with the third ring')\n",
    "print('      ', ring[3], 'collided with the fourth ring')\n",
    "print('      ', ring[4], 'collided with the fifth ring')\n",
    "print('      ', ring[5], 'collided with the last ring')\n",
    "print(collision_drone, 'drones collided with the other drone')\n",
    "print(tooslow, 'drones exceeded computation time')\n",
    "print(finished, 'were able to finish')"
   ]
  },
  {
   "cell_type": "code",
   "execution_count": null,
   "id": "eb9bcf3d",
   "metadata": {},
   "outputs": [],
   "source": []
  }
 ],
 "metadata": {
  "kernelspec": {
   "display_name": "Python 3 (ipykernel)",
   "language": "python",
   "name": "python3"
  },
  "language_info": {
   "codemirror_mode": {
    "name": "ipython",
    "version": 3
   },
   "file_extension": ".py",
   "mimetype": "text/x-python",
   "name": "python",
   "nbconvert_exporter": "python",
   "pygments_lexer": "ipython3",
   "version": "3.10.2"
  }
 },
 "nbformat": 4,
 "nbformat_minor": 5
}
