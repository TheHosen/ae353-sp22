{
 "cells": [
  {
   "cell_type": "markdown",
   "id": "middle-acoustic",
   "metadata": {},
   "source": [
    "# Spacecraft with reaction wheels and star tracker"
   ]
  },
  {
   "cell_type": "markdown",
   "id": "working-minority",
   "metadata": {},
   "source": [
    "Import modules and configure the notebook."
   ]
  },
  {
   "cell_type": "code",
   "execution_count": 1,
   "id": "informed-qatar",
   "metadata": {},
   "outputs": [],
   "source": [
    "# Standard modules\n",
    "import time\n",
    "import numpy as np\n",
    "import matplotlib.pyplot as plt\n",
    "import sympy as sym\n",
    "import scipy\n",
    "from scipy import linalg\n",
    "from scipy import signal\n",
    "import control\n",
    "\n",
    "# My own script (an interface to the simulator)\n",
    "import ae353_spacecraft"
   ]
  },
  {
   "cell_type": "markdown",
   "id": "ce9c18b3",
   "metadata": {},
   "source": [
    "Create an instance of the `Simulator` class\n",
    "\n",
    "There are two optional arguments:\n",
    "\n",
    "* `display` (`True` or `False`) is whether or not to show the simulation window;\n",
    "* `seed` (an integer, default `None`) is a seed to initialize the random number generator used by the simulator.\n",
    "\n",
    "**You must evaluate this cell only *once*.** If you want to start fresh with a new simulator, you must do `Kernel -> Restart` from the notebook menu first. "
   ]
  },
  {
   "cell_type": "code",
   "execution_count": 2,
   "id": "3b78dbdb",
   "metadata": {},
   "outputs": [],
   "source": [
    "simulator = ae353_spacecraft.Simulator(\n",
    "    display=True,\n",
    "    seed=None,\n",
    ")"
   ]
  },
  {
   "cell_type": "markdown",
   "id": "3f535c17",
   "metadata": {},
   "source": [
    "# Dynamic Model"
   ]
  },
  {
   "cell_type": "code",
   "execution_count": 3,
   "id": "77e2bfa3",
   "metadata": {},
   "outputs": [
    {
     "data": {
      "text/latex": [
       "$\\displaystyle \\left[\\begin{matrix}\\frac{w_{y} \\sin{\\left(\\phi \\right)} + w_{z} \\cos{\\left(\\phi \\right)}}{\\cos{\\left(\\theta \\right)}}\\\\w_{y} \\cos{\\left(\\phi \\right)} - w_{z} \\sin{\\left(\\phi \\right)}\\\\w_{x} + w_{y} \\sin{\\left(\\phi \\right)} \\tan{\\left(\\theta \\right)} + w_{z} \\cos{\\left(\\phi \\right)} \\tan{\\left(\\theta \\right)}\\\\- \\frac{55 \\sqrt{2} \\tau_{1}}{1484} + \\frac{55 \\sqrt{2} \\tau_{2}}{1484} - \\frac{150 w_{y} w_{z}}{371}\\\\- \\frac{55 \\sqrt{2} \\tau_{3}}{1484} + \\frac{55 \\sqrt{2} \\tau_{4}}{1484} + \\frac{150 w_{x} w_{z}}{371}\\\\\\frac{55 \\sqrt{2} \\left(- \\tau_{1} - \\tau_{2} - \\tau_{3} - \\tau_{4}\\right)}{2084}\\end{matrix}\\right]$"
      ],
      "text/plain": [
       "Matrix([\n",
       "[                        (w_y*sin(phi) + w_z*cos(phi))/cos(theta)],\n",
       "[                                     w_y*cos(phi) - w_z*sin(phi)],\n",
       "[         w_x + w_y*sin(phi)*tan(theta) + w_z*cos(phi)*tan(theta)],\n",
       "[-55*sqrt(2)*tau_1/1484 + 55*sqrt(2)*tau_2/1484 - 150*w_y*w_z/371],\n",
       "[-55*sqrt(2)*tau_3/1484 + 55*sqrt(2)*tau_4/1484 + 150*w_x*w_z/371],\n",
       "[                55*sqrt(2)*(-tau_1 - tau_2 - tau_3 - tau_4)/2084]])"
      ]
     },
     "execution_count": 3,
     "metadata": {},
     "output_type": "execute_result"
    }
   ],
   "source": [
    "# Mass and MOI of base\n",
    "mb = 6.\n",
    "Jxb = 10.\n",
    "Jyb = 10.\n",
    "Jzb = 16.\n",
    "\n",
    "# Mass and MOI of each wheel\n",
    "mw = 1.\n",
    "Jxw = 0.075\n",
    "Jyw = 0.075\n",
    "Jzw = 0.125\n",
    "lw = 1.1\n",
    "\n",
    "# Define yaw, pitch, roll yaw angles\n",
    "psi, theta, phi = sym.symbols('psi, theta, phi')\n",
    "\n",
    "# Define angular velocities\n",
    "w_x, w_y, w_z = sym.symbols('w_x, w_y, w_z')\n",
    "\n",
    "# Define torques\n",
    "tau_1, tau_2, tau_3, tau_4 = sym.symbols('tau_1, tau_2, tau_3, tau_4')\n",
    "\n",
    "# Compute resultant torques\n",
    "lt = sym.nsimplify(lw) * sym.sqrt(2) / 2\n",
    "T1 = - tau_1 * sym.Matrix([[lt], [0], [lt]])\n",
    "T2 = - tau_2 * sym.Matrix([[-lt], [0], [lt]])\n",
    "T3 = - tau_3 * sym.Matrix([[0], [lt], [lt]])\n",
    "T4 = - tau_4 * sym.Matrix([[0], [-lt], [lt]])\n",
    "T = T1 + T2 + T3 + T4\n",
    "\n",
    "# Define MOI of spacecraft and wheels together\n",
    "Jx = sym.nsimplify(Jxb + 4 * mw * lw**2)\n",
    "Jy = sym.nsimplify(Jyb + 4 * mw * lw**2)\n",
    "Jz = sym.nsimplify(Jzb + 4 * mw * lw**2)\n",
    "\n",
    "# Define rotation matrices\n",
    "Rz = sym.Matrix([[sym.cos(psi), -sym.sin(psi), 0], [sym.sin(psi), sym.cos(psi), 0], [0, 0, 1]])\n",
    "Ry = sym.Matrix([[sym.cos(theta), 0, sym.sin(theta)], [0, 1, 0], [-sym.sin(theta), 0, sym.cos(theta)]])\n",
    "Rx = sym.Matrix([[1, 0, 0], [0, sym.cos(phi), -sym.sin(phi)], [0, sym.sin(phi), sym.cos(phi)]])\n",
    "\n",
    "# Define the transformation from angular velocity to angular rates\n",
    "ex = sym.Matrix([[1], [0], [0]])\n",
    "ey = sym.Matrix([[0], [1], [0]])\n",
    "ez = sym.Matrix([[0], [0], [1]])\n",
    "M = sym.simplify(sym.Matrix.hstack((Ry @ Rx).T @ ez, Rx.T @ ey, ex).inv(), full=True)\n",
    "\n",
    "# Define euler's equations\n",
    "euler = sym.Matrix([[(1 / Jx) * (T[0] + (Jy - Jz) * w_y * w_z)],\n",
    "                   [(1 / Jy) * (T[1] + (Jz - Jx) * w_z * w_x)],\n",
    "                   [(1 / Jz) * (T[2] + (Jx - Jy) * w_x * w_y)]])\n",
    "\n",
    "# Define equations of motion\n",
    "f = sym.simplify(sym.Matrix.vstack(M * sym.Matrix([[w_x], [w_y], [w_z]]), euler), full=True)\n",
    "\n",
    "f"
   ]
  },
  {
   "cell_type": "markdown",
   "id": "c5e5af33",
   "metadata": {},
   "source": [
    "# Find A and B matrices"
   ]
  },
  {
   "cell_type": "code",
   "execution_count": 4,
   "id": "df3a40d3",
   "metadata": {
    "scrolled": false
   },
   "outputs": [],
   "source": [
    "# equilibrium point test\n",
    "f_num = sym.lambdify([psi, theta, phi, w_x, w_y, w_z, tau_1, tau_2, tau_3, tau_4], f)\n",
    "psie = 0.\n",
    "thetae = 0.\n",
    "phie = 0.\n",
    "w_xe = 0.\n",
    "w_ye = 0.\n",
    "w_ze = 0.\n",
    "tau_1e = 0.\n",
    "tau_2e = 0.\n",
    "tau_3e = 0.\n",
    "tau_4e = 0.\n",
    "\n",
    "\n",
    "\n",
    "#Find A\n",
    "A_num = sym.lambdify([psi, theta, phi, w_x, w_y, w_z, tau_1, tau_2, tau_3, tau_4], f.jacobian([psi, theta, phi, w_x, w_y, w_z]))\n",
    "A = A_num(psie, thetae, phie, w_xe, w_ye, w_ze, tau_1e, tau_2e, tau_3e, tau_4e).astype(float)\n",
    "\n",
    "#Find B\n",
    "B_num = sym.lambdify([psi, theta, phi, w_x, w_y, w_z, tau_1, tau_2, tau_3, tau_4], f.jacobian([tau_1, tau_2, tau_3, tau_4]))\n",
    "B = B_num(psie, thetae, phie, w_xe, w_ye, w_ze, tau_1e, tau_2e, tau_3e, tau_4e).astype(float)"
   ]
  },
  {
   "cell_type": "markdown",
   "id": "6ec85526",
   "metadata": {},
   "source": [
    "# Check for controllability"
   ]
  },
  {
   "cell_type": "code",
   "execution_count": 5,
   "id": "cd8c4768",
   "metadata": {},
   "outputs": [
    {
     "name": "stdout",
     "output_type": "stream",
     "text": [
      "The shape of A is\n",
      "(6, 6) \n",
      "\n",
      "The rank of W_c is\n",
      "6 \n",
      "\n",
      "The system is controllable\n"
     ]
    }
   ],
   "source": [
    "# Create index variable for loop\n",
    "n = A.shape[0]\n",
    "\n",
    "# Initialize W with its first column\n",
    "W = B\n",
    "\n",
    "# Create W one column at a time by iterating over i from 1 to n-1\n",
    "for i in range(1, n):\n",
    "    col = np.linalg.matrix_power(A, i) @ B\n",
    "    W = np.block([W, col])\n",
    "\n",
    "# Check if controllable system\n",
    "print('The shape of A is')\n",
    "print(A.shape , '\\n')\n",
    "print('The rank of W_c is')\n",
    "print(np.linalg.matrix_rank(W), '\\n')\n",
    "\n",
    "if A.shape[0] == np.linalg.matrix_rank(W):\n",
    "    print('The system is controllable')\n",
    "else:\n",
    "    print('The system is not controllable')"
   ]
  },
  {
   "cell_type": "markdown",
   "id": "7dba97df",
   "metadata": {},
   "source": [
    "# Implement LQR to find gain matrix K"
   ]
  },
  {
   "cell_type": "code",
   "execution_count": 6,
   "id": "f0967b3f",
   "metadata": {},
   "outputs": [
    {
     "name": "stdout",
     "output_type": "stream",
     "text": [
      "\n",
      "The final gain matrix K is:\n",
      "\n",
      "[[-15.8113883   -0.         -27.38612788 -22.86920773  -0.\n",
      "  -14.56250738]\n",
      " [-15.8113883   -0.          27.38612788  22.86920773   0.\n",
      "  -14.56250738]\n",
      " [-15.8113883  -22.36067977  -0.          -0.         -20.66688182\n",
      "  -14.56250738]\n",
      " [-15.8113883   22.36067977   0.           0.          20.66688182\n",
      "  -14.56250738]]\n"
     ]
    }
   ],
   "source": [
    "# weight matrix Qc (error)\n",
    "Q_c = np.diag([1., 1., 1., 1., 1., 1.])\n",
    "# weight matrix Rc (effort)\n",
    "R_c = np.eye(B.shape[1])\n",
    "\n",
    "# cost matrix P_c\n",
    "P_c = linalg.solve_continuous_are(A, B, Q_c, R_c)\n",
    "\n",
    "# trivial gain matrix K for theory section\n",
    "K_trivial = linalg.inv(R_c) @ B.T @ P_c\n",
    "np.set_printoptions(suppress=True)\n",
    "\n",
    "###########################################################################\n",
    "\n",
    "# weight matrix Qc (error)\n",
    "Q_c = np.diag([1000., 1000., 1500., 1., 1., 1.])\n",
    "# weight matrix Rc (effort)\n",
    "R_c = np.eye(B.shape[1])\n",
    "\n",
    "# cost matrix P_c\n",
    "P_c = linalg.solve_continuous_are(A, B, Q_c, R_c)\n",
    "\n",
    "# final gain matrix K for resultsction\n",
    "K = linalg.inv(R_c) @ B.T @ P_c\n",
    "np.set_printoptions(suppress=True)\n",
    "print(\"\\nThe final gain matrix K is:\\n\")\n",
    "print(K)"
   ]
  },
  {
   "cell_type": "markdown",
   "id": "6ec3f4c9",
   "metadata": {},
   "source": [
    "# Check for asymptotic stabilty"
   ]
  },
  {
   "cell_type": "code",
   "execution_count": 7,
   "id": "1a9a2e67",
   "metadata": {},
   "outputs": [
    {
     "name": "stdout",
     "output_type": "stream",
     "text": [
      "\n",
      " The real part of eigenvalues for the trivial system are:\n",
      "\n",
      "[-0.1967646383667806, -0.1967646383667806, -0.19604995805552827, -0.19604995805552827, -0.19604995805552783, -0.19604995805552783]\n",
      "\n",
      " The eigenvalues of the trivial system are all of negative real part,     \n",
      " therefore the closed-loop system is indeed asymptotically stable\n"
     ]
    }
   ],
   "source": [
    "# check eigenvalues to ensure asymptotic stabilty for trivial system\n",
    "F = A - B@K_trivial\n",
    "s = linalg.eigvals(F)\n",
    "print('\\n The real part of eigenvalues for the trivial system are:\\n')\n",
    "print(s.real.tolist())\n",
    "\n",
    "if (s.real < 0).all() == True:\n",
    "    print('\\n The eigenvalues of the trivial system are all of negative real part, \\\n",
    "    \\n therefore the closed-loop system is indeed asymptotically stable')\n",
    "else:\n",
    "    print('\\n The eigenvalues of the system are NOT all of negative real part, please refine your Q and R weights')"
   ]
  },
  {
   "cell_type": "code",
   "execution_count": 8,
   "id": "e1388590",
   "metadata": {},
   "outputs": [
    {
     "name": "stdout",
     "output_type": "stream",
     "text": [
      "\n",
      " The eigenvalues of the final system are all of negative real part,     \n",
      " therefore the closed-loop system is indeed asymptotically stable\n"
     ]
    }
   ],
   "source": [
    "# check eigenvalues to ensure asymptotic stabilty for final system\n",
    "F = A - B@K\n",
    "s = linalg.eigvals(F)\n",
    "\n",
    "if (s.real < 0).all() == True:\n",
    "    print('\\n The eigenvalues of the final system are all of negative real part, \\\n",
    "    \\n therefore the closed-loop system is indeed asymptotically stable')"
   ]
  },
  {
   "cell_type": "markdown",
   "id": "817e97a0",
   "metadata": {},
   "source": [
    "# Sensor Model"
   ]
  },
  {
   "cell_type": "code",
   "execution_count": 9,
   "id": "2abd1f85",
   "metadata": {},
   "outputs": [],
   "source": [
    "alpha, delta = sym.symbols('alpha, delta')\n",
    "# Scope radius\n",
    "r = 0.8 / 2.1\n",
    "# Position of star in space frame\n",
    "p_star_in_space = sym.Matrix([[sym.cos(alpha) * sym.cos(delta)],\n",
    "                              [sym.sin(alpha) * sym.cos(delta)],\n",
    "                              [sym.sin(delta)]])\n",
    "\n",
    "# Orientation of body frame in space frame\n",
    "R_body_in_space = Rz * Ry * Rx\n",
    "\n",
    "# Position of star in body frame (assuming origin of body and space frames are the same)\n",
    "p_star_in_body = R_body_in_space.T * p_star_in_space\n",
    "\n",
    "# Position of star in image frame\n",
    "p_star_in_image = (1 / sym.nsimplify(r)) * sym.Matrix([[p_star_in_body[1] / p_star_in_body[0]],\n",
    "                                                       [p_star_in_body[2] / p_star_in_body[0]]])\n",
    "\n",
    "# Sensor model for each star\n",
    "g = sym.simplify(p_star_in_image, full=True)"
   ]
  },
  {
   "cell_type": "markdown",
   "id": "4da9e7d0",
   "metadata": {},
   "source": [
    "# Find C and D matrices"
   ]
  },
  {
   "cell_type": "code",
   "execution_count": 10,
   "id": "56aabf9f",
   "metadata": {},
   "outputs": [
    {
     "name": "stdout",
     "output_type": "stream",
     "text": [
      "[[0. 0. 0. 0.]\n",
      " [0. 0. 0. 0.]\n",
      " [0. 0. 0. 0.]\n",
      " [0. 0. 0. 0.]\n",
      " [0. 0. 0. 0.]\n",
      " [0. 0. 0. 0.]\n",
      " [0. 0. 0. 0.]\n",
      " [0. 0. 0. 0.]\n",
      " [0. 0. 0. 0.]\n",
      " [0. 0. 0. 0.]\n",
      " [0. 0. 0. 0.]\n",
      " [0. 0. 0. 0.]\n",
      " [0. 0. 0. 0.]\n",
      " [0. 0. 0. 0.]]\n",
      "Notice D is zero matrix, this makes sense since g is not dependent on torques. More discussion is included in the report.\n"
     ]
    }
   ],
   "source": [
    "for (i, star) in enumerate(simulator.stars):\n",
    "    #print(f'star {i} : alpha = {star[\"alpha\"]:5.2f} : delta = {star[\"delta\"]:5.2f}')\n",
    "    alphae = star[\"alpha\"]\n",
    "    deltae = star[\"delta\"]\n",
    "\n",
    "    j_num = sym.lambdify((psi, theta, phi, w_x, w_y, w_z, tau_1, tau_2, tau_3, tau_4), g.subs([(alpha, alphae), (delta, deltae)]).jacobian([psi, theta, phi, w_x, w_y, w_z]))\n",
    "    C_star = j_num(psie, thetae, phie, w_xe, w_ye, w_ze, tau_1e, tau_2e, tau_3e, tau_4e).astype(float)\n",
    "    \n",
    "    j_num = sym.lambdify((psi, theta, phi, w_x, w_y, w_z, tau_1, tau_2, tau_3, tau_4), g.subs([(alpha, alphae), (delta, deltae)]).jacobian([tau_1, tau_2, tau_3, tau_4]))\n",
    "    D_star = j_num(psie, thetae, phie, w_xe, w_ye, w_ze, tau_1e, tau_2e, tau_3e, tau_4e).astype(float)\n",
    "    \n",
    "    if i == 0:\n",
    "        C = C_star\n",
    "        D = D_star\n",
    "    else:\n",
    "        C = np.block([[C], [C_star]])\n",
    "        D = np.block([[D], [D_star]])\n",
    "        \n",
    "print(D)\n",
    "print(\"Notice D is zero matrix, this makes sense since g is not dependent on torques. More discussion is included in the report.\")\n",
    "   "
   ]
  },
  {
   "cell_type": "markdown",
   "id": "d376de58",
   "metadata": {},
   "source": [
    "# Check for observability"
   ]
  },
  {
   "cell_type": "code",
   "execution_count": 11,
   "id": "239de3f6",
   "metadata": {},
   "outputs": [
    {
     "name": "stdout",
     "output_type": "stream",
     "text": [
      "The shape of A is\n",
      "(6, 6) \n",
      "\n",
      "The rank of W_o is\n",
      "6 \n",
      "\n",
      "The system is observable\n"
     ]
    }
   ],
   "source": [
    "# Initialize W with its first column\n",
    "W = C.T\n",
    "\n",
    "# Create W one column at a time by iterating over i from 1 to n-1\n",
    "for i in range(1, n):\n",
    "    col = np.linalg.matrix_power(A.T, i) @ C.T\n",
    "    W = np.block([W, \n",
    "                  col])\n",
    "\n",
    "# Check if controllable system\n",
    "print('The shape of A is')\n",
    "print(A.shape , '\\n')\n",
    "print('The rank of W_o is')\n",
    "print(np.linalg.matrix_rank(W), '\\n')\n",
    "\n",
    "if A.shape[0] == np.linalg.matrix_rank(W):\n",
    "    print('The system is observable')\n",
    "else:\n",
    "    print('The system is not observable')"
   ]
  },
  {
   "cell_type": "markdown",
   "id": "0ed4952a",
   "metadata": {},
   "source": [
    "# Implement eigenvalue placement to find L"
   ]
  },
  {
   "cell_type": "code",
   "execution_count": 12,
   "id": "e63f538a",
   "metadata": {},
   "outputs": [
    {
     "name": "stdout",
     "output_type": "stream",
     "text": [
      "\n",
      "The final gain matrix L is:\n",
      "\n",
      "[[-1.08668304 -0.01639625 -1.07585239  0.         -1.08668304  0.01639625\n",
      "  -1.07585239  0.         -1.08668304  0.01639625 -1.07585239  0.\n",
      "  -1.08668304 -0.01639625]\n",
      " [ 0.00877246  0.5888918  -0.          0.58875944 -0.00877246  0.5888918\n",
      "  -0.          0.57561141 -0.00877246  0.5888918  -0.          0.58875944\n",
      "   0.00877246  0.5888918 ]\n",
      " [-0.64928962  0.42889276 -0.64604588  0.         -0.64928962 -0.42889276\n",
      "  -0.          0.          0.64928962  0.42889276  0.64604588  0.\n",
      "   0.64928962 -0.42889276]\n",
      " [-0.32464481  0.21444638 -0.32302294  0.         -0.32464481 -0.21444638\n",
      "  -0.          0.          0.32464481  0.21444638  0.32302294  0.\n",
      "   0.32464481 -0.21444638]\n",
      " [ 0.00797496  0.53535619 -0.          0.53523586 -0.00797496  0.53535619\n",
      "  -0.          0.5232831  -0.00797496  0.53535619 -0.          0.53523586\n",
      "   0.00797496  0.53535619]\n",
      " [-5.43341522 -0.08198124 -5.37926194  0.         -5.43341522  0.08198124\n",
      "  -5.37926194  0.         -5.43341522  0.08198124 -5.37926194  0.\n",
      "  -5.43341522 -0.08198124]]\n"
     ]
    },
    {
     "name": "stderr",
     "output_type": "stream",
     "text": [
      "C:\\Users\\Alec\\anaconda3\\envs\\ae353\\lib\\site-packages\\slycot\\exceptions.py:241: SlycotResultWarning: \n",
      "1 violations of the numerical stability condition\n",
      "``NORM(F) <= 100*NORM(A)/NORM(B)`` occured during the\n",
      "assignment of eigenvalues\n",
      "  warn(globals()[warning](fmessage, iwarn, info))\n"
     ]
    }
   ],
   "source": [
    "#trivial eigenvalue placement referenced in theory section\n",
    "p_trivial = np.array([-1, -1, -1, -1, -1, -1])\n",
    "L_trivial = (control.place_varga(A.T, C.T, p_trivial)).T\n",
    "\n",
    "#final eigenvalue placement for results section\n",
    "p = np.array([-10, -1, -1, -1, -10, -10])\n",
    "L = (control.place_varga(A.T, C.T, p)).T\n",
    "print(\"\\nThe final gain matrix L is:\\n\")\n",
    "print(L)"
   ]
  },
  {
   "cell_type": "markdown",
   "id": "243cd436",
   "metadata": {},
   "source": [
    "# Check for asymptotic stabilty"
   ]
  },
  {
   "cell_type": "code",
   "execution_count": 13,
   "id": "be7dd169",
   "metadata": {},
   "outputs": [
    {
     "name": "stdout",
     "output_type": "stream",
     "text": [
      "\n",
      " The real part of eigenvalues for the trivial system are:\n",
      "\n",
      "[-0.1967646383667806, -0.1967646383667806, -0.19604995805552838, -0.19604995805552838, -0.1960499580555278, -0.1960499580555278, -0.9999999844328011, -1.0000000155671986, -0.9999999771127086, -1.0000000228872923, -1.0000000000000002, -1.0000000000000002]\n",
      "\n",
      " The eigenvalues of the trivial system are all of negative real part,    \n",
      " therefore the closed-loop system is indeed asymptotically stable.     \n",
      " \n",
      " Notice these are the same real part of the eigenvalues from before, demonstrating the separation principle.\n"
     ]
    }
   ],
   "source": [
    "#trivial design for theory section\n",
    "F = np.block([[A - B@K_trivial, -B@K_trivial],\n",
    "             [np.zeros((6, 6)), A - L_trivial@C]])\n",
    "s = linalg.eigvals(F)\n",
    "print('\\n The real part of eigenvalues for the trivial system are:\\n')\n",
    "print(s.real.tolist())\n",
    "\n",
    "if (s.real < 0).all() == True:\n",
    "    print('\\n The eigenvalues of the trivial system are all of negative real part,\\\n",
    "    \\n therefore the closed-loop system is indeed asymptotically stable. \\\n",
    "    \\n \\n Notice these are the same real part of the eigenvalues from before, demonstrating the separation principle.')\n",
    "else:\n",
    "    print('\\n The eigenvalues of the system are NOT all of negative real part, please define new eigenvalues')"
   ]
  },
  {
   "cell_type": "code",
   "execution_count": 14,
   "id": "f6798904",
   "metadata": {},
   "outputs": [
    {
     "name": "stdout",
     "output_type": "stream",
     "text": [
      "\n",
      " The eigenvalues of the final system are all of negative real part,    \n",
      " therefore the closed-loop system is indeed asymptotically stable.\n"
     ]
    }
   ],
   "source": [
    "#final design for theory section\n",
    "F = np.block([[A - B@K, -B@K],\n",
    "             [np.zeros((6, 6)), A - L@C]])\n",
    "s = linalg.eigvals(F)\n",
    "\n",
    "if (s.real < 0).all() == True:\n",
    "    print('\\n The eigenvalues of the final system are all of negative real part,\\\n",
    "    \\n therefore the closed-loop system is indeed asymptotically stable.')"
   ]
  },
  {
   "cell_type": "markdown",
   "id": "52037cb8",
   "metadata": {},
   "source": [
    "# Find positions of star at equilibirum"
   ]
  },
  {
   "cell_type": "code",
   "execution_count": 15,
   "id": "c40ab00d",
   "metadata": {},
   "outputs": [],
   "source": [
    "alphas = np.zeros(7)\n",
    "deltas = np.zeros(7)\n",
    "\n",
    "\n",
    "for (i, star) in enumerate(simulator.stars):\n",
    "    alphae = star[\"alpha\"]\n",
    "    deltae = star[\"delta\"]\n",
    "    \n",
    "    position = g.subs([(psi, 0), (theta, 0), (phi, 0), (alpha, alphae), (delta, deltae)])\n",
    "    position = np.array(position).astype(np.float64).flatten()\n",
    "    \n",
    "    \n",
    "    if i == 0:\n",
    "        positions = position\n",
    "    else:\n",
    "        positions = np.block([[positions],\n",
    "                      [position]])\n",
    "        \n",
    "positions = positions.flatten()\n",
    "    "
   ]
  },
  {
   "cell_type": "markdown",
   "id": "3f9ebffb",
   "metadata": {},
   "source": [
    "# Define a controller"
   ]
  },
  {
   "cell_type": "code",
   "execution_count": 16,
   "id": "bf439d71",
   "metadata": {},
   "outputs": [],
   "source": [
    "class Controller:\n",
    "    def __init__(self, A, B, C, K, L, psie, thetae, phie, w_xe, w_ye, w_ze, tau_1e, tau_2e, tau_3e, tau_4e, positions):\n",
    "        self.dt = 0.01\n",
    "        self.A = A\n",
    "        self.B = B\n",
    "        self.C = C\n",
    "        self.K = K\n",
    "        self.L = L\n",
    "        self.psie = psie\n",
    "        self.thetae = thetae\n",
    "        self.phie = phie\n",
    "        self.w_xe = w_xe\n",
    "        self.w_ye = w_ye\n",
    "        self.w_ze = w_ze\n",
    "        self.tau_1e = tau_1e\n",
    "        self.tau_2e = tau_2e\n",
    "        self.tau_3e = tau_3e\n",
    "        self.tau_4e = tau_4e\n",
    "        self.positions = positions\n",
    "        \n",
    "        self.variables_to_log = ['xhat']\n",
    "        \n",
    "    def reset(self):\n",
    "        self.xhat = np.array([0., 0., 0., 0., 0., 0.])\n",
    "        \n",
    "    \n",
    "    def run(self, t, star_meas):\n",
    "        \"\"\"\n",
    "        star_meas is a 1d array of length 14 - the image coordinates\n",
    "        y_i and z_i of the i'th star (for i = 0, ..., 6) are at index\n",
    "        2*i and 2*i+1 of this array, respectively\n",
    "        \"\"\"\n",
    "        # Find input\n",
    "        u = - self.K @ self.xhat\n",
    "        # Find measurement\n",
    "        y = np.array(star_meas - self.positions)\n",
    "        # Find state estimate\n",
    "        self.xhat += self.dt * (self.A @ self.xhat + self.B @ u - self.L @ ((self.C @ self.xhat - y)))\n",
    "        \n",
    "        # Find actuator command\n",
    "        tau1 = u[0] + self.tau_1e\n",
    "        tau2 = u[1] + self.tau_2e\n",
    "        tau3 = u[2] + self.tau_3e\n",
    "        tau4 = u[3] + self.tau_4e\n",
    "        \n",
    "        # FIXME: replace the following lines\n",
    "        front_torque = tau1\n",
    "        back_torque = tau2\n",
    "        left_torque = tau3\n",
    "        right_torque = tau4\n",
    "        \n",
    "        \n",
    "        return front_torque, back_torque, left_torque, right_torque"
   ]
  },
  {
   "cell_type": "markdown",
   "id": "19c52b8d",
   "metadata": {},
   "source": [
    "# Loop through 200 simulations\n",
    "\n",
    "Sensor noise of 0.1"
   ]
  },
  {
   "cell_type": "code",
   "execution_count": 17,
   "id": "e9fc6510",
   "metadata": {},
   "outputs": [
    {
     "name": "stdout",
     "output_type": "stream",
     "text": [
      "Creating a video with name my_video.mov and fps 25\n",
      " 25 / 250\n",
      " 50 / 250\n",
      " 75 / 250\n",
      " 100 / 250\n",
      " 125 / 250\n",
      " 150 / 250\n",
      " 175 / 250\n",
      " 200 / 250\n",
      " 225 / 250\n",
      " 250 / 250\n",
      "Simulated 250 time steps in 10.1230 seconds (24.6962 time steps per second)\n"
     ]
    }
   ],
   "source": [
    "# Create instance of controller\n",
    "controller = Controller(A, B, C, K, L, psie, thetae, phie, w_xe, w_ye, w_ze, tau_1e, tau_2e, tau_3e, tau_4e, positions)\n",
    "\n",
    "\n",
    "    \n",
    "# Reset simulator with specified conditions\n",
    "simulator.reset(\n",
    "    orientation={\n",
    "        'yaw': 0.,\n",
    "        'pitch': 0.,\n",
    "        'roll': 0.,\n",
    "    },\n",
    "    angular_velocity={\n",
    "        'x': 0.,\n",
    "        'y': 0.,\n",
    "        'z': 0.,\n",
    "    },\n",
    "    scope_noise=0.1,\n",
    ")\n",
    "\n",
    "# Reset controller\n",
    "controller.reset()\n",
    "\n",
    "# Run Simulation\n",
    "data = simulator.run(\n",
    "    controller,           # <-- required (an instance of your Controller class)\n",
    "    max_time=10.0,         # <-- optional (how long you want to run the simulation in seconds)\n",
    "    data_filename=None,   # <-- optional (name of file to which you want data saved, e.g., 'my_data.json')\n",
    "    video_filename='my_video.mov',  # <-- optional (name of file to which you want video saved, e.g., 'my_video.mov')\n",
    "    print_debug=True,    # <-- optional (whether to print debug text - this is recommended when saving video)\n",
    ")"
   ]
  },
  {
   "cell_type": "code",
   "execution_count": null,
   "id": "62981cbb",
   "metadata": {},
   "outputs": [],
   "source": []
  }
 ],
 "metadata": {
  "kernelspec": {
   "display_name": "Python 3 (ipykernel)",
   "language": "python",
   "name": "python3"
  },
  "language_info": {
   "codemirror_mode": {
    "name": "ipython",
    "version": 3
   },
   "file_extension": ".py",
   "mimetype": "text/x-python",
   "name": "python",
   "nbconvert_exporter": "python",
   "pygments_lexer": "ipython3",
   "version": "3.10.2"
  }
 },
 "nbformat": 4,
 "nbformat_minor": 5
}
