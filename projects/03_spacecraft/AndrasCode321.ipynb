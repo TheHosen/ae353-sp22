{
 "cells": [
  {
   "cell_type": "code",
   "execution_count": 1,
   "id": "dadea143",
   "metadata": {},
   "outputs": [],
   "source": [
    "import sympy as sym\n",
    "import numpy as np\n",
    "import time\n",
    "import ae353_spacecraft\n",
    "import matplotlib.pyplot as plt\n",
    "import importlib\n",
    "importlib.reload(ae353_spacecraft)\n",
    "from sympy.physics import mechanics\n",
    "mechanics.init_vprinting()\n",
    "from scipy import linalg\n",
    "from scipy import signal"
   ]
  },
  {
   "cell_type": "code",
   "execution_count": 2,
   "id": "5d8a154b",
   "metadata": {},
   "outputs": [],
   "source": [
    "np.set_printoptions(precision=3, suppress=True)"
   ]
  },
  {
   "cell_type": "code",
   "execution_count": 8,
   "id": "0a1480c8",
   "metadata": {},
   "outputs": [
    {
     "data": {
      "text/latex": [
       "$\\displaystyle \\left[\\begin{matrix}\\frac{w_{y} \\sin{\\left(\\phi \\right)} + w_{z} \\cos{\\left(\\phi \\right)}}{\\cos{\\left(\\theta \\right)}}\\\\w_{y} \\cos{\\left(\\phi \\right)} - w_{z} \\sin{\\left(\\phi \\right)}\\\\w_{x} + w_{y} \\sin{\\left(\\phi \\right)} \\tan{\\left(\\theta \\right)} + w_{z} \\cos{\\left(\\phi \\right)} \\tan{\\left(\\theta \\right)}\\\\- \\frac{55 \\sqrt{2} \\tau_{1}}{1484} + \\frac{55 \\sqrt{2} \\tau_{2}}{1484} - \\frac{150 w_{y} w_{z}}{371}\\\\- \\frac{55 \\sqrt{2} \\tau_{3}}{1484} + \\frac{55 \\sqrt{2} \\tau_{4}}{1484} + \\frac{150 w_{x} w_{z}}{371}\\\\- \\frac{55 \\sqrt{2} \\left(\\tau_{1} + \\tau_{2} + \\tau_{3} + \\tau_{4}\\right)}{2084}\\end{matrix}\\right]$"
      ],
      "text/plain": [
       "⎡         w_y⋅sin(φ) + w_z⋅cos(φ)          ⎤\n",
       "⎢         ───────────────────────          ⎥\n",
       "⎢                  cos(θ)                  ⎥\n",
       "⎢                                          ⎥\n",
       "⎢         w_y⋅cos(φ) - w_z⋅sin(φ)          ⎥\n",
       "⎢                                          ⎥\n",
       "⎢wₓ + w_y⋅sin(φ)⋅tan(θ) + w_z⋅cos(φ)⋅tan(θ)⎥\n",
       "⎢                                          ⎥\n",
       "⎢     55⋅√2⋅τ₁   55⋅√2⋅τ₂   150⋅w_y⋅w_z    ⎥\n",
       "⎢   - ──────── + ──────── - ───────────    ⎥\n",
       "⎢       1484       1484         371        ⎥\n",
       "⎢                                          ⎥\n",
       "⎢      55⋅√2⋅τ₃   55⋅√2⋅τ₄   150⋅wₓ⋅w_z    ⎥\n",
       "⎢    - ──────── + ──────── + ──────────    ⎥\n",
       "⎢        1484       1484        371        ⎥\n",
       "⎢                                          ⎥\n",
       "⎢       -55⋅√2⋅(τ₁ + τ₂ + τ₃ + τ₄)         ⎥\n",
       "⎢       ───────────────────────────        ⎥\n",
       "⎣                   2084                   ⎦"
      ]
     },
     "execution_count": 8,
     "metadata": {},
     "output_type": "execute_result"
    }
   ],
   "source": [
    "#define controller EOM\n",
    "\n",
    "# Mass and MOI of base\n",
    "mb = 6.\n",
    "Jxb = 10.\n",
    "Jyb = 10.\n",
    "Jzb = 16.\n",
    "\n",
    "# Mass and MOI of each wheel\n",
    "mw = 1.\n",
    "Jxw = 0.075\n",
    "Jyw = 0.075\n",
    "Jzw = 0.125\n",
    "lw = 1.1\n",
    "\n",
    "# Define yaw, pitch, roll yaw angles\n",
    "psi, theta, phi = sym.symbols('psi, theta, phi')\n",
    "\n",
    "# Define angular velocities\n",
    "w_x, w_y, w_z = sym.symbols('w_x, w_y, w_z')\n",
    "\n",
    "# Define torques\n",
    "tau_1, tau_2, tau_3, tau_4 = sym.symbols('tau_1, tau_2, tau_3, tau_4')\n",
    "\n",
    "# Compute resultant torques\n",
    "lt = sym.nsimplify(lw) * sym.sqrt(2) / 2\n",
    "T1 = - tau_1 * sym.Matrix([[lt], [0], [lt]])\n",
    "T2 = - tau_2 * sym.Matrix([[-lt], [0], [lt]])\n",
    "T3 = - tau_3 * sym.Matrix([[0], [lt], [lt]])\n",
    "T4 = - tau_4 * sym.Matrix([[0], [-lt], [lt]])\n",
    "T = T1 + T2 + T3 + T4\n",
    "\n",
    "# Define MOI of spacecraft and wheels together\n",
    "Jx = sym.nsimplify(Jxb + 4 * mw * lw**2)\n",
    "Jy = sym.nsimplify(Jyb + 4 * mw * lw**2)\n",
    "Jz = sym.nsimplify(Jzb + 4 * mw * lw**2)\n",
    "\n",
    "# Define rotation matrices\n",
    "Rz = sym.Matrix([[sym.cos(psi), -sym.sin(psi), 0], [sym.sin(psi), sym.cos(psi), 0], [0, 0, 1]])\n",
    "Ry = sym.Matrix([[sym.cos(theta), 0, sym.sin(theta)], [0, 1, 0], [-sym.sin(theta), 0, sym.cos(theta)]])\n",
    "Rx = sym.Matrix([[1, 0, 0], [0, sym.cos(phi), -sym.sin(phi)], [0, sym.sin(phi), sym.cos(phi)]])\n",
    "\n",
    "# Define the transformation from angular velocity to angular rates\n",
    "ex = sym.Matrix([[1], [0], [0]])\n",
    "ey = sym.Matrix([[0], [1], [0]])\n",
    "ez = sym.Matrix([[0], [0], [1]])\n",
    "M = sym.simplify(sym.Matrix.hstack((Ry @ Rx).T @ ez, Rx.T @ ey, ex).inv(), full=True)\n",
    "\n",
    "# Define euler's equations\n",
    "euler = sym.Matrix([[(1 / Jx) * (T[0] + (Jy - Jz) * w_y * w_z)],\n",
    "                   [(1 / Jy) * (T[1] + (Jz - Jx) * w_z * w_x)],\n",
    "                   [(1 / Jz) * (T[2] + (Jx - Jy) * w_x * w_y)]])\n",
    "\n",
    "# Define equations of motion\n",
    "f = sym.simplify(sym.Matrix.vstack(M * sym.Matrix([[w_x], [w_y], [w_z]]), euler), full=True)\n",
    "\n",
    "f"
   ]
  },
  {
   "cell_type": "code",
   "execution_count": null,
   "id": "7841431c",
   "metadata": {},
   "outputs": [],
   "source": [
    "#Define obs eom\n",
    "\n"
   ]
  },
  {
   "cell_type": "code",
   "execution_count": 9,
   "id": "6159c114",
   "metadata": {},
   "outputs": [
    {
     "name": "stdout",
     "output_type": "stream",
     "text": [
      "[[ 0.]\n",
      " [ 0.]\n",
      " [ 0.]\n",
      " [ 0.]\n",
      " [ 0.]\n",
      " [-0.]]\n",
      "[[ 0.     0.     0.     0.     0.841  0.54 ]\n",
      " [ 0.     0.    -0.     0.     0.54  -0.841]\n",
      " [ 0.     0.     0.     1.     0.     0.   ]\n",
      " [ 0.     0.     0.     0.    -0.    -0.   ]\n",
      " [ 0.     0.     0.     0.     0.     0.   ]\n",
      " [ 0.     0.     0.     0.     0.     0.   ]]\n",
      "[[ 0.     0.     0.     0.   ]\n",
      " [ 0.     0.     0.     0.   ]\n",
      " [ 0.     0.     0.     0.   ]\n",
      " [-0.052  0.052  0.     0.   ]\n",
      " [ 0.     0.    -0.052  0.052]\n",
      " [-0.037 -0.037 -0.037 -0.037]]\n"
     ]
    }
   ],
   "source": [
    "# equilibrium point test\n",
    "f_num = sym.lambdify([psi, theta, phi, w_x, w_y, w_z, tau_1, tau_2, tau_3, tau_4], f)\n",
    "psie = 0.\n",
    "thetae = 0.\n",
    "phie = 1.0\n",
    "w_xe = 0.\n",
    "w_ye = 0.\n",
    "w_ze = 0.\n",
    "tau_1e = 0.\n",
    "tau_2e = 0.\n",
    "tau_3e = 0.\n",
    "tau_4e = 0.\n",
    "   \n",
    "print(f_num(psie, thetae, phie, w_xe, w_ye, w_ze, tau_1e, tau_2e, tau_3e, tau_4e))\n",
    "\n",
    "\n",
    "#Find A\n",
    "A_num = sym.lambdify([psi, theta, phi, w_x, w_y, w_z, tau_1, tau_2, tau_3, tau_4], f.jacobian([psi, theta, phi, w_x, w_y, w_z]))\n",
    "A = A_num(psie, thetae, phie, w_xe, w_ye, w_ze, tau_1e, tau_2e, tau_3e, tau_4e).astype(float)\n",
    "\n",
    "#Find B\n",
    "B_num = sym.lambdify([psi, theta, phi, w_x, w_y, w_z, tau_1, tau_2, tau_3, tau_4], f.jacobian([tau_1, tau_2, tau_3, tau_4]))\n",
    "B = B_num(psie, thetae, phie, w_xe, w_ye, w_ze, tau_1e, tau_2e, tau_3e, tau_4e).astype(float)\n",
    "\n",
    "print(A)\n",
    "print(B)"
   ]
  },
  {
   "cell_type": "markdown",
   "id": "99459416",
   "metadata": {},
   "source": [
    "Using LQR to find an optimal gain matrix, K:\n",
    "Define weight matrices Q_c, R_c"
   ]
  },
  {
   "cell_type": "code",
   "execution_count": 1,
   "id": "7a906541",
   "metadata": {},
   "outputs": [
    {
     "ename": "NameError",
     "evalue": "name 'np' is not defined",
     "output_type": "error",
     "traceback": [
      "\u001b[1;31m---------------------------------------------------------------------------\u001b[0m",
      "\u001b[1;31mNameError\u001b[0m                                 Traceback (most recent call last)",
      "Input \u001b[1;32mIn [1]\u001b[0m, in \u001b[0;36m<module>\u001b[1;34m\u001b[0m\n\u001b[0;32m      1\u001b[0m \u001b[38;5;66;03m# weight matrix Qc (error)\u001b[39;00m\n\u001b[1;32m----> 2\u001b[0m Q_c \u001b[38;5;241m=\u001b[39m \u001b[43mnp\u001b[49m\u001b[38;5;241m.\u001b[39mdiag([\u001b[38;5;241m1000.\u001b[39m, \u001b[38;5;241m1000.\u001b[39m, \u001b[38;5;241m1000.\u001b[39m, \u001b[38;5;241m1.\u001b[39m, \u001b[38;5;241m1.\u001b[39m, \u001b[38;5;241m1.\u001b[39m])\n\u001b[0;32m      3\u001b[0m \u001b[38;5;28mprint\u001b[39m(Q_c)\n\u001b[0;32m      4\u001b[0m \u001b[38;5;66;03m# weight matrix Rc (effort)\u001b[39;00m\n",
      "\u001b[1;31mNameError\u001b[0m: name 'np' is not defined"
     ]
    }
   ],
   "source": [
    "# weight matrix Qc (error)\n",
    "Q_c = np.diag([1000., 1000., 1000., 1., 1., 1.])\n",
    "print(Q_c)\n",
    "# weight matrix Rc (effort)\n",
    "R_c = np.eye(B.shape[1])\n",
    "print(R_c)\n",
    "\n",
    "# cost matrix P_c\n",
    "P_c = linalg.solve_continuous_are(A, B, Q_c, R_c)\n",
    "\n",
    "# controller gain matrix K\n",
    "K = linalg.inv(R_c) @ B.T @ P_c\n",
    "\n",
    "\n",
    "print('Your optimal gain matrix is:\\n')\n",
    "print(K1)\n",
    "\n",
    "# check eigenvalues to ensure asymptotic stabilty\n",
    "F = A - B@K1\n",
    "s = sla.eigvals(F)\n",
    "print('\\n The eigenvalues of your system are:\\n')\n",
    "print(s)\n",
    "\n",
    "if (s.real < 0).all() == True:\n",
    "    print('\\n The eigenvalues of your system are all of negative real part, \\\n",
    "    \\n therefore the closed-loop system is indeed asymptotically stable')\n",
    "else:\n",
    "    print('\\n The eigenvalues of your system are NOT all of negative real part, please refine your Q and R weights')\n"
   ]
  },
  {
   "cell_type": "code",
   "execution_count": 11,
   "id": "1b5e8048",
   "metadata": {},
   "outputs": [
    {
     "name": "stdout",
     "output_type": "stream",
     "text": [
      "[-1.087 -1.087 -1.083 -1.083 -1.083 -1.083]\n",
      "Asymptotically stable: True\n"
     ]
    }
   ],
   "source": [
    "#check asymptotic stability\n",
    "# get eigenvalues of ABK\n",
    "eig_c = linalg.eigvals(A-B@K)\n",
    "# display the real eigenvalues of ABK\n",
    "print(eig_c.real)\n",
    "\n",
    "# display a fancy statement of asymptotic stability\n",
    "print('Asymptotically stable: ' + str((eig_c.real < 0).all()))"
   ]
  },
  {
   "cell_type": "code",
   "execution_count": null,
   "id": "29036e04",
   "metadata": {},
   "outputs": [],
   "source": [
    "alpha, delta = sym.symbols('alpha, delta')\n",
    "# Scope radius\n",
    "r = 0.8 / 2.1\n",
    "# Position of star in space frame\n",
    "p_star_in_space = sym.Matrix([[sym.cos(alpha) * sym.cos(delta)],\n",
    "                              [sym.sin(alpha) * sym.cos(delta)],\n",
    "                              [sym.sin(delta)]])\n",
    "\n",
    "# Orientation of body frame in space frame\n",
    "R_body_in_space = Rz * Ry * Rx\n",
    "\n",
    "# Position of star in body frame (assuming origin of body and space frames are the same)\n",
    "p_star_in_body = R_body_in_space.T * p_star_in_space\n",
    "\n",
    "# Position of star in image frame\n",
    "p_star_in_image = (1 / sym.nsimplify(r)) * sym.Matrix([[p_star_in_body[1] / p_star_in_body[0]],\n",
    "                                                       [p_star_in_body[2] / p_star_in_body[0]]])\n",
    "\n",
    "# Sensor model for each star\n",
    "g = sym.simplify(p_star_in_image, full=True)\n",
    "\n",
    "for (i, star) in enumerate(simulator.stars):\n",
    "    #print(f'star {i} : alpha = {star[\"alpha\"]:5.2f} : delta = {star[\"delta\"]:5.2f}')\n",
    "    alphae = star[\"alpha\"]\n",
    "    deltae = star[\"delta\"]\n",
    "\n",
    "    g.subs([(psi, 0), (theta, 0), (phi, 0), (alpha, alphae), (delta, deltae)]).tolist()\n",
    "\n",
    "    j_num = sym.lambdify((psi, theta, phi, w_x, w_y, w_z), g.subs([(alpha, alphae), (delta, deltae)]).jacobian([psi, theta, phi, w_x, w_y, w_z]))\n",
    "    C = j_num(0, 0, 0, 0, 0, 0).astype(float)\n",
    "    print(C.tolist())"
   ]
  },
  {
   "cell_type": "code",
   "execution_count": 12,
   "id": "7a135c86",
   "metadata": {},
   "outputs": [
    {
     "name": "stdout",
     "output_type": "stream",
     "text": [
      "[[1. 0. 0. 0. 0. 0.]\n",
      " [0. 1. 0. 0. 0. 0.]\n",
      " [0. 0. 1. 0. 0. 0.]\n",
      " [0. 0. 0. 1. 0. 0.]\n",
      " [0. 0. 0. 0. 1. 0.]\n",
      " [0. 0. 0. 0. 0. 1.]]\n",
      "[[1. 0. 0. 0. 0. 0.]\n",
      " [0. 1. 0. 0. 0. 0.]\n",
      " [0. 0. 1. 0. 0. 0.]\n",
      " [0. 0. 0. 1. 0. 0.]\n",
      " [0. 0. 0. 0. 1. 0.]\n",
      " [0. 0. 0. 0. 0. 1.]]\n"
     ]
    },
    {
     "ename": "NameError",
     "evalue": "name 'C' is not defined",
     "output_type": "error",
     "traceback": [
      "\u001b[1;31m---------------------------------------------------------------------------\u001b[0m",
      "\u001b[1;31mNameError\u001b[0m                                 Traceback (most recent call last)",
      "Input \u001b[1;32mIn [12]\u001b[0m, in \u001b[0;36m<module>\u001b[1;34m\u001b[0m\n\u001b[0;32m      8\u001b[0m \u001b[38;5;28mprint\u001b[39m(R_o)\n\u001b[0;32m     10\u001b[0m \u001b[38;5;66;03m# cost matrix P_c\u001b[39;00m\n\u001b[1;32m---> 11\u001b[0m P_o \u001b[38;5;241m=\u001b[39m linalg\u001b[38;5;241m.\u001b[39msolve_continuous_are(A\u001b[38;5;241m.\u001b[39mT, \u001b[43mC\u001b[49m\u001b[38;5;241m.\u001b[39mT, linalg\u001b[38;5;241m.\u001b[39minv(R_o), linalg\u001b[38;5;241m.\u001b[39minv(Q_o))\n\u001b[0;32m     13\u001b[0m \u001b[38;5;66;03m# observer injection matrix L\u001b[39;00m\n\u001b[0;32m     14\u001b[0m L \u001b[38;5;241m=\u001b[39m P_o \u001b[38;5;241m@\u001b[39m C\u001b[38;5;241m.\u001b[39mT \u001b[38;5;241m@\u001b[39m Q_o\n",
      "\u001b[1;31mNameError\u001b[0m: name 'C' is not defined"
     ]
    }
   ],
   "source": [
    "#LQR for obs (L)\n",
    "\n",
    "# weight matrix Qo ﴾sensor noise﴿\n",
    "Q_o = np.diag([1., 1., 1., 1., 1., 1.])\n",
    "print(Q_o)\n",
    "# weight matrix Ro ﴾process noise﴿\n",
    "R_o = np.diag([1., 1., 1., 1., 1., 1.])\n",
    "print(R_o)\n",
    "\n",
    "# cost matrix P_c\n",
    "P_o = linalg.solve_continuous_are(A.T, C.T, linalg.inv(R_o), linalg.inv(Q_o))\n",
    "\n",
    "# observer injection matrix L\n",
    "L = P_o @ C.T @ Q_o\n",
    "print('L (observer injection matrix)')\n",
    "print(L)"
   ]
  },
  {
   "cell_type": "code",
   "execution_count": 13,
   "id": "b2a008c7",
   "metadata": {},
   "outputs": [
    {
     "ename": "NameError",
     "evalue": "name 'L' is not defined",
     "output_type": "error",
     "traceback": [
      "\u001b[1;31m---------------------------------------------------------------------------\u001b[0m",
      "\u001b[1;31mNameError\u001b[0m                                 Traceback (most recent call last)",
      "Input \u001b[1;32mIn [13]\u001b[0m, in \u001b[0;36m<module>\u001b[1;34m\u001b[0m\n\u001b[0;32m      1\u001b[0m \u001b[38;5;66;03m#check asym stable\u001b[39;00m\n\u001b[0;32m      2\u001b[0m \u001b[38;5;66;03m# get eigenvalues of ALC\u001b[39;00m\n\u001b[1;32m----> 3\u001b[0m eig_o \u001b[38;5;241m=\u001b[39m linalg\u001b[38;5;241m.\u001b[39meigvals(A\u001b[38;5;241m-\u001b[39m\u001b[43mL\u001b[49m\u001b[38;5;129m@C\u001b[39m)\n\u001b[0;32m      4\u001b[0m \u001b[38;5;66;03m# display the real eigenvalues of ABK\u001b[39;00m\n\u001b[0;32m      5\u001b[0m \u001b[38;5;28mprint\u001b[39m(eig_o\u001b[38;5;241m.\u001b[39mreal)\n",
      "\u001b[1;31mNameError\u001b[0m: name 'L' is not defined"
     ]
    }
   ],
   "source": [
    "#check asym stable\n",
    "# get eigenvalues of ALC\n",
    "eig_o = linalg.eigvals(A-L@C)\n",
    "# display the real eigenvalues of ABK\n",
    "print(eig_o.real)\n",
    "# display a fancy statement of asymptotic stability\n",
    "print('Asymptotically stable: ' + str((eig_o.real < 0).all()))"
   ]
  },
  {
   "cell_type": "code",
   "execution_count": null,
   "id": "3031f695",
   "metadata": {},
   "outputs": [],
   "source": []
  }
 ],
 "metadata": {
  "kernelspec": {
   "display_name": "Python 3 (ipykernel)",
   "language": "python",
   "name": "python3"
  },
  "language_info": {
   "codemirror_mode": {
    "name": "ipython",
    "version": 3
   },
   "file_extension": ".py",
   "mimetype": "text/x-python",
   "name": "python",
   "nbconvert_exporter": "python",
   "pygments_lexer": "ipython3",
   "version": "3.10.2"
  }
 },
 "nbformat": 4,
 "nbformat_minor": 5
}
