{
 "cells": [
  {
   "cell_type": "markdown",
   "id": "middle-acoustic",
   "metadata": {},
   "source": [
    "# Control of a \"spacecraft\" platform with a reaction wheel"
   ]
  },
  {
   "cell_type": "code",
   "execution_count": 1,
   "id": "dimensional-contamination",
   "metadata": {},
   "outputs": [
    {
     "name": "stderr",
     "output_type": "stream",
     "text": [
      "pybullet build time: Dec 10 2021 09:55:58\n"
     ]
    }
   ],
   "source": [
    "# These are standard modules\n",
    "import time\n",
    "import numpy as np\n",
    "from scipy import linalg\n",
    "from scipy import signal\n",
    "import sympy as sym\n",
    "import matplotlib.pyplot as plt\n",
    "from IPython.display import display, Latex, Markdown\n",
    "\n",
    "# This is a custom interface to the pybullet simulator\n",
    "import ae353_platform\n",
    "\n",
    "# Suppress the use of scientific notation when printing small numbers\n",
    "np.set_printoptions(suppress=True)"
   ]
  },
  {
   "cell_type": "markdown",
   "id": "73b3d8cb",
   "metadata": {},
   "source": [
    "Given a choice of ground roll angle $\\phi$, the equations of motion are\n",
    "\n",
    "$$\n",
    "\\begin{aligned}\n",
    "J_1 \\ddot{q}_1 &= \\tau - m_wgl\\sin(q_1)\\sin(\\phi) \\\\\n",
    "J_2 \\dot{v}_2 &= - \\left( \\dfrac{J_1 + J_2}{J_1} \\right) \\tau + \\left( \\dfrac{J_2}{J_1} \\right) m_wgl\\sin(q_1)\\sin(\\phi)\n",
    "\\end{aligned}\n",
    "$$\n",
    "\n",
    "where\n",
    "\n",
    "* $q_1$ is the platform angle\n",
    "* $\\dot{q}_1$ is the platform velocity\n",
    "* $v_2$ is the wheel velocity\n",
    "* $\\tau$ is the torque applied *to* the platform *by* the wheel\n",
    "\n",
    "and\n",
    "\n",
    "$$\n",
    "J_1 = J_p + m_wl^2\n",
    "\\qquad\n",
    "\\qquad\n",
    "J_2 = J_w\n",
    "$$\n",
    "\n",
    "and parameter values are defined as follows:"
   ]
  },
  {
   "cell_type": "code",
   "execution_count": 2,
   "id": "ecac734d",
   "metadata": {},
   "outputs": [],
   "source": [
    "# distance from platform axis to wheel axis\n",
    "l = 1.\n",
    "\n",
    "# radius of wheel\n",
    "rw = 0.5\n",
    "\n",
    "# mass of wheel\n",
    "mw = 0.25\n",
    "\n",
    "# moi of wheel\n",
    "Jw = 0.5 * mw * rw**2\n",
    "\n",
    "# mass of platform\n",
    "mp = 12. * (1. - mw * l**2) / (3.**2 + 2.**2)\n",
    "\n",
    "# moment of inertia of platform\n",
    "Jp = (1. / 12.) * mp * (3.**2 + 2.**2)\n",
    "\n",
    "# gravity\n",
    "g = 9.81\n",
    "\n",
    "# composite parameters\n",
    "J1 = Jp + mw * l**2\n",
    "J2 = Jw"
   ]
  },
  {
   "cell_type": "markdown",
   "id": "a681dd77",
   "metadata": {},
   "source": [
    "Create an instance of the simulator (do `Kernel -> Restart` before evaluating this cell)."
   ]
  },
  {
   "cell_type": "code",
   "execution_count": 3,
   "id": "bfa8fdbc",
   "metadata": {},
   "outputs": [],
   "source": [
    "simulator = ae353_platform.Simulator(\n",
    "    display=True,\n",
    "    roll=0.,\n",
    ")"
   ]
  },
  {
   "cell_type": "markdown",
   "id": "68c3a775",
   "metadata": {},
   "source": [
    "# Control wheel velocity only (no gravity)"
   ]
  },
  {
   "cell_type": "markdown",
   "id": "a71f3e2c",
   "metadata": {},
   "source": [
    "Set ground roll angle of simulator."
   ]
  },
  {
   "cell_type": "code",
   "execution_count": 4,
   "id": "453a8136",
   "metadata": {},
   "outputs": [],
   "source": [
    "simulator.set_roll(0.)"
   ]
  },
  {
   "cell_type": "markdown",
   "id": "614e1160",
   "metadata": {},
   "source": [
    "The full equations of motion are:\n",
    "\n",
    "$$\n",
    "\\begin{aligned}\n",
    "J_1 \\ddot{q}_1 &= \\tau - m_wgl\\sin(q_1)\\sin(\\phi) \\\\\n",
    "J_2 \\dot{v}_2 &= - \\left( \\dfrac{J_1 + J_2}{J_1} \\right) \\tau + \\left( \\dfrac{J_2}{J_1} \\right) m_wgl\\sin(q_1)\\sin(\\phi)\n",
    "\\end{aligned}\n",
    "$$\n",
    "\n",
    "The equations of motion in this particular case ($\\phi=0$, ignore platform) are:\n",
    "\n",
    "$$\n",
    "\\begin{aligned}\n",
    "J_1 \\dot{v}_2 &= - \\left( \\dfrac{J_1 + J_2}{J_1} \\right) \\tau\n",
    "\\end{aligned}\n",
    "$$\n",
    "\n",
    "Write equations of motion as:\n",
    "\n",
    "$$\n",
    "\\begin{bmatrix} \\dot{v}_2 \\end{bmatrix}\n",
    "=\n",
    "f \\left( \\begin{bmatrix} v_2 \\end{bmatrix}, \\begin{bmatrix} \\tau \\end{bmatrix} \\right)\n",
    "$$"
   ]
  },
  {
   "cell_type": "markdown",
   "id": "1054d503",
   "metadata": {},
   "source": [
    "Define a function to return a state-space model for a given choice of equilibrium point."
   ]
  },
  {
   "cell_type": "code",
   "execution_count": 5,
   "id": "cd653e6b",
   "metadata": {},
   "outputs": [],
   "source": [
    "def get_model(v2e, taue):\n",
    "    # Define variables\n",
    "    v2, tau = sym.symbols('v2, tau')\n",
    "    \n",
    "    # Define right-hand side of ODEs\n",
    "    f = sym.Matrix([\n",
    "        - ((J1 + J2) / (J1 * J2)) * tau,\n",
    "    ])\n",
    "\n",
    "    # Convert floating-point to rational numbers\n",
    "    f = sym.nsimplify(f, rational=True)\n",
    "    \n",
    "    # Verify equilibrium point\n",
    "    f_num = sym.lambdify([v2, tau], f)\n",
    "    if not np.allclose(f_num(v2e, taue), 0.):\n",
    "        raise Exception('equilibrium point is invalid')\n",
    "    \n",
    "    # Find A and B in symbolic form\n",
    "    A_sym = f.jacobian([v2])\n",
    "    B_sym = f.jacobian([tau])\n",
    "\n",
    "    # Create lambda functions to allow numerical evaluation of A and B\n",
    "    A_num = sym.lambdify([v2, tau], A_sym)\n",
    "    B_num = sym.lambdify([v2, tau], B_sym)\n",
    "\n",
    "    # Find A and B in numeric form (making sure the result is floating-point)\n",
    "    A = A_num(v2e, taue).astype(float)\n",
    "    B = B_num(v2e, taue).astype(float)\n",
    "\n",
    "    # Return A and B\n",
    "    return A, B"
   ]
  },
  {
   "cell_type": "markdown",
   "id": "0a77f515",
   "metadata": {},
   "source": [
    "Choose equilibrium point and get state-space model."
   ]
  },
  {
   "cell_type": "code",
   "execution_count": 6,
   "id": "27bb2962",
   "metadata": {},
   "outputs": [
    {
     "name": "stdout",
     "output_type": "stream",
     "text": [
      "A =\n",
      "[[0.]]\n",
      "\n",
      "B =\n",
      "[[-33.]]\n"
     ]
    }
   ],
   "source": [
    "# Choose equilibrium point\n",
    "(v2e, taue) = (2*np.pi, 0.)\n",
    "\n",
    "# Get state-space model\n",
    "A, B = get_model(v2e, taue)\n",
    "\n",
    "# Show state-space model\n",
    "print(f'A =\\n{A}\\n\\nB =\\n{B}')"
   ]
  },
  {
   "cell_type": "markdown",
   "id": "555ac43c",
   "metadata": {},
   "source": [
    "Check if system is controllable."
   ]
  },
  {
   "cell_type": "code",
   "execution_count": 7,
   "id": "91f08813",
   "metadata": {},
   "outputs": [
    {
     "name": "stdout",
     "output_type": "stream",
     "text": [
      "shape of W is (1, 1)\n",
      "\n",
      "det(W) = -33.0\n",
      "\n",
      "rank(W) = 1\n",
      "number of states is 1\n"
     ]
    }
   ],
   "source": [
    "# Find controllability matrix\n",
    "W = np.block([B])\n",
    "\n",
    "# Check size of controllability matrix\n",
    "print(f'shape of W is {W.shape}\\n')\n",
    "\n",
    "# Find determinant of controllability matrix\n",
    "print(f'det(W) = {linalg.det(W)}\\n')\n",
    "\n",
    "# Find rank of controllability matrix\n",
    "print(f'rank(W) = {np.linalg.matrix_rank(W)}')\n",
    "print(f'number of states is {A.shape[0]}')"
   ]
  },
  {
   "cell_type": "markdown",
   "id": "38676e0c",
   "metadata": {},
   "source": [
    "Do eigenvalue placement."
   ]
  },
  {
   "cell_type": "code",
   "execution_count": 8,
   "id": "8aa769cb",
   "metadata": {},
   "outputs": [
    {
     "name": "stdout",
     "output_type": "stream",
     "text": [
      "K =\n",
      "[[-0.03030303]]\n",
      "\n",
      "p = [-1.+0.j]\n"
     ]
    }
   ],
   "source": [
    "# Choose desired eigenvalue locations\n",
    "p = [-1.]\n",
    "\n",
    "# Find gain matrix to put eigenvalues at desired locations\n",
    "K = signal.place_poles(A, B, p).gain_matrix\n",
    "\n",
    "# Show gain matrix\n",
    "print(f'K =\\n{K}\\n')\n",
    "\n",
    "# Show closed-loop eigenvalues\n",
    "print(f'p = {linalg.eigvals(A - B @ K)}')"
   ]
  },
  {
   "cell_type": "markdown",
   "id": "d03303ef",
   "metadata": {},
   "source": [
    "# Control platform angle only (no gravity)"
   ]
  },
  {
   "cell_type": "markdown",
   "id": "37a52e13",
   "metadata": {},
   "source": [
    "Set ground roll angle of simulator."
   ]
  },
  {
   "cell_type": "code",
   "execution_count": 9,
   "id": "b5a9e04c",
   "metadata": {},
   "outputs": [],
   "source": [
    "simulator.set_roll(0.)"
   ]
  },
  {
   "cell_type": "markdown",
   "id": "ce13c147",
   "metadata": {},
   "source": [
    "The full equations of motion are:\n",
    "\n",
    "$$\n",
    "\\begin{aligned}\n",
    "J_1 \\ddot{q}_1 &= \\tau - m_wgl\\sin(q_1)\\sin(\\phi) \\\\\n",
    "J_2 \\dot{v}_2 &= - \\left( \\dfrac{J_1 + J_2}{J_1} \\right) \\tau + \\left( \\dfrac{J_2}{J_1} \\right) m_wgl\\sin(q_1)\\sin(\\phi)\n",
    "\\end{aligned}\n",
    "$$\n",
    "\n",
    "The equations of motion in this particular case ($\\phi=0$, ignore wheel) are:\n",
    "\n",
    "$$\n",
    "\\begin{aligned}\n",
    "J_1 \\ddot{q}_1 &= \\tau\n",
    "\\end{aligned}\n",
    "$$\n",
    "\n",
    "Write equations of motion as:\n",
    "\n",
    "$$\n",
    "\\begin{bmatrix} \\dot{q}_1 \\\\ \\dot{v}_1 \\end{bmatrix}\n",
    "=\n",
    "f \\left( \\begin{bmatrix} q_1 \\\\ v_1 \\end{bmatrix}, \\begin{bmatrix} \\tau \\end{bmatrix} \\right)\n",
    "$$"
   ]
  },
  {
   "cell_type": "markdown",
   "id": "cc8b8f91",
   "metadata": {},
   "source": [
    "Define a function to return a state-space model for a given choice of equilibrium point."
   ]
  },
  {
   "cell_type": "code",
   "execution_count": 10,
   "id": "45ed5901",
   "metadata": {},
   "outputs": [],
   "source": [
    "def get_model(q1e, v1e, taue):\n",
    "    # Define variables\n",
    "    q1, v1, tau = sym.symbols('q1, v1, tau')\n",
    "    \n",
    "    # Define right-hand side of ODEs\n",
    "    f = sym.Matrix([\n",
    "        v1,\n",
    "        (1 / J1) * tau,\n",
    "    ])\n",
    "\n",
    "    # Convert floating-point to rational numbers\n",
    "    f = sym.nsimplify(f, rational=True)\n",
    "    \n",
    "    # Verify equilibrium point\n",
    "    f_num = sym.lambdify([q1, v1, tau], f)\n",
    "    if not np.allclose(f_num(q1e, v1e, taue), 0.):\n",
    "        raise Exception('equilibrium point is invalid')\n",
    "    \n",
    "    # Find A and B in symbolic form\n",
    "    A_sym = f.jacobian([q1, v1])\n",
    "    B_sym = f.jacobian([tau])\n",
    "\n",
    "    # Create lambda functions to allow numerical evaluation of A and B\n",
    "    A_num = sym.lambdify([q1, v1, tau], A_sym)\n",
    "    B_num = sym.lambdify([q1, v1, tau], B_sym)\n",
    "\n",
    "    # Find A and B in numeric form (making sure the result is floating-point)\n",
    "    A = A_num(q1e, v1e, taue).astype(float)\n",
    "    B = B_num(q1e, v1e, taue).astype(float)\n",
    "\n",
    "    # Return A and B\n",
    "    return A, B"
   ]
  },
  {
   "cell_type": "markdown",
   "id": "f96e1ea5",
   "metadata": {},
   "source": [
    "Choose equilibrium point and get state-space model."
   ]
  },
  {
   "cell_type": "code",
   "execution_count": 11,
   "id": "93fc44d5",
   "metadata": {},
   "outputs": [
    {
     "name": "stdout",
     "output_type": "stream",
     "text": [
      "A =\n",
      "[[0. 1.]\n",
      " [0. 0.]]\n",
      "\n",
      "B =\n",
      "[[0.]\n",
      " [1.]]\n"
     ]
    }
   ],
   "source": [
    "# Choose equilibrium point\n",
    "(q1e, v1e, taue) = (np.pi / 6, 0., 0.)\n",
    "\n",
    "# Get state-space model\n",
    "A, B = get_model(q1e, v1e, taue)\n",
    "\n",
    "# Show state-space model\n",
    "print(f'A =\\n{A}\\n\\nB =\\n{B}')"
   ]
  },
  {
   "cell_type": "markdown",
   "id": "60945d04",
   "metadata": {},
   "source": [
    "Check if system is controllable."
   ]
  },
  {
   "cell_type": "code",
   "execution_count": 12,
   "id": "480d71e9",
   "metadata": {},
   "outputs": [
    {
     "name": "stdout",
     "output_type": "stream",
     "text": [
      "shape of W is (2, 2)\n",
      "\n",
      "det(W) = -1.0\n",
      "\n",
      "rank(W) = 2\n",
      "number of states is 2\n"
     ]
    }
   ],
   "source": [
    "# Find controllability matrix\n",
    "W = np.block([B, A @ B])\n",
    "\n",
    "# Check size of controllability matrix\n",
    "print(f'shape of W is {W.shape}\\n')\n",
    "\n",
    "# Find determinant of controllability matrix\n",
    "print(f'det(W) = {linalg.det(W)}\\n')\n",
    "\n",
    "# Find rank of controllability matrix\n",
    "print(f'rank(W) = {np.linalg.matrix_rank(W)}')\n",
    "print(f'number of states is {A.shape[0]}')"
   ]
  },
  {
   "cell_type": "markdown",
   "id": "131f724b",
   "metadata": {},
   "source": [
    "Do eigenvalue placement."
   ]
  },
  {
   "cell_type": "code",
   "execution_count": 13,
   "id": "525ab094",
   "metadata": {},
   "outputs": [
    {
     "name": "stdout",
     "output_type": "stream",
     "text": [
      "K =\n",
      "[[2. 3.]]\n",
      "\n",
      "p = [-1.+0.j -2.+0.j]\n"
     ]
    }
   ],
   "source": [
    "# Choose desired eigenvalue locations\n",
    "p = [-1., -2.]\n",
    "\n",
    "# Find gain matrix to put eigenvalues at desired locations\n",
    "K = signal.place_poles(A, B, p).gain_matrix\n",
    "\n",
    "# Show gain matrix\n",
    "print(f'K =\\n{K}\\n')\n",
    "\n",
    "# Show closed-loop eigenvalues\n",
    "print(f'p = {linalg.eigvals(A - B @ K)}')"
   ]
  },
  {
   "cell_type": "markdown",
   "id": "d703c4f3",
   "metadata": {},
   "source": [
    "# Control platform angle and wheel velocity with gravity"
   ]
  },
  {
   "cell_type": "markdown",
   "id": "cb21918c",
   "metadata": {},
   "source": [
    "Set ground roll angle of simulator."
   ]
  },
  {
   "cell_type": "code",
   "execution_count": 14,
   "id": "ec0170e5",
   "metadata": {},
   "outputs": [],
   "source": [
    "simulator.set_roll(np.pi / 2)"
   ]
  },
  {
   "cell_type": "markdown",
   "id": "6efc62f7",
   "metadata": {},
   "source": [
    "The full equations of motion are:\n",
    "\n",
    "$$\n",
    "\\begin{aligned}\n",
    "J_1 \\ddot{q}_1 &= \\tau - m_wgl\\sin(q_1)\\sin(\\phi) \\\\\n",
    "J_2 \\dot{v}_2 &= - \\left( \\dfrac{J_1 + J_2}{J_1} \\right) \\tau + \\left( \\dfrac{J_2}{J_1} \\right) m_wgl\\sin(q_1)\\sin(\\phi)\n",
    "\\end{aligned}\n",
    "$$\n",
    "\n",
    "The equations of motion in this particular case ($\\phi=\\pi/2$) are:\n",
    "\n",
    "$$\n",
    "\\begin{aligned}\n",
    "J_1 \\ddot{q}_1 &= \\tau - m_wgl\\sin(q_1) \\\\\n",
    "J_2 \\dot{v}_2 &= - \\left( \\dfrac{J_1 + J_2}{J_1} \\right) \\tau + \\left( \\dfrac{J_2}{J_1} \\right) m_wgl\\sin(q_1)\n",
    "\\end{aligned}\n",
    "$$\n",
    "\n",
    "Write equations of motion as:\n",
    "\n",
    "$$\n",
    "\\begin{bmatrix} \\dot{q}_1 \\\\ \\dot{v}_1 \\\\ \\dot{v}_2 \\end{bmatrix}\n",
    "=\n",
    "f \\left( \\begin{bmatrix} q_1 \\\\ v_1 \\\\ v_2 \\end{bmatrix}, \\begin{bmatrix} \\tau \\end{bmatrix} \\right)\n",
    "$$"
   ]
  },
  {
   "cell_type": "markdown",
   "id": "59195580",
   "metadata": {},
   "source": [
    "Define a function to return a state-space model for a given choice of equilibrium point."
   ]
  },
  {
   "cell_type": "code",
   "execution_count": 15,
   "id": "2c7c20d6",
   "metadata": {},
   "outputs": [],
   "source": [
    "def get_model(q1e, v1e, v2e, taue):\n",
    "    # Define variables\n",
    "    q1, v1, v2, tau = sym.symbols('q1, v1, v2, tau')\n",
    "    \n",
    "    # Define right-hand side of ODEs\n",
    "    f = sym.Matrix([\n",
    "        v1,\n",
    "        (1 / J1) * (tau - mw * g * l * sym.sin(q1)),\n",
    "        (1 / J2) * (- ((J1 + J2) / J1) * tau + (J2 / J1) * mw * g * l * sym.sin(q1))\n",
    "    ])\n",
    "\n",
    "    # Convert floating-point to rational numbers\n",
    "    f = sym.nsimplify(f, rational=True)\n",
    "    \n",
    "    # Verify equilibrium point\n",
    "    f_num = sym.lambdify([q1, v1, v2, tau], f)\n",
    "    if not np.allclose(f_num(q1e, v1e, v2e, taue), 0.):\n",
    "        raise Exception('equilibrium point is invalid')\n",
    "    \n",
    "    # Find A and B in symbolic form\n",
    "    A_sym = f.jacobian([q1, v1, v2])\n",
    "    B_sym = f.jacobian([tau])\n",
    "\n",
    "    # Create lambda functions to allow numerical evaluation of A and B\n",
    "    A_num = sym.lambdify([q1, v1, v2, tau], A_sym)\n",
    "    B_num = sym.lambdify([q1, v1, v2, tau], B_sym)\n",
    "\n",
    "    # Find A and B in numeric form (making sure the result is floating-point)\n",
    "    A = A_num(q1e, v1e, v2e, taue).astype(float)\n",
    "    B = B_num(q1e, v1e, v2e, taue).astype(float)\n",
    "\n",
    "    # Return A and B\n",
    "    return A, B"
   ]
  },
  {
   "cell_type": "markdown",
   "id": "90fcdf13",
   "metadata": {},
   "source": [
    "Choose equilibrium point and get state-space model."
   ]
  },
  {
   "cell_type": "code",
   "execution_count": 16,
   "id": "0969d9fa",
   "metadata": {},
   "outputs": [
    {
     "name": "stdout",
     "output_type": "stream",
     "text": [
      "A =\n",
      "[[ 0.      1.      0.    ]\n",
      " [ 2.4525  0.      0.    ]\n",
      " [-2.4525  0.      0.    ]]\n",
      "\n",
      "B =\n",
      "[[  0.]\n",
      " [  1.]\n",
      " [-33.]]\n"
     ]
    }
   ],
   "source": [
    "# Choose equilibrium point\n",
    "(q1e, v1e, v2e, taue) = (np.pi, 0., 0., 0.)\n",
    "\n",
    "# Get state-space model\n",
    "A, B = get_model(q1e, v1e, v2e, taue)\n",
    "\n",
    "# Show state-space model\n",
    "print(f'A =\\n{A}\\n\\nB =\\n{B}')"
   ]
  },
  {
   "cell_type": "markdown",
   "id": "619b3feb",
   "metadata": {},
   "source": [
    "Check if system is controllable."
   ]
  },
  {
   "cell_type": "code",
   "execution_count": 17,
   "id": "b109ed3b",
   "metadata": {},
   "outputs": [
    {
     "name": "stdout",
     "output_type": "stream",
     "text": [
      "shape of W is (3, 3)\n",
      "\n",
      "det(W) = -78.48\n",
      "\n",
      "rank(W) = 3\n",
      "number of states is 3\n"
     ]
    }
   ],
   "source": [
    "# Find controllability matrix\n",
    "W = np.block([B, A @ B, A @ A @ B])\n",
    "\n",
    "# Check size of controllability matrix\n",
    "print(f'shape of W is {W.shape}\\n')\n",
    "\n",
    "# Find determinant of controllability matrix\n",
    "print(f'det(W) = {linalg.det(W)}\\n')\n",
    "\n",
    "# Find rank of controllability matrix\n",
    "print(f'rank(W) = {np.linalg.matrix_rank(W)}')\n",
    "print(f'number of states is {A.shape[0]}')"
   ]
  },
  {
   "cell_type": "markdown",
   "id": "81bbf9d5",
   "metadata": {},
   "source": [
    "Do eigenvalue placement."
   ]
  },
  {
   "cell_type": "code",
   "execution_count": 18,
   "id": "1ede2d88",
   "metadata": {},
   "outputs": [
    {
     "name": "stdout",
     "output_type": "stream",
     "text": [
      "K =\n",
      "[[13.4525      8.52293578  0.0764526 ]]\n",
      "\n",
      "p = [-3.+0.j -2.+0.j -1.+0.j]\n"
     ]
    }
   ],
   "source": [
    "# Choose desired eigenvalue locations\n",
    "p = [-1., -2., -3.]\n",
    "\n",
    "# Find gain matrix to put eigenvalues at desired locations\n",
    "K = signal.place_poles(A, B, p).gain_matrix\n",
    "\n",
    "# Show gain matrix\n",
    "print(f'K =\\n{K}\\n')\n",
    "\n",
    "# Show closed-loop eigenvalues\n",
    "print(f'p = {linalg.eigvals(A - B @ K)}')"
   ]
  },
  {
   "cell_type": "markdown",
   "id": "ac461e12",
   "metadata": {},
   "source": [
    "# Control platform angle and wheel velocity *without* gravity"
   ]
  },
  {
   "cell_type": "markdown",
   "id": "2c8aeffe",
   "metadata": {},
   "source": [
    "Set ground roll angle of simulator."
   ]
  },
  {
   "cell_type": "code",
   "execution_count": 19,
   "id": "aa274769",
   "metadata": {},
   "outputs": [],
   "source": [
    "simulator.set_roll(0.)"
   ]
  },
  {
   "cell_type": "markdown",
   "id": "0cc7b4f6",
   "metadata": {},
   "source": [
    "The full equations of motion are:\n",
    "\n",
    "$$\n",
    "\\begin{aligned}\n",
    "J_1 \\ddot{q}_1 &= \\tau - m_wgl\\sin(q_1)\\sin(\\phi) \\\\\n",
    "J_2 \\dot{v}_2 &= - \\left( \\dfrac{J_1 + J_2}{J_1} \\right) \\tau + \\left( \\dfrac{J_2}{J_1} \\right) m_wgl\\sin(q_1)\\sin(\\phi)\n",
    "\\end{aligned}\n",
    "$$\n",
    "\n",
    "The equations of motion in this particular case ($\\phi=0$) are:\n",
    "\n",
    "$$\n",
    "\\begin{aligned}\n",
    "J_1 \\ddot{q}_1 &= \\tau \\\\\n",
    "J_2 \\dot{v}_2 &= - \\left( \\dfrac{J_1 + J_2}{J_1} \\right) \\tau\n",
    "\\end{aligned}\n",
    "$$\n",
    "\n",
    "Write equations of motion as:\n",
    "\n",
    "$$\n",
    "\\begin{bmatrix} \\dot{q}_1 \\\\ \\dot{v}_1 \\\\ \\dot{v}_2 \\end{bmatrix}\n",
    "=\n",
    "f \\left( \\begin{bmatrix} q_1 \\\\ v_1 \\\\ v_2 \\end{bmatrix}, \\begin{bmatrix} \\tau \\end{bmatrix} \\right)\n",
    "$$"
   ]
  },
  {
   "cell_type": "markdown",
   "id": "5deb6477",
   "metadata": {},
   "source": [
    "Define a function to return a state-space model for a given choice of equilibrium point."
   ]
  },
  {
   "cell_type": "code",
   "execution_count": 20,
   "id": "fac5d46b",
   "metadata": {},
   "outputs": [],
   "source": [
    "def get_model(q1e, v1e, v2e, taue):\n",
    "    # Define variables\n",
    "    q1, v1, v2, tau = sym.symbols('q1, v1, v2, tau')\n",
    "    \n",
    "    # Define right-hand side of ODEs\n",
    "    f = sym.Matrix([\n",
    "        v1,\n",
    "        (1 / J1) * (tau),\n",
    "        (1 / J2) * (- ((J1 + J2) / J1) * tau)\n",
    "    ])\n",
    "\n",
    "    # Convert floating-point to rational numbers\n",
    "    f = sym.nsimplify(f, rational=True)\n",
    "    \n",
    "    # Verify equilibrium point\n",
    "    f_num = sym.lambdify([q1, v1, v2, tau], f)\n",
    "    if not np.allclose(f_num(q1e, v1e, v2e, taue), 0.):\n",
    "        raise Exception('equilibrium point is invalid')\n",
    "    \n",
    "    # Find A and B in symbolic form\n",
    "    A_sym = f.jacobian([q1, v1, v2])\n",
    "    B_sym = f.jacobian([tau])\n",
    "\n",
    "    # Create lambda functions to allow numerical evaluation of A and B\n",
    "    A_num = sym.lambdify([q1, v1, v2, tau], A_sym)\n",
    "    B_num = sym.lambdify([q1, v1, v2, tau], B_sym)\n",
    "\n",
    "    # Find A and B in numeric form (making sure the result is floating-point)\n",
    "    A = A_num(q1e, v1e, v2e, taue).astype(float)\n",
    "    B = B_num(q1e, v1e, v2e, taue).astype(float)\n",
    "\n",
    "    # Return A and B\n",
    "    return A, B"
   ]
  },
  {
   "cell_type": "markdown",
   "id": "051f9782",
   "metadata": {},
   "source": [
    "Choose equilibrium point and get state-space model."
   ]
  },
  {
   "cell_type": "code",
   "execution_count": 21,
   "id": "7ea65ba9",
   "metadata": {},
   "outputs": [
    {
     "name": "stdout",
     "output_type": "stream",
     "text": [
      "A =\n",
      "[[0. 1. 0.]\n",
      " [0. 0. 0.]\n",
      " [0. 0. 0.]]\n",
      "\n",
      "B =\n",
      "[[  0.]\n",
      " [  1.]\n",
      " [-33.]]\n"
     ]
    }
   ],
   "source": [
    "# Choose equilibrium point\n",
    "(q1e, v1e, v2e, taue) = (np.pi, 0., 0., 0.)\n",
    "\n",
    "# Get state-space model\n",
    "A, B = get_model(q1e, v1e, v2e, taue)\n",
    "\n",
    "# Show state-space model\n",
    "print(f'A =\\n{A}\\n\\nB =\\n{B}')"
   ]
  },
  {
   "cell_type": "markdown",
   "id": "1a741f8c",
   "metadata": {},
   "source": [
    "Check if system is controllable."
   ]
  },
  {
   "cell_type": "code",
   "execution_count": 22,
   "id": "0d821e8e",
   "metadata": {},
   "outputs": [
    {
     "name": "stdout",
     "output_type": "stream",
     "text": [
      "shape of W is (3, 3)\n",
      "\n",
      "det(W) = 0.0\n",
      "\n",
      "rank(W) = 2\n",
      "number of states is 3\n"
     ]
    }
   ],
   "source": [
    "# Find controllability matrix\n",
    "W = np.block([B, A @ B, A @ A @ B])\n",
    "\n",
    "# Check size of controllability matrix\n",
    "print(f'shape of W is {W.shape}\\n')\n",
    "\n",
    "# Find determinant of controllability matrix\n",
    "print(f'det(W) = {linalg.det(W)}\\n')\n",
    "\n",
    "# Find rank of controllability matrix\n",
    "print(f'rank(W) = {np.linalg.matrix_rank(W)}')\n",
    "print(f'number of states is {A.shape[0]}')"
   ]
  },
  {
   "cell_type": "markdown",
   "id": "e27322be",
   "metadata": {},
   "source": [
    "Do eigenvalue placement."
   ]
  },
  {
   "cell_type": "code",
   "execution_count": 23,
   "id": "7bc8bc2e",
   "metadata": {},
   "outputs": [
    {
     "name": "stdout",
     "output_type": "stream",
     "text": [
      "K =\n",
      "[[2.40042430e+02 4.50152812e+16 1.36409943e+15]]\n",
      "\n",
      "p = [-1.19209290e-07+0.j -9.22206219e+08+0.j  9.22206214e+08+0.j]\n"
     ]
    }
   ],
   "source": [
    "# Choose desired eigenvalue locations\n",
    "p = [-10., -20., -30.]\n",
    "\n",
    "# Find gain matrix to put eigenvalues at desired locations\n",
    "K = signal.place_poles(A, B, p).gain_matrix\n",
    "\n",
    "# Show gain matrix\n",
    "print(f'K =\\n{K}\\n')\n",
    "\n",
    "# Show closed-loop eigenvalues\n",
    "print(f'p = {linalg.eigvals(A - B @ K)}')"
   ]
  },
  {
   "cell_type": "markdown",
   "id": "afc03755",
   "metadata": {},
   "source": [
    "#### What if $A$ was very, very slightly different?"
   ]
  },
  {
   "cell_type": "code",
   "execution_count": 24,
   "id": "3b76038d",
   "metadata": {},
   "outputs": [
    {
     "name": "stdout",
     "output_type": "stream",
     "text": [
      "A =\n",
      "[[0. 1. 0.]\n",
      " [0. 0. 0.]\n",
      " [0. 0. 0.]]\n",
      "\n",
      "A2 =\n",
      "[[ 0.00000001  1.         -0.00000001]\n",
      " [ 0.00000001  0.00000001 -0.00000001]\n",
      " [ 0.00000001  0.         -0.        ]]\n"
     ]
    }
   ],
   "source": [
    "A2 = A + 1e-8 * np.random.standard_normal(size=A.shape)\n",
    "\n",
    "print(f'A =\\n{A}\\n')\n",
    "print(f'A2 =\\n{A2}')"
   ]
  },
  {
   "cell_type": "markdown",
   "id": "4f378101",
   "metadata": {},
   "source": [
    "Check if system is controllable."
   ]
  },
  {
   "cell_type": "code",
   "execution_count": 25,
   "id": "3df5f7e1",
   "metadata": {},
   "outputs": [
    {
     "name": "stdout",
     "output_type": "stream",
     "text": [
      "shape of W is (3, 3)\n",
      "\n",
      "det(W) = -4.3196939593770793e-07\n",
      "\n",
      "rank(W) = 3\n",
      "number of states is 3\n"
     ]
    }
   ],
   "source": [
    "# Find controllability matrix\n",
    "W = np.block([B, A2 @ B, A2 @ A2 @ B])\n",
    "\n",
    "# Check size of controllability matrix\n",
    "print(f'shape of W is {W.shape}\\n')\n",
    "\n",
    "# Find determinant of controllability matrix\n",
    "print(f'det(W) = {linalg.det(W)}\\n')\n",
    "\n",
    "# Find rank of controllability matrix\n",
    "print(f'rank(W) = {np.linalg.matrix_rank(W)}')\n",
    "print(f'number of states is {A.shape[0]}')"
   ]
  },
  {
   "cell_type": "markdown",
   "id": "60ffe393",
   "metadata": {},
   "source": [
    "Do eigenvalue placement."
   ]
  },
  {
   "cell_type": "code",
   "execution_count": null,
   "id": "4be445a0",
   "metadata": {},
   "outputs": [],
   "source": [
    "# Choose desired eigenvalue locations\n",
    "p = [-1., -2., -3.]\n",
    "\n",
    "# Find gain matrix to put eigenvalues at desired locations\n",
    "K = signal.place_poles(A2, B, p).gain_matrix\n",
    "\n",
    "# Show gain matrix\n",
    "print(f'K =\\n{K}\\n')\n",
    "\n",
    "# Show closed-loop eigenvalues\n",
    "print(f'p = {linalg.eigvals(A2 - B @ K)}')"
   ]
  },
  {
   "cell_type": "markdown",
   "id": "289c54f6",
   "metadata": {},
   "source": [
    "Check singular values and condition number of $W$ instead of determinant and rank."
   ]
  },
  {
   "cell_type": "code",
   "execution_count": 27,
   "id": "46139e08",
   "metadata": {},
   "outputs": [
    {
     "name": "stdout",
     "output_type": "stream",
     "text": [
      "singular values of W: [33.01514804  1.0000002   0.00000001]\n"
     ]
    }
   ],
   "source": [
    "print(f'singular values of W: {linalg.svdvals(W)}')"
   ]
  },
  {
   "cell_type": "code",
   "execution_count": 26,
   "id": "64b72b6b",
   "metadata": {},
   "outputs": [
    {
     "name": "stdout",
     "output_type": "stream",
     "text": [
      "condition number of W: 2523327417.6659994\n"
     ]
    }
   ],
   "source": [
    "print(f'condition number of W: {np.linalg.cond(W)}')"
   ]
  },
  {
   "cell_type": "code",
   "execution_count": 28,
   "id": "e8f6f17a",
   "metadata": {},
   "outputs": [
    {
     "name": "stdout",
     "output_type": "stream",
     "text": [
      "ratio of largest singular value to smallest singlar value of W: 2523327417.6659994\n"
     ]
    }
   ],
   "source": [
    "s = linalg.svdvals(W)\n",
    "ratio = max(s) / min(s)\n",
    "print(f'ratio of largest singular value to smallest singlar value of W: {ratio}')"
   ]
  },
  {
   "cell_type": "markdown",
   "id": "1e03cae5",
   "metadata": {},
   "source": [
    "#### If a system is not controllable, does that mean we are completely out of luck?"
   ]
  },
  {
   "cell_type": "code",
   "execution_count": null,
   "id": "00a537c8",
   "metadata": {},
   "outputs": [],
   "source": [
    "K = np.array([[1., 2., 3.]])\n",
    "\n",
    "print(linalg.eigvals(A - B @ K))"
   ]
  },
  {
   "cell_type": "code",
   "execution_count": null,
   "id": "a78f5391",
   "metadata": {},
   "outputs": [],
   "source": [
    "K = np.array([[11., 12., 13.]])\n",
    "\n",
    "print(linalg.eigvals(A - B @ K))"
   ]
  },
  {
   "cell_type": "markdown",
   "id": "cfe84f73",
   "metadata": {},
   "source": [
    "# Control platform angle with *two* reaction wheels"
   ]
  },
  {
   "cell_type": "code",
   "execution_count": null,
   "id": "e2d61011",
   "metadata": {},
   "outputs": [],
   "source": [
    "# Get state-space model\n",
    "A = np.array([[0., 1.], [0., 0.]])\n",
    "B = np.array([[0., 0.], [1., 10.]])\n",
    "\n",
    "# Show state-space model\n",
    "print(f'A =\\n{A}\\n\\nB =\\n{B}')"
   ]
  },
  {
   "cell_type": "markdown",
   "id": "6ec38891",
   "metadata": {},
   "source": [
    "Check if system is controllable."
   ]
  },
  {
   "cell_type": "code",
   "execution_count": null,
   "id": "994f0600",
   "metadata": {},
   "outputs": [],
   "source": [
    "# Find controllability matrix\n",
    "W = np.block([B, A @ B])\n",
    "\n",
    "# Check size of controllability matrix\n",
    "print(f'shape of W is {W.shape}\\n')\n",
    "\n",
    "# # Find determinant of controllability matrix\n",
    "# print(f'det(W) = {linalg.det(W)}\\n')\n",
    "\n",
    "# Find rank of controllability matrix\n",
    "print(f'rank(W) = {np.linalg.matrix_rank(W)}')\n",
    "print(f'number of states is {A.shape[0]}')"
   ]
  },
  {
   "cell_type": "markdown",
   "id": "cf018bb5",
   "metadata": {},
   "source": [
    "Choose linear combination of inputs."
   ]
  },
  {
   "cell_type": "code",
   "execution_count": null,
   "id": "bca97099",
   "metadata": {},
   "outputs": [],
   "source": [
    "# First column of B\n",
    "B_col1 = B[:, 0:1]\n",
    "\n",
    "# Second column of B\n",
    "B_col2 = B[:, 1:2]\n",
    "\n",
    "# Multipliers\n",
    "m1 = 0.1\n",
    "m2 = 0.9\n",
    "\n",
    "# Linear combination\n",
    "B1 = m1 * B_col1 + m2 * B_col2\n",
    "\n",
    "print(f'B1 =\\n{B1}')"
   ]
  },
  {
   "cell_type": "markdown",
   "id": "45d9fedf",
   "metadata": {},
   "source": [
    "Do eigenvalue placement."
   ]
  },
  {
   "cell_type": "code",
   "execution_count": null,
   "id": "40e066e9",
   "metadata": {},
   "outputs": [],
   "source": [
    "# Choose desired eigenvalue locations\n",
    "p = [-1., -2.]\n",
    "\n",
    "# Find gain matrix to put eigenvalues at desired locations\n",
    "K1 = signal.place_poles(A, B1, p).gain_matrix\n",
    "\n",
    "# Find gain matrix for original system\n",
    "K = np.block([[m1 * K1], [m2 * K1]])\n",
    "\n",
    "# Show gain matrix\n",
    "print(f'K =\\n{K}\\n')\n",
    "\n",
    "# Show closed-loop eigenvalues\n",
    "print(f'p = {linalg.eigvals(A - B @ K)}')"
   ]
  },
  {
   "cell_type": "markdown",
   "id": "980cc83a",
   "metadata": {},
   "source": [
    "Could we have done eigenvalue placement with `place_poles` all at once?"
   ]
  },
  {
   "cell_type": "code",
   "execution_count": null,
   "id": "a6242762",
   "metadata": {},
   "outputs": [],
   "source": [
    "# Choose desired eigenvalue locations\n",
    "p = [-1., -2.]\n",
    "\n",
    "# Find gain matrix to put eigenvalues at desired locations\n",
    "K = signal.place_poles(A, B, p).gain_matrix"
   ]
  },
  {
   "cell_type": "code",
   "execution_count": null,
   "id": "3b4ab7f3",
   "metadata": {},
   "outputs": [],
   "source": []
  }
 ],
 "metadata": {
  "kernelspec": {
   "display_name": "Python 3 (ipykernel)",
   "language": "python",
   "name": "python3"
  },
  "language_info": {
   "codemirror_mode": {
    "name": "ipython",
    "version": 3
   },
   "file_extension": ".py",
   "mimetype": "text/x-python",
   "name": "python",
   "nbconvert_exporter": "python",
   "pygments_lexer": "ipython3",
   "version": "3.10.2"
  }
 },
 "nbformat": 4,
 "nbformat_minor": 5
}
