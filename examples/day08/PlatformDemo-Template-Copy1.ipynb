{
 "cells": [
  {
   "cell_type": "markdown",
   "id": "middle-acoustic",
   "metadata": {},
   "source": [
    "# Control of a \"spacecraft\" platform with a reaction wheel"
   ]
  },
  {
   "cell_type": "code",
   "execution_count": 1,
   "id": "dimensional-contamination",
   "metadata": {},
   "outputs": [],
   "source": [
    "# These are standard modules\n",
    "import time\n",
    "import numpy as np\n",
    "from scipy import linalg\n",
    "import sympy as sym\n",
    "import matplotlib.pyplot as plt\n",
    "from IPython.display import display, Latex, Markdown\n",
    "\n",
    "# This is a custom interface to the pybullet simulator\n",
    "import ae353_platform\n",
    "\n",
    "# Suppress the use of scientific notation when printing small numbers\n",
    "np.set_printoptions(suppress=True)"
   ]
  },
  {
   "cell_type": "markdown",
   "id": "73b3d8cb",
   "metadata": {},
   "source": [
    "Given a choice of ground roll angle $\\phi$, the equations of motion are\n",
    "\n",
    "$$\n",
    "\\begin{aligned}\n",
    "J_1 \\ddot{q}_1 &= \\tau - m_wgl\\sin(q_1)\\sin(\\phi) \\\\\n",
    "J_2 \\dot{v}_2 &= - \\left( \\dfrac{J_1 + J_2}{J_1} \\right) \\tau + \\left( \\dfrac{J_2}{J_1} \\right) m_wgl\\sin(q_1)\\sin(\\phi)\n",
    "\\end{aligned}\n",
    "$$\n",
    "\n",
    "where\n",
    "\n",
    "* $q_1$ is the platform angle\n",
    "* $\\dot{q}_1$ is the platform velocity\n",
    "* $v_2$ is the wheel velocity\n",
    "* $\\tau$ is the torque applied *to* the platform *by* the wheel\n",
    "\n",
    "and\n",
    "\n",
    "$$\n",
    "J_1 = J_p + m_wl^2\n",
    "\\qquad\n",
    "\\qquad\n",
    "J_2 = J_w\n",
    "$$\n",
    "\n",
    "and parameter values are defined as follows:"
   ]
  },
  {
   "cell_type": "code",
   "execution_count": 2,
   "id": "ecac734d",
   "metadata": {},
   "outputs": [],
   "source": [
    "# distance from platform axis to wheel axis\n",
    "l = 1.\n",
    "\n",
    "# radius of wheel\n",
    "rw = 0.5\n",
    "\n",
    "# mass of wheel\n",
    "mw = 0.25\n",
    "\n",
    "# moi of wheel\n",
    "Jw = 0.5 * mw * rw**2\n",
    "\n",
    "# mass of platform\n",
    "mp = 12. * (1. - mw * l**2) / (3.**2 + 2.**2)\n",
    "\n",
    "# moment of inertia of platform\n",
    "Jp = (1. / 12.) * mp * (3.**2 + 2.**2)\n",
    "\n",
    "# gravity\n",
    "g = 9.81\n",
    "\n",
    "# composite parameters\n",
    "J1 = Jp + mw * l**2\n",
    "J2 = Jw"
   ]
  },
  {
   "cell_type": "markdown",
   "id": "a681dd77",
   "metadata": {},
   "source": [
    "Create an instance of the simulator (do `Kernel -> Restart` before evaluating this cell)."
   ]
  },
  {
   "cell_type": "code",
   "execution_count": 3,
   "id": "bfa8fdbc",
   "metadata": {},
   "outputs": [],
   "source": [
    "simulator = ae353_platform.Simulator(\n",
    "    display=False,\n",
    "    roll=0.,\n",
    ")"
   ]
  },
  {
   "cell_type": "markdown",
   "id": "68c3a775",
   "metadata": {},
   "source": [
    "# Control wheel velocity only (no gravity)"
   ]
  },
  {
   "cell_type": "markdown",
   "id": "a71f3e2c",
   "metadata": {},
   "source": [
    "Set ground roll angle of simulator."
   ]
  },
  {
   "cell_type": "code",
   "execution_count": 4,
   "id": "453a8136",
   "metadata": {},
   "outputs": [],
   "source": [
    "simulator.set_roll(0.)"
   ]
  },
  {
   "cell_type": "markdown",
   "id": "614e1160",
   "metadata": {},
   "source": [
    "The full equations of motion are:\n",
    "\n",
    "$$\n",
    "\\begin{aligned}\n",
    "J_1 \\ddot{q}_1 &= \\tau - m_wgl\\sin(q_1)\\sin(\\phi) \\\\\n",
    "J_2 \\dot{v}_2 &= - \\left( \\dfrac{J_1 + J_2}{J_1} \\right) \\tau + \\left( \\dfrac{J_2}{J_1} \\right) m_wgl\\sin(q_1)\\sin(\\phi)\n",
    "\\end{aligned}\n",
    "$$\n",
    "\n",
    "The equations of motion in this particular case ($\\phi=0$, ignore platform) are:\n",
    "\n",
    "$$\n",
    "\\begin{aligned}\n",
    "J_1 \\dot{v}_2 &= - \\left( \\dfrac{J_1 + J_2}{J_1} \\right) \\tau\n",
    "\\end{aligned}\n",
    "$$\n",
    "\n",
    "Write equations of motion as:\n",
    "\n",
    "$$\n",
    "\\begin{bmatrix} \\dot{v}_2 \\end{bmatrix}\n",
    "=\n",
    "f \\left( \\begin{bmatrix} v_2 \\end{bmatrix}, \\begin{bmatrix} \\tau \\end{bmatrix} \\right)\n",
    "$$"
   ]
  },
  {
   "cell_type": "markdown",
   "id": "2311b75b",
   "metadata": {},
   "source": [
    "Define functions to do all the analysis."
   ]
  },
  {
   "cell_type": "code",
   "execution_count": 5,
   "id": "cd653e6b",
   "metadata": {},
   "outputs": [],
   "source": [
    "# Define a function to return a state-space model for a given choice of equilibrium point.\n",
    "def get_model(v2e, taue):\n",
    "    # Define variables\n",
    "    v2, tau = sym.symbols('v2, tau')\n",
    "    \n",
    "    # Define right-hand side of ODEs\n",
    "    f = sym.Matrix([\n",
    "        - ((J1 + J2) / (J1 * J2)) * tau,\n",
    "    ])\n",
    "\n",
    "    # Convert floating-point to rational numbers\n",
    "    f = sym.nsimplify(f, rational=True)\n",
    "    \n",
    "    # Verify equilibrium point\n",
    "    f_num = sym.lambdify([v2, tau], f)\n",
    "    if not np.allclose(f_num(v2e, taue), 0.):\n",
    "        raise Exception('equilibrium point is invalid')\n",
    "    \n",
    "    # Find A and B in symbolic form\n",
    "    A_sym = f.jacobian([v2])\n",
    "    B_sym = f.jacobian([tau])\n",
    "\n",
    "    # Create lambda functions to allow numerical evaluation of A and B\n",
    "    A_num = sym.lambdify([v2, tau], A_sym)\n",
    "    B_num = sym.lambdify([v2, tau], B_sym)\n",
    "\n",
    "    # Find A and B in numeric form (making sure the result is floating-point)\n",
    "    A = A_num(v2e, taue).astype(float)\n",
    "    B = B_num(v2e, taue).astype(float)\n",
    "\n",
    "    # Return A and B\n",
    "    return A, B\n",
    "\n",
    "# Define a controller that implements linear state feedback.\n",
    "class Controller:\n",
    "    def __init__(self, K, v2e, taue):\n",
    "        self.K = K\n",
    "        self.v2e = v2e\n",
    "        self.taue = taue\n",
    "    \n",
    "    def reset(self):\n",
    "        pass\n",
    "    \n",
    "    def run(\n",
    "            self,\n",
    "            t,\n",
    "            platform_angle,\n",
    "            platform_velocity,\n",
    "            wheel_angle,\n",
    "            wheel_velocity,\n",
    "        ):\n",
    "        \n",
    "        # Find state\n",
    "        x = np.array([\n",
    "            wheel_velocity - self.v2e,\n",
    "        ])\n",
    "        \n",
    "        # Find input\n",
    "        u = - self.K @ x\n",
    "        \n",
    "        # Find actuator command\n",
    "        tau = u[0]\n",
    "        \n",
    "        wheel_torque = -tau\n",
    "        return wheel_torque\n",
    "    \n",
    "# Define a function to get data from simulation for a given choice\n",
    "# of equilibrium point, gain matrix, and initial condition.\n",
    "def get_data(simulator, v2e, taue, K, v2i, max_time=5.0):\n",
    "    # Create controller\n",
    "    controller = Controller(K, v2e, taue)\n",
    "    \n",
    "    # Reset simulator\n",
    "    simulator.reset(\n",
    "        platform_angle=0.,\n",
    "        platform_velocity=0.,\n",
    "        wheel_angle=0.,\n",
    "        wheel_velocity=v2i,\n",
    "    )\n",
    "\n",
    "    # Reset controller\n",
    "    controller.reset()\n",
    "\n",
    "    # Run simulator\n",
    "    data = simulator.run(\n",
    "        controller,\n",
    "        max_time=max_time,\n",
    "    )\n",
    "    \n",
    "    # Return data\n",
    "    return data\n",
    "\n",
    "# Define a function to find numeric solution to closed-loop (linear) system.\n",
    "def get_x_numeric(data, v2e, A, B):\n",
    "    # Define initial conditions\n",
    "    x0 = np.array([\n",
    "        data['wheel_velocity'][0] - v2e,\n",
    "    ])\n",
    "\n",
    "    # Create empty array to hold state at each time\n",
    "    x = []\n",
    "\n",
    "    # Compute state at each time\n",
    "    for t in data['t']:\n",
    "        x.append(linalg.expm((A - B @ K) * t) @ x0)\n",
    "    x = np.array(x)\n",
    "    \n",
    "    # Return state at each time\n",
    "    return x\n",
    "\n",
    "# Define a function to find symbolic solution to closed-loop (linear) system.\n",
    "def get_x_symbolic(A, B, K):\n",
    "    # Model\n",
    "    A = sym.nsimplify(sym.Matrix(A), rational=True)\n",
    "    B = sym.nsimplify(sym.Matrix(B), rational=True)\n",
    "    K = sym.nsimplify(sym.Matrix(K), rational=True)\n",
    "    \n",
    "    # Variables\n",
    "    t, x_1i = sym.symbols('t, x_1i', real=True)\n",
    "    \n",
    "    # Initial condition\n",
    "    x0 = sym.Matrix([x_1i])\n",
    "    \n",
    "    # Solution\n",
    "    x = sym.exp((A - B @ K) * t) @ x0\n",
    "    return x\n",
    "\n",
    "# Define a function to show symbolic solution to closed-loop (linear) system.\n",
    "def show_x_symbolic(A, B, K):\n",
    "    x = get_x_symbolic(A, B, K)\n",
    "    print('\\nSOLUTION TO CLOSED-LOOP SYSTEM')\n",
    "    display(Markdown(f'$$x(t) = {sym.latex(x)}$$'))\n",
    "    \n",
    "# Define a function to show results.\n",
    "def show_results(data, v2e, taue, A, B, K, v2i, show_pred=False):\n",
    "    t = data['t']\n",
    "    v2 = data['wheel_velocity']\n",
    "    x1 = v2 - v2e\n",
    "    \n",
    "    fig, (ax_v2, ax_x1) = plt.subplots(1, 2, figsize=(15, 5), sharex=True)\n",
    "\n",
    "    ax_v2.plot(t, v2, label='$v_2$', linewidth=4)\n",
    "    ax_v2.plot(t, np.ones_like(t) * v2e, '--', label='$v_2$ (desired)', linewidth=4)\n",
    "    \n",
    "    ax_x1.plot(t, x1, label='$x_1$', linewidth=4)\n",
    "    ax_x1.plot(t, np.zeros_like(t), '--', label='$x_1$ (desired)', linewidth=4)\n",
    "    \n",
    "    if show_pred:\n",
    "        # Get x(t) and extract components\n",
    "        x_num = get_x_numeric(data, v2e, A, B)\n",
    "        x1_num = x_num[:, 0]\n",
    "        \n",
    "        # Compute v2(t) from x(t)\n",
    "        v2_num = x1_num + v2e\n",
    "        \n",
    "        # Add everything to plots\n",
    "        ax_v2.plot(t, v2_num, ':', label='$v_2$ (linear)', linewidth=6, color='C3')\n",
    "        ax_x1.plot(t, x1_num, ':', label='$x_1$ (linear)', linewidth=6, color='C3')\n",
    "        \n",
    "    ax_v2.grid()\n",
    "    ax_v2.legend(fontsize=16)\n",
    "    ax_v2.tick_params(labelsize=14)\n",
    "    ax_v2.set_ylim(-2*np.pi, 4*np.pi)\n",
    "    \n",
    "    ax_x1.grid()\n",
    "    ax_x1.legend(fontsize=16)\n",
    "    ax_x1.tick_params(labelsize=14)\n",
    "    ax_x1.set_ylim(-3*np.pi, 3*np.pi)\n",
    "        \n",
    "    ax_v2.set_xlabel('time (s)', fontsize=20)\n",
    "    ax_v2.set_xlim([data['t'][0], data['t'][-1]])\n",
    "    ax_x1.set_xlabel('time (s)', fontsize=20)\n",
    "    ax_x1.set_xlim([data['t'][0], data['t'][-1]])\n",
    "    \n",
    "    fig.tight_layout()\n",
    "    plt.show()"
   ]
  },
  {
   "cell_type": "markdown",
   "id": "37cb194c",
   "metadata": {},
   "source": [
    "Show results for particular choices of equilibrium point, gain matrix, and initial conditions."
   ]
  },
  {
   "cell_type": "code",
   "execution_count": 6,
   "id": "f2c2a5a8",
   "metadata": {},
   "outputs": [
    {
     "data": {
      "image/png": "[encoded data removed]",
      "text/plain": [
       "<Figure size 1080x360 with 2 Axes>"
      ]
     },
     "metadata": {
      "needs_background": "light"
     },
     "output_type": "display_data"
    }
   ],
   "source": [
    "(v2e, taue) = (2*np.pi, 0.) # <-- EQUILIBRIUM POINT\n",
    "K = np.array([[-5./33.]]) # <-- GAIN MATRIX FOR LINEAR STATE FEEDBACK\n",
    "(v2i) = (0.) # <-- INITIAL CONDITIONS\n",
    "\n",
    "A, B = get_model(v2e, taue)\n",
    "data = get_data(simulator, v2e, taue, K, v2i, max_time=5.0)\n",
    "show_results(data, v2e, taue, A, B, K, v2i, show_pred=False)\n",
    "# show_x_symbolic(A, B, K)\n",
    "# print('\\nEIGENVALUES OF CLOSED-LOOP SYSTEM\\n')\n",
    "# print(f's = {linalg.eigvals(A - B @ K)}')"
   ]
  },
  {
   "cell_type": "markdown",
   "id": "d03303ef",
   "metadata": {},
   "source": [
    "# Control platform angle only (no gravity)"
   ]
  },
  {
   "cell_type": "markdown",
   "id": "37a52e13",
   "metadata": {},
   "source": [
    "Set ground roll angle of simulator."
   ]
  },
  {
   "cell_type": "code",
   "execution_count": 7,
   "id": "b5a9e04c",
   "metadata": {},
   "outputs": [],
   "source": [
    "simulator.set_roll(0.)"
   ]
  },
  {
   "cell_type": "markdown",
   "id": "ce13c147",
   "metadata": {},
   "source": [
    "The full equations of motion are:\n",
    "\n",
    "$$\n",
    "\\begin{aligned}\n",
    "J_1 \\ddot{q}_1 &= \\tau - m_wgl\\sin(q_1)\\sin(\\phi) \\\\\n",
    "J_2 \\dot{v}_2 &= - \\left( \\dfrac{J_1 + J_2}{J_1} \\right) \\tau + \\left( \\dfrac{J_2}{J_1} \\right) m_wgl\\sin(q_1)\\sin(\\phi)\n",
    "\\end{aligned}\n",
    "$$\n",
    "\n",
    "The equations of motion in this particular case ($\\phi=0$, ignore wheel) are:\n",
    "\n",
    "$$\n",
    "\\begin{aligned}\n",
    "J_1 \\ddot{q}_1 &= \\tau\n",
    "\\end{aligned}\n",
    "$$\n",
    "\n",
    "Write equations of motion as:\n",
    "\n",
    "$$\n",
    "\\begin{bmatrix} \\dot{q}_1 \\\\ \\dot{v}_1 \\end{bmatrix}\n",
    "=\n",
    "f \\left( \\begin{bmatrix} q_1 \\\\ v_1 \\end{bmatrix}, \\begin{bmatrix} \\tau \\end{bmatrix} \\right)\n",
    "$$"
   ]
  },
  {
   "cell_type": "markdown",
   "id": "ab06e104",
   "metadata": {},
   "source": [
    "Define functions to do all the analysis."
   ]
  },
  {
   "cell_type": "code",
   "execution_count": 8,
   "id": "462aa2c1",
   "metadata": {},
   "outputs": [],
   "source": [
    "# Define a function to return a state-space model for a given choice of equilibrium point.\n",
    "def get_model(q1e, v1e, taue):\n",
    "    # Define variables\n",
    "    q1, v1, tau = sym.symbols('q1, v1, tau')\n",
    "    \n",
    "    # Define right-hand side of ODEs\n",
    "    f = sym.Matrix([\n",
    "        v1,\n",
    "        (1 / J1) * tau,\n",
    "    ])\n",
    "\n",
    "    # Convert floating-point to rational numbers\n",
    "    f = sym.nsimplify(f, rational=True)\n",
    "    \n",
    "    # Verify equilibrium point\n",
    "    f_num = sym.lambdify([q1, v1, tau], f)\n",
    "    if not np.allclose(f_num(q1e, v1e, taue), 0.):\n",
    "        raise Exception('equilibrium point is invalid')\n",
    "    \n",
    "    # Find A and B in symbolic form\n",
    "    A_sym = f.jacobian([q1, v1])\n",
    "    B_sym = f.jacobian([tau])\n",
    "\n",
    "    # Create lambda functions to allow numerical evaluation of A and B\n",
    "    A_num = sym.lambdify([q1, v1, tau], A_sym)\n",
    "    B_num = sym.lambdify([q1, v1, tau], B_sym)\n",
    "\n",
    "    # Find A and B in numeric form (making sure the result is floating-point)\n",
    "    A = A_num(q1e, v1e, taue).astype(float)\n",
    "    B = B_num(q1e, v1e, taue).astype(float)\n",
    "\n",
    "    # Return A and B\n",
    "    return A, B\n",
    "\n",
    "# Define a controller that implements linear state feedback.\n",
    "class Controller:\n",
    "    def __init__(self, K, q1e, v1e, taue):\n",
    "        self.K = K\n",
    "        self.q1e = q1e\n",
    "        self.v1e = v1e\n",
    "        self.taue = taue\n",
    "    \n",
    "    def reset(self):\n",
    "        pass\n",
    "    \n",
    "    def run(\n",
    "            self,\n",
    "            t,\n",
    "            platform_angle,\n",
    "            platform_velocity,\n",
    "            wheel_angle,\n",
    "            wheel_velocity,\n",
    "        ):\n",
    "        \n",
    "        # Find state\n",
    "        x = np.array([\n",
    "            platform_angle - self.q1e,\n",
    "            platform_velocity - self.v1e,\n",
    "        ])\n",
    "        \n",
    "        # Find input\n",
    "        u = - self.K @ x\n",
    "        \n",
    "        # Find actuator command\n",
    "        tau = u[0]\n",
    "        \n",
    "        wheel_torque = -tau\n",
    "        return wheel_torque\n",
    "    \n",
    "# Define a function to get data from simulation for a given choice\n",
    "# of equilibrium point, gain matrix, and initial condition.\n",
    "def get_data(simulator, q1e, v1e, taue, K, q1i, v1i, max_time=5.0):\n",
    "    # Create controller\n",
    "    controller = Controller(K, q1e, v1e, taue)\n",
    "    \n",
    "    # Reset simulator\n",
    "    simulator.reset(\n",
    "        platform_angle=q1i,\n",
    "        platform_velocity=v1i,\n",
    "        wheel_angle=0.,\n",
    "        wheel_velocity=0.,\n",
    "    )\n",
    "\n",
    "    # Reset controller\n",
    "    controller.reset()\n",
    "\n",
    "    # Run simulator\n",
    "    data = simulator.run(\n",
    "        controller,\n",
    "        max_time=max_time,\n",
    "    )\n",
    "    \n",
    "    # Return data\n",
    "    return data\n",
    "\n",
    "# Define a function to find numeric solution to closed-loop (linear) system.\n",
    "def get_x_numeric(data, q1e, v1e, A, B):\n",
    "    # Define initial conditions\n",
    "    x0 = np.array([\n",
    "        data['platform_angle'][0] - q1e,\n",
    "        data['platform_velocity'][0] - v1e,\n",
    "    ])\n",
    "\n",
    "    # Create empty array to hold state at each time\n",
    "    x = []\n",
    "\n",
    "    # Compute state at each time\n",
    "    for t in data['t']:\n",
    "        x.append(linalg.expm((A - B @ K) * t) @ x0)\n",
    "    x = np.array(x)\n",
    "    \n",
    "    # Return state at each time\n",
    "    return x\n",
    "\n",
    "# Define a function to find symbolic solution to closed-loop (linear) system.\n",
    "def get_x_symbolic(A, B, K):\n",
    "    # Model\n",
    "    A = sym.nsimplify(sym.Matrix(A), rational=True)\n",
    "    B = sym.nsimplify(sym.Matrix(B), rational=True)\n",
    "    K = sym.nsimplify(sym.Matrix(K), rational=True)\n",
    "    \n",
    "    # Variables\n",
    "    t, x_1i, x_2i = sym.symbols('t, x_1i, x_2i', real=True)\n",
    "    \n",
    "    # Initial condition\n",
    "    x0 = sym.Matrix([x_1i, x_2i])\n",
    "    \n",
    "    # Solution\n",
    "    x = sym.exp((A - B @ K) * t) @ x0\n",
    "    return x\n",
    "\n",
    "# Define a function to show symbolic solution to closed-loop (linear) system.\n",
    "def show_x_symbolic(A, B, K):\n",
    "    x = get_x_symbolic(A, B, K)\n",
    "    print('\\nSOLUTION TO CLOSED-LOOP SYSTEM')\n",
    "    display(Markdown(f'$$x(t) = {sym.latex(x)}$$'))\n",
    "    \n",
    "# Define a function to show results.\n",
    "def show_results(data, q1e, v1e, taue, A, B, K, q1i, v1i, show_pred=False):\n",
    "    t = data['t']\n",
    "    q1 = data['platform_angle']\n",
    "    v1 = data['platform_velocity']\n",
    "    x1 = q1 - q1e\n",
    "    x2 = v1 - v1e\n",
    "    \n",
    "    fig, ((ax_q1, ax_x1), (ax_v1, ax_x2)) = plt.subplots(2, 2, figsize=(15, 10), sharex=True)\n",
    "\n",
    "    ax_q1.plot(t, q1, label='$q_1$', linewidth=4)\n",
    "    ax_q1.plot(t, np.ones_like(t) * q1e, '--', label='$q_1$ (desired)', linewidth=4)\n",
    "    \n",
    "    ax_v1.plot(t, v1, label='$v_1$', linewidth=4)\n",
    "    ax_v1.plot(t, np.ones_like(t) * v1e, '--', label='$v_1$ (desired)', linewidth=4)\n",
    "    \n",
    "    ax_x1.plot(t, x1, label='$x_1$', linewidth=4)\n",
    "    ax_x1.plot(t, np.zeros_like(t), '--', label='$x_1$ (desired)', linewidth=4)\n",
    "    \n",
    "    ax_x2.plot(t, x2, label='$x_2$', linewidth=4)\n",
    "    ax_x2.plot(t, np.zeros_like(t), '--', label='$x_2$ (desired)', linewidth=4)\n",
    "    \n",
    "    if show_pred:\n",
    "        # Get x(t) and extract components\n",
    "        x_num = get_x_numeric(data, q1e, v1e, A, B)\n",
    "        x1_num = x_num[:, 0]\n",
    "        x2_num = x_num[:, 1]\n",
    "        \n",
    "        # Compute q1(t) and v1(t) from x(t)\n",
    "        q1_num = x1_num + q1e\n",
    "        v1_num = x2_num + v1e\n",
    "        \n",
    "        # Add everything to plots\n",
    "        ax_q1.plot(t, q1_num, ':', label='$q_1$ (linear)', linewidth=6, color='C3')\n",
    "        ax_v1.plot(t, v1_num, ':', label='$v_1$ (linear)', linewidth=6, color='C3')\n",
    "        ax_x1.plot(t, x1_num, ':', label='$x_1$ (linear)', linewidth=6, color='C3')\n",
    "        ax_x2.plot(t, x2_num, ':', label='$x_2$ (linear)', linewidth=6, color='C3')\n",
    "        \n",
    "    ax_q1.grid()\n",
    "    ax_q1.legend(fontsize=16)\n",
    "    ax_q1.tick_params(labelsize=14)\n",
    "    ax_q1.set_ylim(-1, 1)\n",
    "    \n",
    "    ax_v1.grid()\n",
    "    ax_v1.legend(fontsize=16)\n",
    "    ax_v1.tick_params(labelsize=14)\n",
    "    ax_v1.set_ylim(-1, 1)\n",
    "\n",
    "    ax_x1.grid()\n",
    "    ax_x1.legend(fontsize=16)\n",
    "    ax_x1.tick_params(labelsize=14)\n",
    "    ax_x1.set_ylim(-1, 1)\n",
    "        \n",
    "    ax_x2.grid()\n",
    "    ax_x2.legend(fontsize=16)\n",
    "    ax_x2.tick_params(labelsize=14)\n",
    "    ax_x2.set_ylim(-1, 1)\n",
    "    \n",
    "    ax_v1.set_xlabel('time (s)', fontsize=20)\n",
    "    ax_v1.set_xlim([data['t'][0], data['t'][-1]])\n",
    "    ax_x2.set_xlabel('time (s)', fontsize=20)\n",
    "    ax_x2.set_xlim([data['t'][0], data['t'][-1]])\n",
    "    \n",
    "    fig.tight_layout()\n",
    "    plt.show()"
   ]
  },
  {
   "cell_type": "markdown",
   "id": "3abd95ec",
   "metadata": {},
   "source": [
    "Show results for particular choices of equilibrium point, gain matrix, and initial conditions."
   ]
  },
  {
   "cell_type": "code",
   "execution_count": 9,
   "id": "dfbcc05e",
   "metadata": {},
   "outputs": [
    {
     "data": {
      "image/png": "[encoded data removed]",
      "text/plain": [
       "<Figure size 1080x720 with 4 Axes>"
      ]
     },
     "metadata": {
      "needs_background": "light"
     },
     "output_type": "display_data"
    },
    {
     "name": "stdout",
     "output_type": "stream",
     "text": [
      "s = [-2.+0.j -5.+0.j]\n"
     ]
    }
   ],
   "source": [
    "(q1e, v1e, taue) = (np.pi / 6, 0., 0.) # <-- EQUILIBRIUM POINT\n",
    "K = np.array([[10., 7.]]) # <-- GAIN MATRIX FOR LINEAR STATE FEEDBACK\n",
    "# K = np.array([[-6., 1.]]) # <-- GAIN MATRIX FOR LINEAR STATE FEEDBACK\n",
    "# K = np.array([[5., 2.]]) # <-- GAIN MATRIX FOR LINEAR STATE FEEDBACK\n",
    "# K = np.array([[4., 4.]]) # <-- GAIN MATRIX FOR LINEAR STATE FEEDBACK\n",
    "\n",
    "\n",
    "(q1i, v1i) = (0., -0.5) # <-- INITIAL CONDITIONS\n",
    "\n",
    "A, B = get_model(q1e, v1e, taue)\n",
    "data = get_data(simulator, q1e, v1e, taue, K, q1i, v1i, max_time=5.0)\n",
    "show_results(data, q1e, v1e, taue, A, B, K, q1i, v1i, show_pred=False)\n",
    "# show_x_symbolic(A, B, K)\n",
    "# print('\\nEIGENVALUES OF CLOSED-LOOP SYSTEM\\n')\n",
    "print(f's = {linalg.eigvals(A - B @ K)}')"
   ]
  },
  {
   "cell_type": "markdown",
   "id": "df8bad0f",
   "metadata": {},
   "source": [
    "Find closed-loop system:\n",
    "\n",
    "$$F = A - BK$$"
   ]
  },
  {
   "cell_type": "code",
   "execution_count": 10,
   "id": "a4b80481",
   "metadata": {},
   "outputs": [
    {
     "name": "stdout",
     "output_type": "stream",
     "text": [
      "F =\n",
      "[[  0.   1.]\n",
      " [-10.  -7.]]\n"
     ]
    }
   ],
   "source": [
    "F = A - B @ K\n",
    "print('F =')\n",
    "print(F)"
   ]
  },
  {
   "cell_type": "markdown",
   "id": "d18f90da",
   "metadata": {},
   "source": [
    "Find eigenvalues of closed-loop system:"
   ]
  },
  {
   "cell_type": "code",
   "execution_count": 11,
   "id": "06c9165d",
   "metadata": {},
   "outputs": [
    {
     "name": "stdout",
     "output_type": "stream",
     "text": [
      "s = [-2.+0.j -5.+0.j]\n"
     ]
    }
   ],
   "source": [
    "s = linalg.eigvals(F)\n",
    "print(f's = {s}')"
   ]
  },
  {
   "cell_type": "markdown",
   "id": "34645b7b",
   "metadata": {},
   "source": [
    "Find:\n",
    "\n",
    "* a matrix $S$ with eigenvalues in each diagonal entry\n",
    "* a matrix $V$ with the corresponding eigenvectors in each column"
   ]
  },
  {
   "cell_type": "code",
   "execution_count": 12,
   "id": "d084b67e",
   "metadata": {},
   "outputs": [
    {
     "name": "stdout",
     "output_type": "stream",
     "text": [
      "S =\n",
      "[[-2.+0.j  0.+0.j]\n",
      " [ 0.+0.j -5.+0.j]]\n",
      "\n",
      "V =\n",
      "[[ 0.4472136  -0.19611614]\n",
      " [-0.89442719  0.98058068]]\n"
     ]
    }
   ],
   "source": [
    "s, V = linalg.eig(F)\n",
    "S = np.diag(s)\n",
    "print('S =')\n",
    "print(S)\n",
    "print('\\nV =')\n",
    "print(V)"
   ]
  },
  {
   "cell_type": "markdown",
   "id": "36a9a88b",
   "metadata": {},
   "source": [
    "Notice that the columns of $V$ (i.e., the eigenvectors of $F$) are normalized:"
   ]
  },
  {
   "cell_type": "code",
   "execution_count": 13,
   "id": "42b1e7b3",
   "metadata": {},
   "outputs": [
    {
     "name": "stdout",
     "output_type": "stream",
     "text": [
      "length of v1 = 1\n",
      "length of v2 = 1\n"
     ]
    }
   ],
   "source": [
    "print(f'length of v1 = {linalg.norm(V[:, 0]):g}')\n",
    "print(f'length of v2 = {linalg.norm(V[:, 1]):g}')"
   ]
  },
  {
   "cell_type": "markdown",
   "id": "68fa1131",
   "metadata": {},
   "source": [
    "Show that:\n",
    "\n",
    "$$V^{-1}FV = S = \\text{diag}(s_1, s_2)$$"
   ]
  },
  {
   "cell_type": "code",
   "execution_count": 14,
   "id": "1e934b4a",
   "metadata": {},
   "outputs": [
    {
     "name": "stdout",
     "output_type": "stream",
     "text": [
      "[[-2. -0.]\n",
      " [ 0. -5.]]\n"
     ]
    }
   ],
   "source": [
    "print(linalg.inv(V) @ F @ V)"
   ]
  },
  {
   "cell_type": "markdown",
   "id": "75a4cd35",
   "metadata": {},
   "source": [
    "Show that:\n",
    "\n",
    "$$e^{Ft}x_0 = V e^{V^{-1}FVt}V^{-1}x_0$$"
   ]
  },
  {
   "cell_type": "code",
   "execution_count": 15,
   "id": "9fbb5c6c",
   "metadata": {},
   "outputs": [
    {
     "name": "stdout",
     "output_type": "stream",
     "text": [
      "solution:\n",
      "[[ 0.81873075]\n",
      " [-1.63746151]]\n",
      "\n",
      "solution by diagonalization:\n",
      "[[ 0.81873075]\n",
      " [-1.63746151]]\n"
     ]
    }
   ],
   "source": [
    "# Choose a time and an initial condition for this example\n",
    "t = 0.1\n",
    "x0 = np.array([[1.], [-2.]])\n",
    "\n",
    "# Compute solution the normal way\n",
    "print('solution:')\n",
    "print(linalg.expm(F * t) @ x0)\n",
    "\n",
    "# Compute solution by diagonalization\n",
    "print('\\nsolution by diagonalization:')\n",
    "print(V @ linalg.expm(linalg.inv(V) @ F @ V * t) @ linalg.inv(V) @ x0)\n",
    "# print('\\nsolution by diagonalization (real part only):')\n",
    "# print((V @ linalg.expm(linalg.inv(V) @ F @ V * t) @ linalg.inv(V) @ x0).real)"
   ]
  },
  {
   "cell_type": "markdown",
   "id": "bad4bf7c",
   "metadata": {},
   "source": [
    "Find solution at arbitrary time for arbitrary initial condition:\n",
    "\n",
    "$$ x(t) = e^{Ft} x(0) $$"
   ]
  },
  {
   "cell_type": "code",
   "execution_count": 16,
   "id": "5478cc77",
   "metadata": {},
   "outputs": [
    {
     "data": {
      "text/markdown": [
       "$$x(t) = \\left[\\begin{matrix}x_{1i} \\left(\\frac{5 e^{- 2 t}}{3} - \\frac{2 e^{- 5 t}}{3}\\right) + x_{2i} \\left(\\frac{e^{- 2 t}}{3} - \\frac{e^{- 5 t}}{3}\\right)\\\\x_{1i} \\left(- \\frac{10 e^{- 2 t}}{3} + \\frac{10 e^{- 5 t}}{3}\\right) + x_{2i} \\left(- \\frac{2 e^{- 2 t}}{3} + \\frac{5 e^{- 5 t}}{3}\\right)\\end{matrix}\\right]$$"
      ],
      "text/plain": [
       "<IPython.core.display.Markdown object>"
      ]
     },
     "metadata": {},
     "output_type": "display_data"
    }
   ],
   "source": [
    "# Symbolic variables\n",
    "t, x_1i, x_2i = sym.symbols('t, x_1i, x_2i', real=True)\n",
    "\n",
    "# Closed-loop system (symbolic)\n",
    "F = sym.nsimplify(sym.Matrix(F), rational=True)\n",
    "\n",
    "# Initial condition (symbolic)\n",
    "x0 = sym.Matrix([x_1i, x_2i])\n",
    "\n",
    "# Solution (symbolic)\n",
    "x = sym.exp(F * t) @ x0\n",
    "# sym.simplify(sym.exp(F * t) @ x0)\n",
    "# sym.simplify(sym.exp(F * t) @ x0).expand()\n",
    "\n",
    "# Display\n",
    "display(Markdown(f'$$x(t) = {sym.latex(x)}$$'))"
   ]
  },
  {
   "cell_type": "markdown",
   "id": "0d36d868",
   "metadata": {},
   "source": [
    "Diagonalize $F$ again, this time with symbolic computation:"
   ]
  },
  {
   "cell_type": "code",
   "execution_count": 17,
   "id": "6d9e2b9e",
   "metadata": {},
   "outputs": [
    {
     "data": {
      "text/markdown": [
       "$$V = \\left[\\begin{matrix}-1 & -1\\\\5 & 2\\end{matrix}\\right]$$"
      ],
      "text/plain": [
       "<IPython.core.display.Markdown object>"
      ]
     },
     "metadata": {},
     "output_type": "display_data"
    },
    {
     "data": {
      "text/markdown": [
       "$$S = \\left[\\begin{matrix}-5 & 0\\\\0 & -2\\end{matrix}\\right]$$"
      ],
      "text/plain": [
       "<IPython.core.display.Markdown object>"
      ]
     },
     "metadata": {},
     "output_type": "display_data"
    }
   ],
   "source": [
    "V, S = F.diagonalize()\n",
    "\n",
    "display(Markdown(f'$$V = {sym.latex(V)}$$'))\n",
    "display(Markdown(f'$$S = {sym.latex(S)}$$'))"
   ]
  },
  {
   "cell_type": "markdown",
   "id": "1b73587e",
   "metadata": {},
   "source": [
    "Are the eigenvalues and eigenvectors the same as we got before?"
   ]
  },
  {
   "cell_type": "code",
   "execution_count": 18,
   "id": "a3132069",
   "metadata": {},
   "outputs": [
    {
     "name": "stdout",
     "output_type": "stream",
     "text": [
      "v1 =\n",
      "[[-0.19611614+0.j]\n",
      " [ 0.98058068+0.j]]\n",
      "\n",
      "v2 =\n",
      "[[-0.4472136 +0.j]\n",
      " [ 0.89442719+0.j]]\n"
     ]
    }
   ],
   "source": [
    "# Normalize each eigenvector\n",
    "v1 = V[:, 0] / V[:, 0].norm()\n",
    "v2 = V[:, 1] / V[:, 1].norm()\n",
    "\n",
    "# Convert each eigenvector from symbolic to numeric\n",
    "v1 = np.array(v1.evalf()).astype(complex)\n",
    "v2 = np.array(v2.evalf()).astype(complex)\n",
    "\n",
    "# Show each eigenvector\n",
    "print(f'v1 =\\n{v1}\\n')\n",
    "print(f'v2 =\\n{v2}')"
   ]
  },
  {
   "cell_type": "markdown",
   "id": "95c2448d",
   "metadata": {},
   "source": [
    "Find solution at arbitrary time for arbitrary initial condition by diagonalization:\n",
    "\n",
    "$$x(t) = Ve^{V^{-1}FVt}V^{-1}x(0) = Ve^{St}V^{-1}x(0)$$"
   ]
  },
  {
   "cell_type": "code",
   "execution_count": 19,
   "id": "fd53416c",
   "metadata": {},
   "outputs": [
    {
     "name": "stdout",
     "output_type": "stream",
     "text": [
      "SOLUTION\n"
     ]
    },
    {
     "data": {
      "text/markdown": [
       "$$x(t) = \\left[\\begin{matrix}x_{1i} \\left(\\frac{5 e^{- 2 t}}{3} - \\frac{2 e^{- 5 t}}{3}\\right) + x_{2i} \\left(\\frac{e^{- 2 t}}{3} - \\frac{e^{- 5 t}}{3}\\right)\\\\x_{1i} \\left(- \\frac{10 e^{- 2 t}}{3} + \\frac{10 e^{- 5 t}}{3}\\right) + x_{2i} \\left(- \\frac{2 e^{- 2 t}}{3} + \\frac{5 e^{- 5 t}}{3}\\right)\\end{matrix}\\right]$$"
      ],
      "text/plain": [
       "<IPython.core.display.Markdown object>"
      ]
     },
     "metadata": {},
     "output_type": "display_data"
    },
    {
     "name": "stdout",
     "output_type": "stream",
     "text": [
      "\n",
      "SOLUTION BY DIAGONALIZATION\n"
     ]
    },
    {
     "data": {
      "text/markdown": [
       "$$x(t) = \\left[\\begin{matrix}x_{1i} \\left(\\frac{5 e^{- 2 t}}{3} - \\frac{2 e^{- 5 t}}{3}\\right) + x_{2i} \\left(\\frac{e^{- 2 t}}{3} - \\frac{e^{- 5 t}}{3}\\right)\\\\x_{1i} \\left(- \\frac{10 e^{- 2 t}}{3} + \\frac{10 e^{- 5 t}}{3}\\right) + x_{2i} \\left(- \\frac{2 e^{- 2 t}}{3} + \\frac{5 e^{- 5 t}}{3}\\right)\\end{matrix}\\right]$$"
      ],
      "text/plain": [
       "<IPython.core.display.Markdown object>"
      ]
     },
     "metadata": {},
     "output_type": "display_data"
    }
   ],
   "source": [
    "# Solution (symbolic, by diagonalization)\n",
    "x_diag = V @ sym.exp(S * t) @ V.inv() @ x0\n",
    "\n",
    "# # Simplify solution (expanding all complex exponentials)\n",
    "# x_diag = sym.expand_complex(x_diag)\n",
    "# x_diag = sym.simplify(x_diag, full=True)\n",
    "\n",
    "# Display\n",
    "print('SOLUTION')\n",
    "display(Markdown(f'$$x(t) = {sym.latex(x)}$$'))\n",
    "print('\\nSOLUTION BY DIAGONALIZATION')\n",
    "display(Markdown(f'$$x(t) = {sym.latex(x_diag)}$$'))"
   ]
  },
  {
   "cell_type": "code",
   "execution_count": null,
   "id": "f1eb964f",
   "metadata": {},
   "outputs": [],
   "source": []
  },
  {
   "cell_type": "markdown",
   "id": "d703c4f3",
   "metadata": {},
   "source": [
    "# Control platform angle and wheel velocity with gravity"
   ]
  },
  {
   "cell_type": "markdown",
   "id": "cb21918c",
   "metadata": {},
   "source": [
    "Set ground roll angle of simulator."
   ]
  },
  {
   "cell_type": "code",
   "execution_count": 20,
   "id": "ec0170e5",
   "metadata": {},
   "outputs": [],
   "source": [
    "simulator.set_roll(np.pi / 2)"
   ]
  },
  {
   "cell_type": "markdown",
   "id": "6efc62f7",
   "metadata": {},
   "source": [
    "The full equations of motion are:\n",
    "\n",
    "$$\n",
    "\\begin{aligned}\n",
    "J_1 \\ddot{q}_1 &= \\tau - m_wgl\\sin(q_1)\\sin(\\phi) \\\\\n",
    "J_2 \\dot{v}_2 &= - \\left( \\dfrac{J_1 + J_2}{J_1} \\right) \\tau + \\left( \\dfrac{J_2}{J_1} \\right) m_wgl\\sin(q_1)\\sin(\\phi)\n",
    "\\end{aligned}\n",
    "$$\n",
    "\n",
    "The equations of motion in this particular case ($\\phi=\\pi/2$) are:\n",
    "\n",
    "$$\n",
    "\\begin{aligned}\n",
    "J_1 \\ddot{q}_1 &= \\tau - m_wgl\\sin(q_1) \\\\\n",
    "J_2 \\dot{v}_2 &= - \\left( \\dfrac{J_1 + J_2}{J_1} \\right) \\tau + \\left( \\dfrac{J_2}{J_1} \\right) m_wgl\\sin(q_1)\n",
    "\\end{aligned}\n",
    "$$\n",
    "\n",
    "Write equations of motion as:\n",
    "\n",
    "$$\n",
    "\\begin{bmatrix} \\dot{q}_1 \\\\ \\dot{v}_1 \\\\ \\dot{v}_2 \\end{bmatrix}\n",
    "=\n",
    "f \\left( \\begin{bmatrix} q_1 \\\\ v_1 \\\\ v_2 \\end{bmatrix}, \\begin{bmatrix} \\tau \\end{bmatrix} \\right)\n",
    "$$"
   ]
  },
  {
   "cell_type": "markdown",
   "id": "608481a4",
   "metadata": {},
   "source": [
    "Define functions to do all the analysis."
   ]
  },
  {
   "cell_type": "code",
   "execution_count": 21,
   "id": "3186758f",
   "metadata": {},
   "outputs": [],
   "source": [
    "# Define a function to return a state-space model for a given choice of equilibrium point.\n",
    "def get_model(q1e, v1e, v2e, taue):\n",
    "    # Define variables\n",
    "    q1, v1, v2, tau = sym.symbols('q1, v1, v2, tau')\n",
    "    \n",
    "    # Define right-hand side of ODEs\n",
    "    f = sym.Matrix([\n",
    "        v1,\n",
    "        (1 / J1) * (tau - mw * g * l * sym.sin(q1)),\n",
    "        (1 / J2) * (- ((J1 + J2) / J1) * tau + (J2 / J1) * mw * g * l * sym.sin(q1))\n",
    "    ])\n",
    "\n",
    "    # Convert floating-point to rational numbers\n",
    "    f = sym.nsimplify(f, rational=True)\n",
    "    \n",
    "    # Verify equilibrium point\n",
    "    f_num = sym.lambdify([q1, v1, v2, tau], f)\n",
    "    if not np.allclose(f_num(q1e, v1e, v2e, taue), 0.):\n",
    "        raise Exception('equilibrium point is invalid')\n",
    "    \n",
    "    # Find A and B in symbolic form\n",
    "    A_sym = f.jacobian([q1, v1, v2])\n",
    "    B_sym = f.jacobian([tau])\n",
    "\n",
    "    # Create lambda functions to allow numerical evaluation of A and B\n",
    "    A_num = sym.lambdify([q1, v1, v2, tau], A_sym)\n",
    "    B_num = sym.lambdify([q1, v1, v2, tau], B_sym)\n",
    "\n",
    "    # Find A and B in numeric form (making sure the result is floating-point)\n",
    "    A = A_num(q1e, v1e, v2e, taue).astype(float)\n",
    "    B = B_num(q1e, v1e, v2e, taue).astype(float)\n",
    "\n",
    "    # Return A and B\n",
    "    return A, B\n",
    "\n",
    "# Define a controller that implements linear state feedback.\n",
    "class Controller:\n",
    "    def __init__(self, K, q1e, v1e, v2e, taue):\n",
    "        self.K = K\n",
    "        self.q1e = q1e\n",
    "        self.v1e = v1e\n",
    "        self.v2e = v2e\n",
    "        self.taue = taue\n",
    "    \n",
    "    def reset(self):\n",
    "        pass\n",
    "    \n",
    "    def run(\n",
    "            self,\n",
    "            t,\n",
    "            platform_angle,\n",
    "            platform_velocity,\n",
    "            wheel_angle,\n",
    "            wheel_velocity,\n",
    "        ):\n",
    "        \n",
    "        # Find state\n",
    "        x = np.array([\n",
    "            platform_angle - self.q1e,\n",
    "            platform_velocity - self.v1e,\n",
    "            wheel_velocity - self.v2e,\n",
    "        ])\n",
    "        \n",
    "        # Find input\n",
    "        u = - self.K @ x\n",
    "        \n",
    "        # Find actuator command\n",
    "        tau = u[0]\n",
    "        \n",
    "        wheel_torque = -tau\n",
    "        return wheel_torque\n",
    "    \n",
    "# Define a function to get data from simulation for a given choice\n",
    "# of equilibrium point, gain matrix, and initial condition.\n",
    "def get_data(simulator, q1e, v1e, v2e, taue, K, q1i, v1i, v2i, max_time=5.0):\n",
    "    # Create controller\n",
    "    controller = Controller(K, q1e, v1e, v2e, taue)\n",
    "    \n",
    "    # Reset simulator\n",
    "    simulator.reset(\n",
    "        platform_angle=q1i,\n",
    "        platform_velocity=v1i,\n",
    "        wheel_angle=0.,\n",
    "        wheel_velocity=v2i,\n",
    "    )\n",
    "\n",
    "    # Reset controller\n",
    "    controller.reset()\n",
    "\n",
    "    # Run simulator\n",
    "    data = simulator.run(\n",
    "        controller,\n",
    "        max_time=max_time,\n",
    "    )\n",
    "    \n",
    "    # Return data\n",
    "    return data\n",
    "\n",
    "# Define a function to find numeric solution to closed-loop (linear) system.\n",
    "def get_x_numeric(data, q1e, v1e, v2e, A, B):\n",
    "    # Define initial conditions\n",
    "    x0 = np.array([\n",
    "        data['platform_angle'][0] - q1e,\n",
    "        data['platform_velocity'][0] - v1e,\n",
    "        data['wheel_velocity'][0] - v2e,\n",
    "    ])\n",
    "\n",
    "    # Create empty array to hold state at each time\n",
    "    x = []\n",
    "\n",
    "    # Compute state at each time\n",
    "    for t in data['t']:\n",
    "        x.append(linalg.expm((A - B @ K) * t) @ x0)\n",
    "    x = np.array(x)\n",
    "    \n",
    "    # Return state at each time\n",
    "    return x\n",
    "\n",
    "# Define a function to find symbolic solution to closed-loop (linear) system.\n",
    "def get_x_symbolic(A, B, K):\n",
    "    # Model\n",
    "    A = sym.nsimplify(sym.Matrix(A), rational=True)\n",
    "    B = sym.nsimplify(sym.Matrix(B), rational=True)\n",
    "    K = sym.nsimplify(sym.Matrix(K), rational=True)\n",
    "    \n",
    "    # Variables\n",
    "    t, x_1i, x_2i, x_3i = sym.symbols('t, x_1i, x_2i, x_3i', real=True)\n",
    "    \n",
    "    # Initial condition\n",
    "    x0 = sym.Matrix([x_1i, x_2i, x_3i])\n",
    "    \n",
    "    # Solution\n",
    "    x = sym.exp((A - B @ K) * t) @ x0\n",
    "    return x\n",
    "\n",
    "# Define a function to show symbolic solution to closed-loop (linear) system.\n",
    "def show_x_symbolic(A, B, K):\n",
    "    x = get_x_symbolic(A, B, K)\n",
    "    print('\\nSOLUTION TO CLOSED-LOOP SYSTEM')\n",
    "    display(Markdown(f'$$x(t) = {sym.latex(x)}$$'))\n",
    "    \n",
    "# Define a function to show results.\n",
    "def show_results(data, q1e, v1e, v2e, taue, A, B, K, q1i, v1i, v2i, show_pred=False):\n",
    "    t = data['t']\n",
    "    q1 = data['platform_angle']\n",
    "    v1 = data['platform_velocity']\n",
    "    v2 = data['wheel_velocity']\n",
    "    x1 = q1 - q1e\n",
    "    x2 = v1 - v1e\n",
    "    x3 = v2 - v2e\n",
    "    \n",
    "    fig, ((ax_q1, ax_x1), (ax_v1, ax_x2), (ax_v2, ax_x3)) = plt.subplots(3, 2, figsize=(15, 12), sharex=True)\n",
    "\n",
    "    ax_q1.plot(t, q1, label='$q_1$', linewidth=4)\n",
    "    ax_q1.plot(t, np.ones_like(t) * q1e, '--', label='$q_1$ (desired)', linewidth=4)\n",
    "    \n",
    "    ax_v1.plot(t, v1, label='$v_1$', linewidth=4)\n",
    "    ax_v1.plot(t, np.ones_like(t) * v1e, '--', label='$v_1$ (desired)', linewidth=4)\n",
    "    \n",
    "    ax_v2.plot(t, v2, label='$v_2$', linewidth=4)\n",
    "    ax_v2.plot(t, np.ones_like(t) * v2e, '--', label='$v_2$ (desired)', linewidth=4)\n",
    "    \n",
    "    ax_x1.plot(t, x1, label='$x_1$', linewidth=4)\n",
    "    ax_x1.plot(t, np.zeros_like(t), '--', label='$x_1$ (desired)', linewidth=4)\n",
    "    \n",
    "    ax_x2.plot(t, x2, label='$x_2$', linewidth=4)\n",
    "    ax_x2.plot(t, np.zeros_like(t), '--', label='$x_2$ (desired)', linewidth=4)\n",
    "    \n",
    "    ax_x3.plot(t, x3, label='$x_3$', linewidth=4)\n",
    "    ax_x3.plot(t, np.zeros_like(t), '--', label='$x_3$ (desired)', linewidth=4)\n",
    "    \n",
    "    if show_pred:\n",
    "        # Get x(t) and extract components\n",
    "        x_num = get_x_numeric(data, q1e, v1e, v2e, A, B)\n",
    "        x1_num = x_num[:, 0]\n",
    "        x2_num = x_num[:, 1]\n",
    "        x3_num = x_num[:, 2]\n",
    "        \n",
    "        # Compute q1(t), v1(t), and v2(t) from x(t)\n",
    "        q1_num = x1_num + q1e\n",
    "        v1_num = x2_num + v1e\n",
    "        v2_num = x3_num + v2e\n",
    "        \n",
    "        # Add everything to plots\n",
    "        ax_q1.plot(t, q1_num, ':', label='$q_1$ (linear)', linewidth=6, color='C3')\n",
    "        ax_v1.plot(t, v1_num, ':', label='$v_1$ (linear)', linewidth=6, color='C3')\n",
    "        ax_v2.plot(t, v2_num, ':', label='$v_2$ (linear)', linewidth=6, color='C3')\n",
    "        ax_x1.plot(t, x1_num, ':', label='$x_1$ (linear)', linewidth=6, color='C3')\n",
    "        ax_x2.plot(t, x2_num, ':', label='$x_2$ (linear)', linewidth=6, color='C3')\n",
    "        ax_x3.plot(t, x3_num, ':', label='$x_3$ (linear)', linewidth=6, color='C3')\n",
    "        \n",
    "    ax_q1.grid()\n",
    "    ax_q1.legend(fontsize=16)\n",
    "    ax_q1.tick_params(labelsize=14)\n",
    "    ax_q1.set_ylim(np.pi - 0.5, np.pi + 0.5)\n",
    "    \n",
    "    ax_v1.grid()\n",
    "    ax_v1.legend(fontsize=16)\n",
    "    ax_v1.tick_params(labelsize=14)\n",
    "    ax_v1.set_ylim(-1, 1)\n",
    "    \n",
    "    ax_v2.grid()\n",
    "    ax_v2.legend(fontsize=16)\n",
    "    ax_v2.tick_params(labelsize=14)\n",
    "    ax_v2.set_ylim(-5, 5)\n",
    "\n",
    "    ax_x1.grid()\n",
    "    ax_x1.legend(fontsize=16)\n",
    "    ax_x1.tick_params(labelsize=14)\n",
    "    ax_x1.set_ylim(-0.5, 0.5)\n",
    "        \n",
    "    ax_x2.grid()\n",
    "    ax_x2.legend(fontsize=16)\n",
    "    ax_x2.tick_params(labelsize=14)\n",
    "    ax_x2.set_ylim(-1, 1)\n",
    "    \n",
    "    ax_x3.grid()\n",
    "    ax_x3.legend(fontsize=16)\n",
    "    ax_x3.tick_params(labelsize=14)\n",
    "    ax_x3.set_ylim(-5, 5)\n",
    "    \n",
    "    ax_v2.set_xlabel('time (s)', fontsize=20)\n",
    "    ax_v2.set_xlim([data['t'][0], data['t'][-1]])\n",
    "    ax_x3.set_xlabel('time (s)', fontsize=20)\n",
    "    ax_x3.set_xlim([data['t'][0], data['t'][-1]])\n",
    "    \n",
    "    fig.tight_layout()\n",
    "    plt.show()"
   ]
  },
  {
   "cell_type": "markdown",
   "id": "a4956df8",
   "metadata": {},
   "source": [
    "Show results for particular choices of equilibrium point, gain matrix, and initial conditions."
   ]
  },
  {
   "cell_type": "code",
   "execution_count": 22,
   "id": "a538295e",
   "metadata": {},
   "outputs": [
    {
     "data": {
      "image/png": "[encoded data removed]",
      "text/plain": [
       "<Figure size 1080x864 with 6 Axes>"
      ]
     },
     "metadata": {
      "needs_background": "light"
     },
     "output_type": "display_data"
    }
   ],
   "source": [
    "(q1e, v1e, v2e, taue) = (np.pi, 0., 0., 0.) # <-- EQUILIBRIUM POINT\n",
    "K = np.array([[100., 50., 1.]]) # <-- GAIN MATRIX FOR LINEAR STATE FEEDBACK\n",
    "(q1i, v1i, v2i) = (np.pi - 0.05, -0.05, 0.) # <-- INITIAL CONDITIONS\n",
    "\n",
    "A, B = get_model(q1e, v1e, v2e, taue)\n",
    "data = get_data(simulator, q1e, v1e, v2e, taue, K, q1i, v1i, v2i, max_time=5.0)\n",
    "show_results(data, q1e, v1e, v2e, taue, A, B, K, q1i, v1i, v2i, show_pred=True)\n",
    "# # show_x_symbolic(A, B, K)\n",
    "# print('\\nEIGENVALUES OF CLOSED-LOOP SYSTEM\\n')\n",
    "# print(f's = {linalg.eigvals(A - B @ K)}')"
   ]
  },
  {
   "cell_type": "code",
   "execution_count": null,
   "id": "90ef9863",
   "metadata": {},
   "outputs": [],
   "source": []
  },
  {
   "cell_type": "code",
   "execution_count": null,
   "id": "43d414df",
   "metadata": {},
   "outputs": [],
   "source": []
  },
  {
   "cell_type": "code",
   "execution_count": null,
   "id": "3b76038d",
   "metadata": {},
   "outputs": [],
   "source": []
  },
  {
   "cell_type": "code",
   "execution_count": null,
   "id": "44e598db",
   "metadata": {},
   "outputs": [],
   "source": []
  },
  {
   "cell_type": "code",
   "execution_count": null,
   "id": "46139e08",
   "metadata": {},
   "outputs": [],
   "source": []
  },
  {
   "cell_type": "code",
   "execution_count": null,
   "id": "64b72b6b",
   "metadata": {},
   "outputs": [],
   "source": []
  },
  {
   "cell_type": "code",
   "execution_count": null,
   "id": "e8f6f17a",
   "metadata": {},
   "outputs": [],
   "source": []
  },
  {
   "cell_type": "code",
   "execution_count": null,
   "id": "6b56f6d2",
   "metadata": {},
   "outputs": [],
   "source": []
  },
  {
   "cell_type": "code",
   "execution_count": null,
   "id": "278b323a",
   "metadata": {},
   "outputs": [],
   "source": []
  },
  {
   "cell_type": "code",
   "execution_count": null,
   "id": "bd6cb36d",
   "metadata": {},
   "outputs": [],
   "source": []
  },
  {
   "cell_type": "code",
   "execution_count": null,
   "id": "cdd4cb25",
   "metadata": {},
   "outputs": [],
   "source": []
  },
  {
   "cell_type": "code",
   "execution_count": null,
   "id": "d53d2a60",
   "metadata": {},
   "outputs": [],
   "source": []
  },
  {
   "cell_type": "code",
   "execution_count": null,
   "id": "e823d193",
   "metadata": {},
   "outputs": [],
   "source": []
  },
  {
   "cell_type": "code",
   "execution_count": null,
   "id": "5278c781",
   "metadata": {},
   "outputs": [],
   "source": []
  },
  {
   "cell_type": "code",
   "execution_count": null,
   "id": "d8ff4feb",
   "metadata": {},
   "outputs": [],
   "source": []
  },
  {
   "cell_type": "code",
   "execution_count": null,
   "id": "f9c89cc5",
   "metadata": {},
   "outputs": [],
   "source": []
  },
  {
   "cell_type": "code",
   "execution_count": null,
   "id": "063194f1",
   "metadata": {},
   "outputs": [],
   "source": []
  },
  {
   "cell_type": "code",
   "execution_count": null,
   "id": "4cb38ef1",
   "metadata": {},
   "outputs": [],
   "source": []
  },
  {
   "cell_type": "code",
   "execution_count": null,
   "id": "f9ad3ab7",
   "metadata": {},
   "outputs": [],
   "source": []
  },
  {
   "cell_type": "code",
   "execution_count": null,
   "id": "f5ee69d3",
   "metadata": {},
   "outputs": [],
   "source": []
  },
  {
   "cell_type": "code",
   "execution_count": null,
   "id": "ed679a97",
   "metadata": {},
   "outputs": [],
   "source": []
  },
  {
   "cell_type": "code",
   "execution_count": null,
   "id": "be5d3121",
   "metadata": {},
   "outputs": [],
   "source": []
  },
  {
   "cell_type": "code",
   "execution_count": null,
   "id": "21d06740",
   "metadata": {},
   "outputs": [],
   "source": []
  },
  {
   "cell_type": "code",
   "execution_count": null,
   "id": "0b9c2d53",
   "metadata": {},
   "outputs": [],
   "source": []
  }
 ],
 "metadata": {
  "kernelspec": {
   "display_name": "Python 3 (ipykernel)",
   "language": "python",
   "name": "python3"
  },
  "language_info": {
   "codemirror_mode": {
    "name": "ipython",
    "version": 3
   },
   "file_extension": ".py",
   "mimetype": "text/x-python",
   "name": "python",
   "nbconvert_exporter": "python",
   "pygments_lexer": "ipython3",
   "version": "3.10.2"
  }
 },
 "nbformat": 4,
 "nbformat_minor": 5
}
