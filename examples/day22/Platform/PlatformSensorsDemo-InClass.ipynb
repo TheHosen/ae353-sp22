{
 "cells": [
  {
   "cell_type": "markdown",
   "id": "a35a85e5",
   "metadata": {},
   "source": [
    "# Control platform angle with full state feedback"
   ]
  },
  {
   "cell_type": "markdown",
   "id": "443801f8",
   "metadata": {},
   "source": [
    "Do all imports:"
   ]
  },
  {
   "cell_type": "code",
   "execution_count": 1,
   "id": "be198884",
   "metadata": {},
   "outputs": [],
   "source": [
    "# These are standard modules\n",
    "import time\n",
    "import numpy as np\n",
    "from scipy import linalg\n",
    "from scipy import signal\n",
    "import sympy as sym\n",
    "import matplotlib.pyplot as plt\n",
    "from IPython.display import display, Latex, Markdown\n",
    "\n",
    "# This is a custom interface to the pybullet simulator\n",
    "import ae353_platform\n",
    "\n",
    "# Suppress the use of scientific notation when printing small numbers\n",
    "np.set_printoptions(suppress=True)"
   ]
  },
  {
   "cell_type": "markdown",
   "id": "64d907e7",
   "metadata": {},
   "source": [
    "Create an instance of the simulator (do `Kernel -> Restart` before evaluating this cell)."
   ]
  },
  {
   "cell_type": "code",
   "execution_count": 2,
   "id": "857ef5f7",
   "metadata": {},
   "outputs": [],
   "source": [
    "simulator = ae353_platform.Simulator(\n",
    "    display=True,\n",
    "    roll=0.,\n",
    ")"
   ]
  },
  {
   "cell_type": "markdown",
   "id": "3a4ed7b3",
   "metadata": {},
   "source": [
    "Define equilibrium point and state-space model."
   ]
  },
  {
   "cell_type": "code",
   "execution_count": 3,
   "id": "c47e14ab",
   "metadata": {},
   "outputs": [
    {
     "name": "stdout",
     "output_type": "stream",
     "text": [
      "A =\n",
      "[[0. 1.]\n",
      " [0. 0.]]\n",
      "\n",
      "B =\n",
      "[[0.]\n",
      " [1.]]\n"
     ]
    }
   ],
   "source": [
    "# Equilibrium point\n",
    "(q1e, v1e, taue) = (np.pi / 6, 0., 0.)\n",
    "\n",
    "# State-space model\n",
    "A = np.array([[0., 1.], [0., 0.]])\n",
    "B = np.array([[0.], [1.]])\n",
    "print(f'A =\\n{A}\\n\\nB =\\n{B}')"
   ]
  },
  {
   "cell_type": "markdown",
   "id": "0077b270",
   "metadata": {},
   "source": [
    "Design controller."
   ]
  },
  {
   "cell_type": "code",
   "execution_count": 4,
   "id": "9215c06b",
   "metadata": {},
   "outputs": [
    {
     "name": "stdout",
     "output_type": "stream",
     "text": [
      "K =\n",
      "[[10.  7.]]\n",
      "\n"
     ]
    }
   ],
   "source": [
    "# Eigenvalue placement\n",
    "K = signal.place_poles(A, B, [-2., -5.]).gain_matrix\n",
    "print(f'K =\\n{K}\\n')"
   ]
  },
  {
   "cell_type": "markdown",
   "id": "4b77f844",
   "metadata": {},
   "source": [
    "Implement controller."
   ]
  },
  {
   "cell_type": "code",
   "execution_count": 5,
   "id": "cd4ee4a8",
   "metadata": {},
   "outputs": [],
   "source": [
    "class Controller:\n",
    "    def __init__(self, K, q1e, v1e, taue):\n",
    "        self.K = K\n",
    "        self.q1e = q1e\n",
    "        self.v1e = v1e\n",
    "        self.taue = taue\n",
    "    \n",
    "    def reset(self):\n",
    "        pass\n",
    "    \n",
    "    def run(\n",
    "            self,\n",
    "            t,\n",
    "            platform_angle,\n",
    "            platform_velocity,\n",
    "            wheel_angle,\n",
    "            wheel_velocity,\n",
    "        ):\n",
    "        \n",
    "        # Get state\n",
    "        x = np.array([\n",
    "            platform_angle - self.q1e,\n",
    "            platform_velocity - self.v1e,\n",
    "        ])\n",
    "        \n",
    "        # Get input\n",
    "        u = - self.K @ x\n",
    "        \n",
    "        # Get torque\n",
    "        tau = u[0]\n",
    "        \n",
    "        # Get and return actuator command\n",
    "        wheel_torque = -tau\n",
    "        return wheel_torque"
   ]
  },
  {
   "cell_type": "markdown",
   "id": "08c2f0bb",
   "metadata": {},
   "source": [
    "Test controller in simulation."
   ]
  },
  {
   "cell_type": "code",
   "execution_count": 6,
   "id": "5e2da8b2",
   "metadata": {},
   "outputs": [],
   "source": [
    "# Create controller\n",
    "controller = Controller(K, q1e, v1e, taue)\n",
    "\n",
    "# Choose initial conditions\n",
    "(q1i, v1i) = (0., 0.)\n",
    "\n",
    "# Reset simulator\n",
    "simulator.reset(\n",
    "    platform_angle=q1i,\n",
    "    platform_velocity=v1i,\n",
    "    wheel_angle=0.,\n",
    "    wheel_velocity=0.,\n",
    ")\n",
    "\n",
    "# Reset controller\n",
    "controller.reset()\n",
    "\n",
    "# Run simulator\n",
    "data = simulator.run(\n",
    "    controller,\n",
    "    max_time=10.,\n",
    ")"
   ]
  },
  {
   "cell_type": "markdown",
   "id": "96a0f0de",
   "metadata": {},
   "source": [
    "Show results."
   ]
  },
  {
   "cell_type": "code",
   "execution_count": 7,
   "id": "486cecfe",
   "metadata": {},
   "outputs": [
    {
     "data": {
      "image/png": "[encoded data removed]",
      "text/plain": [
       "<Figure size 720x576 with 3 Axes>"
      ]
     },
     "metadata": {
      "needs_background": "light"
     },
     "output_type": "display_data"
    }
   ],
   "source": [
    "t = data['t']\n",
    "q1 = data['platform_angle']\n",
    "v1 = data['platform_velocity']\n",
    "tau = - data['wheel_torque']\n",
    "x1 = q1 - q1e\n",
    "x2 = v1 - v1e\n",
    "\n",
    "fig, (ax_x1, ax_x2, ax_tau) = plt.subplots(3, 1, figsize=(10, 8), sharex=True)\n",
    "\n",
    "ax_x1.plot(t, x1, label='$x_1$', linewidth=4)\n",
    "\n",
    "ax_x2.plot(t, x2, label='$x_2$', linewidth=4)\n",
    "\n",
    "ax_tau.plot(t, tau, label=r'$\\tau$', linewidth=4)\n",
    "ax_tau.plot(t, simulator.tau_max * np.ones_like(t), '--', linewidth=4, color='C1')\n",
    "ax_tau.plot(t, - simulator.tau_max * np.ones_like(t), '--', linewidth=4, color='C1')\n",
    "\n",
    "ax_x1.grid()\n",
    "ax_x1.legend(fontsize=16, loc='upper right')\n",
    "ax_x1.tick_params(labelsize=14)\n",
    "ax_x1.set_ylim(-1, 1)\n",
    "\n",
    "ax_x2.grid()\n",
    "ax_x2.legend(fontsize=16, loc='upper right')\n",
    "ax_x2.tick_params(labelsize=14)\n",
    "ax_x2.set_ylim(-1, 1)\n",
    "\n",
    "ax_tau.grid()\n",
    "ax_tau.legend(fontsize=16, loc='upper right')\n",
    "ax_tau.tick_params(labelsize=14)\n",
    "ax_tau.set_ylim(-1.2 * simulator.tau_max, 1.2 * simulator.tau_max)\n",
    "\n",
    "ax_tau.set_xlabel('time (s)', fontsize=20)\n",
    "ax_tau.set_xlim([data['t'][0], data['t'][-1]])\n",
    "\n",
    "fig.tight_layout()\n",
    "plt.show()"
   ]
  },
  {
   "cell_type": "markdown",
   "id": "middle-acoustic",
   "metadata": {},
   "source": [
    "# Control platform angle with partial state feedback (linear sensor model)"
   ]
  },
  {
   "cell_type": "markdown",
   "id": "25407b50",
   "metadata": {},
   "source": [
    "Do all imports:"
   ]
  },
  {
   "cell_type": "code",
   "execution_count": 8,
   "id": "64c3e2ba",
   "metadata": {},
   "outputs": [],
   "source": [
    "# These are standard modules\n",
    "import time\n",
    "import numpy as np\n",
    "from scipy import linalg\n",
    "from scipy import signal\n",
    "import sympy as sym\n",
    "import matplotlib.pyplot as plt\n",
    "from IPython.display import display, Latex, Markdown\n",
    "\n",
    "# This is a custom interface to the pybullet simulator\n",
    "import ae353_platform_sensors\n",
    "\n",
    "# Suppress the use of scientific notation when printing small numbers\n",
    "np.set_printoptions(suppress=True)"
   ]
  },
  {
   "cell_type": "markdown",
   "id": "dde7fc13",
   "metadata": {},
   "source": [
    "Create an instance of the simulator (do `Kernel -> Restart` before evaluating this cell)."
   ]
  },
  {
   "cell_type": "code",
   "execution_count": 9,
   "id": "1a2d359e",
   "metadata": {},
   "outputs": [
    {
     "ename": "error",
     "evalue": "Only one local in-process GUI/GUI_SERVER connection allowed. Use DIRECT connection mode or start a separate GUI physics server (ExampleBrowser, App_SharedMemoryPhysics_GUI, App_SharedMemoryPhysics_VR) and connect over SHARED_MEMORY, UDP or TCP instead.",
     "output_type": "error",
     "traceback": [
      "\u001b[1;31m---------------------------------------------------------------------------\u001b[0m",
      "\u001b[1;31merror\u001b[0m                                     Traceback (most recent call last)",
      "Input \u001b[1;32mIn [9]\u001b[0m, in \u001b[0;36m<module>\u001b[1;34m\u001b[0m\n\u001b[1;32m----> 1\u001b[0m simulator \u001b[38;5;241m=\u001b[39m \u001b[43mae353_platform_sensors\u001b[49m\u001b[38;5;241;43m.\u001b[39;49m\u001b[43mSimulator\u001b[49m\u001b[43m(\u001b[49m\n\u001b[0;32m      2\u001b[0m \u001b[43m    \u001b[49m\u001b[43mdisplay\u001b[49m\u001b[38;5;241;43m=\u001b[39;49m\u001b[38;5;28;43;01mTrue\u001b[39;49;00m\u001b[43m,\u001b[49m\n\u001b[0;32m      3\u001b[0m \u001b[43m    \u001b[49m\u001b[43mroll\u001b[49m\u001b[38;5;241;43m=\u001b[39;49m\u001b[38;5;241;43m0.\u001b[39;49m\u001b[43m,\u001b[49m\n\u001b[0;32m      4\u001b[0m \u001b[43m    \u001b[49m\u001b[43msensor_noise\u001b[49m\u001b[38;5;241;43m=\u001b[39;49m\u001b[38;5;241;43m0.\u001b[39;49m\u001b[43m,\u001b[49m\n\u001b[0;32m      5\u001b[0m \u001b[43m)\u001b[49m\n",
      "File \u001b[1;32m~\\Documents\\Junior_Year\\AE_353\\ae353-sp22\\examples\\day22\\Platform\\ae353_platform_sensors.py:40\u001b[0m, in \u001b[0;36mSimulator.__init__\u001b[1;34m(self, display, seed, width, height, roll, damping, tau_max, sensor_noise)\u001b[0m\n\u001b[0;32m     38\u001b[0m \u001b[38;5;28mself\u001b[39m\u001b[38;5;241m.\u001b[39mdisplay \u001b[38;5;241m=\u001b[39m display\n\u001b[0;32m     39\u001b[0m \u001b[38;5;28;01mif\u001b[39;00m \u001b[38;5;28mself\u001b[39m\u001b[38;5;241m.\u001b[39mdisplay:\n\u001b[1;32m---> 40\u001b[0m     \u001b[43mpybullet\u001b[49m\u001b[38;5;241;43m.\u001b[39;49m\u001b[43mconnect\u001b[49m\u001b[43m(\u001b[49m\u001b[43mpybullet\u001b[49m\u001b[38;5;241;43m.\u001b[39;49m\u001b[43mGUI\u001b[49m\u001b[43m,\u001b[49m\u001b[43m \u001b[49m\u001b[43moptions\u001b[49m\u001b[38;5;241;43m=\u001b[39;49m\u001b[38;5;124;43mf\u001b[39;49m\u001b[38;5;124;43m'\u001b[39;49m\u001b[38;5;124;43m--width=\u001b[39;49m\u001b[38;5;132;43;01m{\u001b[39;49;00m\u001b[43mwidth\u001b[49m\u001b[38;5;132;43;01m}\u001b[39;49;00m\u001b[38;5;124;43m --height=\u001b[39;49m\u001b[38;5;132;43;01m{\u001b[39;49;00m\u001b[43mheight\u001b[49m\u001b[38;5;132;43;01m}\u001b[39;49;00m\u001b[38;5;124;43m'\u001b[39;49m\u001b[43m)\u001b[49m\n\u001b[0;32m     41\u001b[0m     pybullet\u001b[38;5;241m.\u001b[39mconfigureDebugVisualizer(\n\u001b[0;32m     42\u001b[0m         pybullet\u001b[38;5;241m.\u001b[39mCOV_ENABLE_GUI, \u001b[38;5;241m0\u001b[39m,\n\u001b[0;32m     43\u001b[0m         lightPosition\u001b[38;5;241m=\u001b[39m[\u001b[38;5;241m10.\u001b[39m, \u001b[38;5;241m10.\u001b[39m, \u001b[38;5;241m10.\u001b[39m],\n\u001b[0;32m     44\u001b[0m     )\n\u001b[0;32m     45\u001b[0m \u001b[38;5;28;01melse\u001b[39;00m:\n",
      "\u001b[1;31merror\u001b[0m: Only one local in-process GUI/GUI_SERVER connection allowed. Use DIRECT connection mode or start a separate GUI physics server (ExampleBrowser, App_SharedMemoryPhysics_GUI, App_SharedMemoryPhysics_VR) and connect over SHARED_MEMORY, UDP or TCP instead."
     ]
    }
   ],
   "source": [
    "simulator = ae353_platform_sensors.Simulator(\n",
    "    display=True,\n",
    "    roll=0.,\n",
    "    sensor_noise=0.,\n",
    ")"
   ]
  },
  {
   "cell_type": "markdown",
   "id": "7f1cf50c",
   "metadata": {},
   "source": [
    "Define equilibrium point and state-space model."
   ]
  },
  {
   "cell_type": "code",
   "execution_count": null,
   "id": "a4259e7c",
   "metadata": {},
   "outputs": [],
   "source": [
    "# Equilibrium point\n",
    "(q1e, v1e, taue) = (np.pi / 6, 0., 0.)\n",
    "\n",
    "# State-space model (dynamics)\n",
    "A = np.array([[0., 1.], [0., 0.]])\n",
    "B = np.array([[0.], [1.]])\n",
    "print(f'A =\\n{A}\\n\\nB =\\n{B}')\n",
    "\n",
    "# State-space model (sensors)\n",
    "C = np.array([[1., 0.]])\n",
    "print(f'\\nC =\\n{C}')"
   ]
  },
  {
   "cell_type": "markdown",
   "id": "6d2ab0cc",
   "metadata": {},
   "source": [
    "Design controller."
   ]
  },
  {
   "cell_type": "code",
   "execution_count": null,
   "id": "a29be6a5",
   "metadata": {},
   "outputs": [],
   "source": [
    "# Eigenvalue placement\n",
    "K = signal.place_poles(A, B, [-1. + 2. * 1j, -1. - 2. * 1j]).gain_matrix\n",
    "print(f'K =\\n{K}\\n')"
   ]
  },
  {
   "cell_type": "markdown",
   "id": "c30fbcc0",
   "metadata": {},
   "source": [
    "Check that the system is observable."
   ]
  },
  {
   "cell_type": "code",
   "execution_count": null,
   "id": "ac1876ae",
   "metadata": {},
   "outputs": [],
   "source": [
    "Wo = np.block([[C], [C @ A]])\n",
    "\n",
    "print(Wo)"
   ]
  },
  {
   "cell_type": "code",
   "execution_count": null,
   "id": "9370ab73",
   "metadata": {},
   "outputs": [],
   "source": [
    "np.linalg.matrix_rank(Wo)"
   ]
  },
  {
   "cell_type": "markdown",
   "id": "0d38ae6e",
   "metadata": {},
   "source": [
    "Design observer."
   ]
  },
  {
   "cell_type": "code",
   "execution_count": null,
   "id": "d882f945",
   "metadata": {},
   "outputs": [],
   "source": [
    "# L = np.array([[10.], [1.]])\n",
    "\n",
    "# Eigenvalue placement\n",
    "L = signal.place_poles(A.T, C.T, [-2., -3.]).gain_matrix.T\n",
    "print(f'L =\\n{L}\\n')"
   ]
  },
  {
   "cell_type": "code",
   "execution_count": null,
   "id": "814cc6eb",
   "metadata": {},
   "outputs": [],
   "source": [
    "F = np.block([[A - B @ K, - B @ K],\n",
    "              [np.zeros((2, 2)), A - L @ C]])\n",
    "\n",
    "print(F)"
   ]
  },
  {
   "cell_type": "code",
   "execution_count": null,
   "id": "072b5cfa",
   "metadata": {},
   "outputs": [],
   "source": [
    "print(linalg.eigvals(F))"
   ]
  },
  {
   "cell_type": "markdown",
   "id": "3d6c2a1e",
   "metadata": {},
   "source": [
    "Implement controller and observer."
   ]
  },
  {
   "cell_type": "code",
   "execution_count": null,
   "id": "6ababdee",
   "metadata": {},
   "outputs": [],
   "source": [
    "class Controller:\n",
    "    def __init__(self, A, B, C, K, L, q1e, v1e, taue):\n",
    "        self.dt = 0.01\n",
    "        self.A = A\n",
    "        self.B = B\n",
    "        self.C = C\n",
    "        self.K = K\n",
    "        self.L = L\n",
    "        self.q1e = q1e\n",
    "        self.v1e = v1e\n",
    "        self.taue = taue\n",
    "        \n",
    "        self.variables_to_log = ['xhat']\n",
    "    \n",
    "    def reset(self):\n",
    "        self.xhat = np.array([0., 0.])\n",
    "    \n",
    "    def run(\n",
    "            self,\n",
    "            t,\n",
    "            platform_angle_measurement,\n",
    "        ):\n",
    "        \n",
    "        # Find input\n",
    "        u = - self.K @ self.xhat\n",
    "        \n",
    "        # Find measurement\n",
    "        y = np.array([platform_angle_measurement - q1e])\n",
    "        \n",
    "        # Find state estimate\n",
    "        self.xhat += self.dt * (self.A @ self.xhat + self.B @ u - self.L @ (self.C @ self.xhat - y))\n",
    "        \n",
    "        # Find actuator command\n",
    "        tau = u[0] + self.taue\n",
    "        \n",
    "        wheel_torque = -tau\n",
    "        return wheel_torque"
   ]
  },
  {
   "cell_type": "markdown",
   "id": "904dd439",
   "metadata": {},
   "source": [
    "Test controller *and observer* in simulation."
   ]
  },
  {
   "cell_type": "code",
   "execution_count": null,
   "id": "b99848fd",
   "metadata": {},
   "outputs": [],
   "source": [
    "# Create controller\n",
    "controller = Controller(A, B, C, K, L, q1e, v1e, taue)\n",
    "\n",
    "# Choose initial conditions\n",
    "(q1i, v1i) = (0., 0.)\n",
    "\n",
    "# Reset simulator\n",
    "simulator.reset(\n",
    "    platform_angle=q1i,\n",
    "    platform_velocity=v1i,\n",
    "    wheel_angle=0.,\n",
    "    wheel_velocity=0.,\n",
    "    sensor_noise=0.1,\n",
    ")\n",
    "\n",
    "# Reset controller\n",
    "controller.reset()\n",
    "\n",
    "# Run simulator\n",
    "data = simulator.run(\n",
    "    controller,\n",
    "    max_time=10.,\n",
    ")"
   ]
  },
  {
   "cell_type": "markdown",
   "id": "68737c31",
   "metadata": {},
   "source": [
    "Show results."
   ]
  },
  {
   "cell_type": "code",
   "execution_count": 10,
   "id": "d33e29ab",
   "metadata": {},
   "outputs": [
    {
     "ename": "KeyError",
     "evalue": "'platform_angle_measurement'",
     "output_type": "error",
     "traceback": [
      "\u001b[1;31m---------------------------------------------------------------------------\u001b[0m",
      "\u001b[1;31mKeyError\u001b[0m                                  Traceback (most recent call last)",
      "Input \u001b[1;32mIn [10]\u001b[0m, in \u001b[0;36m<module>\u001b[1;34m\u001b[0m\n\u001b[0;32m      3\u001b[0m v1 \u001b[38;5;241m=\u001b[39m data[\u001b[38;5;124m'\u001b[39m\u001b[38;5;124mplatform_velocity\u001b[39m\u001b[38;5;124m'\u001b[39m]\n\u001b[0;32m      4\u001b[0m tau \u001b[38;5;241m=\u001b[39m \u001b[38;5;241m-\u001b[39m data[\u001b[38;5;124m'\u001b[39m\u001b[38;5;124mwheel_torque\u001b[39m\u001b[38;5;124m'\u001b[39m]\n\u001b[1;32m----> 5\u001b[0m q1_meas \u001b[38;5;241m=\u001b[39m \u001b[43mdata\u001b[49m\u001b[43m[\u001b[49m\u001b[38;5;124;43m'\u001b[39;49m\u001b[38;5;124;43mplatform_angle_measurement\u001b[39;49m\u001b[38;5;124;43m'\u001b[39;49m\u001b[43m]\u001b[49m\n\u001b[0;32m      6\u001b[0m y1 \u001b[38;5;241m=\u001b[39m q1_meas \u001b[38;5;241m-\u001b[39m q1e\n\u001b[0;32m      7\u001b[0m x1 \u001b[38;5;241m=\u001b[39m q1 \u001b[38;5;241m-\u001b[39m q1e\n",
      "\u001b[1;31mKeyError\u001b[0m: 'platform_angle_measurement'"
     ]
    }
   ],
   "source": [
    "t = data['t']\n",
    "q1 = data['platform_angle']\n",
    "v1 = data['platform_velocity']\n",
    "tau = - data['wheel_torque']\n",
    "q1_meas = data['platform_angle_measurement']\n",
    "y1 = q1_meas - q1e\n",
    "x1 = q1 - q1e\n",
    "x2 = v1 - v1e\n",
    "xhat = data['xhat']\n",
    "\n",
    "fig, (ax_x1, ax_x2, ax_tau) = plt.subplots(3, 1, figsize=(10, 8), sharex=True)\n",
    "\n",
    "ax_x1.plot(t, x1, label='$x_1$', linewidth=4)\n",
    "ax_x1.plot(t, xhat[:, 0], '--', label=r'$x_1$ (estimated)', linewidth=4)\n",
    "ax_x1.plot(t, y1, '.', markersize=2, label='$y_1$')\n",
    "\n",
    "ax_x2.plot(t, x2, label='$x_2$', linewidth=4)\n",
    "ax_x2.plot(t, xhat[:, 1], '--', label=r'$x_2$ (estimated)', linewidth=4)\n",
    "\n",
    "ax_tau.plot(t, tau, label=r'$\\tau$', linewidth=4)\n",
    "ax_tau.plot(t, simulator.tau_max * np.ones_like(t), '--', linewidth=4, color='C1')\n",
    "ax_tau.plot(t, - simulator.tau_max * np.ones_like(t), '--', linewidth=4, color='C1')\n",
    "\n",
    "ax_x1.grid()\n",
    "ax_x1.legend(fontsize=16, loc='upper right')\n",
    "ax_x1.tick_params(labelsize=14)\n",
    "ax_x1.set_ylim(-1, 1)\n",
    "\n",
    "ax_x2.grid()\n",
    "ax_x2.legend(fontsize=16, loc='upper right')\n",
    "ax_x2.tick_params(labelsize=14)\n",
    "ax_x2.set_ylim(-1, 1)\n",
    "\n",
    "ax_tau.grid()\n",
    "ax_tau.legend(fontsize=16, loc='upper right')\n",
    "ax_tau.tick_params(labelsize=14)\n",
    "ax_tau.set_ylim(-1.2 * simulator.tau_max, 1.2 * simulator.tau_max)\n",
    "\n",
    "ax_tau.set_xlabel('time (s)', fontsize=20)\n",
    "ax_tau.set_xlim([data['t'][0], data['t'][-1]])\n",
    "\n",
    "fig.tight_layout()\n",
    "plt.show()"
   ]
  },
  {
   "cell_type": "markdown",
   "id": "42b29fb3",
   "metadata": {},
   "source": [
    "# Control platform angle with partial state feedback (nonlinear sensor model)"
   ]
  },
  {
   "cell_type": "markdown",
   "id": "92149e24",
   "metadata": {},
   "source": [
    "Do all imports:"
   ]
  },
  {
   "cell_type": "code",
   "execution_count": 2,
   "id": "7e2b4e7c",
   "metadata": {},
   "outputs": [],
   "source": [
    "# These are standard modules\n",
    "import time\n",
    "import numpy as np\n",
    "from scipy import linalg\n",
    "from scipy import signal\n",
    "import sympy as sym\n",
    "import matplotlib.pyplot as plt\n",
    "from IPython.display import display, Latex, Markdown\n",
    "\n",
    "# This is a custom interface to the pybullet simulator\n",
    "import ae353_platform_nonlinearsensors\n",
    "\n",
    "# Suppress the use of scientific notation when printing small numbers\n",
    "np.set_printoptions(suppress=True)"
   ]
  },
  {
   "cell_type": "markdown",
   "id": "c16a973b",
   "metadata": {},
   "source": [
    "Create an instance of the simulator (do `Kernel -> Restart` before evaluating this cell)."
   ]
  },
  {
   "cell_type": "code",
   "execution_count": 3,
   "id": "45301c22",
   "metadata": {},
   "outputs": [],
   "source": [
    "simulator = ae353_platform_nonlinearsensors.Simulator(\n",
    "    display=False,\n",
    "    roll=0.,\n",
    "    sensor_noise=0.,\n",
    ")"
   ]
  },
  {
   "cell_type": "markdown",
   "id": "985f43b2",
   "metadata": {},
   "source": [
    "Define equilibrium point and state-space dynamic model."
   ]
  },
  {
   "cell_type": "code",
   "execution_count": 4,
   "id": "c4311dcc",
   "metadata": {},
   "outputs": [
    {
     "name": "stdout",
     "output_type": "stream",
     "text": [
      "A =\n",
      "[[0. 1.]\n",
      " [0. 0.]]\n",
      "\n",
      "B =\n",
      "[[0.]\n",
      " [1.]]\n"
     ]
    }
   ],
   "source": [
    "# Equilibrium point\n",
    "(q1e, v1e, taue) = (np.pi / 6, 0., 0.)\n",
    "\n",
    "# State-space model (dynamics)\n",
    "A = np.array([[0., 1.], [0., 0.]])\n",
    "B = np.array([[0.], [1.]])\n",
    "print(f'A =\\n{A}\\n\\nB =\\n{B}')"
   ]
  },
  {
   "cell_type": "markdown",
   "id": "83204c61",
   "metadata": {},
   "source": [
    "Define outputs and their equilibrium values."
   ]
  },
  {
   "cell_type": "code",
   "execution_count": 5,
   "id": "954ca4da",
   "metadata": {},
   "outputs": [],
   "source": [
    "# Variables\n",
    "q1, v1, tau = sym.symbols('q1, v1, tau')\n",
    "\n",
    "# Outputs\n",
    "o = sym.Matrix([sym.sin(q1)])\n",
    "\n",
    "# Equilibrium\n",
    "o_num = sym.lambdify([q1, v1, tau], o)\n",
    "o_e = o_num(q1e, v1e, taue)"
   ]
  },
  {
   "cell_type": "markdown",
   "id": "68fcf3f4",
   "metadata": {},
   "source": [
    "Show outputs."
   ]
  },
  {
   "cell_type": "code",
   "execution_count": 6,
   "id": "cd518069",
   "metadata": {},
   "outputs": [
    {
     "data": {
      "text/latex": [
       "$\\displaystyle \\left[\\begin{matrix}\\sin{\\left(q_{1} \\right)}\\end{matrix}\\right]$"
      ],
      "text/plain": [
       "Matrix([[sin(q1)]])"
      ]
     },
     "execution_count": 6,
     "metadata": {},
     "output_type": "execute_result"
    }
   ],
   "source": [
    "o"
   ]
  },
  {
   "cell_type": "markdown",
   "id": "4c540e8c",
   "metadata": {},
   "source": [
    "Show equilibrium value of outputs."
   ]
  },
  {
   "cell_type": "code",
   "execution_count": 7,
   "id": "2e4a7058",
   "metadata": {},
   "outputs": [
    {
     "name": "stdout",
     "output_type": "stream",
     "text": [
      "[[0.5]]\n"
     ]
    }
   ],
   "source": [
    "print(o_e)"
   ]
  },
  {
   "cell_type": "markdown",
   "id": "31cc0ddb",
   "metadata": {},
   "source": [
    "Linearize sensor model."
   ]
  },
  {
   "cell_type": "code",
   "execution_count": 8,
   "id": "85b8ab30",
   "metadata": {},
   "outputs": [
    {
     "name": "stdout",
     "output_type": "stream",
     "text": [
      "\n",
      "C =\n",
      "[[0.8660254 0.       ]]\n"
     ]
    }
   ],
   "source": [
    "C_num = sym.lambdify([q1, v1, tau], o.jacobian([q1, v1]))\n",
    "C = C_num(q1e, v1e, taue)\n",
    "\n",
    "print(f'\\nC =\\n{C}')"
   ]
  },
  {
   "cell_type": "markdown",
   "id": "7f12ade1",
   "metadata": {},
   "source": [
    "Design controller."
   ]
  },
  {
   "cell_type": "code",
   "execution_count": 9,
   "id": "5c3c3785",
   "metadata": {},
   "outputs": [
    {
     "name": "stdout",
     "output_type": "stream",
     "text": [
      "K =\n",
      "[[10.  7.]]\n",
      "\n"
     ]
    }
   ],
   "source": [
    "# Eigenvalue placement\n",
    "K = signal.place_poles(A, B, [-2., -5.]).gain_matrix\n",
    "print(f'K =\\n{K}\\n')"
   ]
  },
  {
   "cell_type": "markdown",
   "id": "9f45534c",
   "metadata": {},
   "source": [
    "Design observer."
   ]
  },
  {
   "cell_type": "code",
   "execution_count": 10,
   "id": "5fe880e9",
   "metadata": {},
   "outputs": [
    {
     "name": "stdout",
     "output_type": "stream",
     "text": [
      "L =\n",
      "[[ 8.08290377]\n",
      " [11.54700538]]\n",
      "\n"
     ]
    }
   ],
   "source": [
    "# Eigenvalue placement\n",
    "L = signal.place_poles(A.T, C.T, [-2., -5.]).gain_matrix.T\n",
    "print(f'L =\\n{L}\\n')"
   ]
  },
  {
   "cell_type": "markdown",
   "id": "7faf4c0c",
   "metadata": {},
   "source": [
    "Implement controller and observer."
   ]
  },
  {
   "cell_type": "code",
   "execution_count": 11,
   "id": "8dade21a",
   "metadata": {},
   "outputs": [],
   "source": [
    "class Controller:\n",
    "    def __init__(self, A, B, C, K, L, q1e, v1e, taue):\n",
    "        self.dt = 0.01\n",
    "        self.A = A\n",
    "        self.B = B\n",
    "        self.C = C\n",
    "        self.K = K\n",
    "        self.L = L\n",
    "        self.q1e = q1e\n",
    "        self.v1e = v1e\n",
    "        self.taue = taue\n",
    "        \n",
    "        self.variables_to_log = ['xhat']\n",
    "    \n",
    "    def reset(self):\n",
    "        self.xhat = np.array([0., 0.])\n",
    "    \n",
    "    def run(\n",
    "            self,\n",
    "            t,\n",
    "            platform_angle_measurement,\n",
    "        ):\n",
    "        \n",
    "        # Find input\n",
    "        u = - self.K @ self.xhat\n",
    "        \n",
    "        # Find measurement\n",
    "        y = np.array([np.sin(platform_angle_measurement) - np.sin(q1e)])\n",
    "        \n",
    "        # Find state estimate\n",
    "        self.xhat += self.dt * (self.A @ self.xhat + self.B @ u - self.L @ (self.C @ self.xhat - y))\n",
    "        \n",
    "        # Find actuator command\n",
    "        tau = u[0] + self.taue\n",
    "        \n",
    "        wheel_torque = -tau\n",
    "        return wheel_torque"
   ]
  },
  {
   "cell_type": "markdown",
   "id": "ad8998ca",
   "metadata": {},
   "source": [
    "Test controller *and observer* in simulation."
   ]
  },
  {
   "cell_type": "code",
   "execution_count": 12,
   "id": "ab59e8f9",
   "metadata": {},
   "outputs": [],
   "source": [
    "# Create controller\n",
    "controller = Controller(A, B, C, K, L, q1e, v1e, taue)\n",
    "\n",
    "# Choose initial conditions\n",
    "(q1i, v1i) = (0., 0.)\n",
    "\n",
    "# Reset simulator\n",
    "simulator.reset(\n",
    "    platform_angle=q1i,\n",
    "    platform_velocity=v1i,\n",
    "    wheel_angle=0.,\n",
    "    wheel_velocity=0.,\n",
    "    sensor_noise=0.1,\n",
    ")\n",
    "\n",
    "# Reset controller\n",
    "controller.reset()\n",
    "\n",
    "# Run simulator\n",
    "data = simulator.run(\n",
    "    controller,\n",
    "    max_time=10.,\n",
    ")"
   ]
  },
  {
   "cell_type": "markdown",
   "id": "312bfa13",
   "metadata": {},
   "source": [
    "Show results."
   ]
  },
  {
   "cell_type": "code",
   "execution_count": 13,
   "id": "76aef15d",
   "metadata": {},
   "outputs": [
    {
     "data": {
      "image/png": "[encoded data removed]",
      "text/plain": [
       "<Figure size 720x576 with 3 Axes>"
      ]
     },
     "metadata": {
      "needs_background": "light"
     },
     "output_type": "display_data"
    }
   ],
   "source": [
    "t = data['t']\n",
    "q1 = data['platform_angle']\n",
    "v1 = data['platform_velocity']\n",
    "tau = - data['wheel_torque']\n",
    "q1_meas = data['platform_angle_measurement']\n",
    "y1 = q1_meas - q1e\n",
    "x1 = q1 - q1e\n",
    "x2 = v1 - v1e\n",
    "xhat = data['xhat']\n",
    "\n",
    "fig, (ax_x1, ax_x2, ax_tau) = plt.subplots(3, 1, figsize=(10, 8), sharex=True)\n",
    "\n",
    "ax_x1.plot(t, x1, label='$x_1$', linewidth=4)\n",
    "ax_x1.plot(t, xhat[:, 0], '--', label=r'$x_1$ (estimated)', linewidth=4)\n",
    "ax_x1.plot(t, y1, '.', markersize=2, label='$y_1$')\n",
    "\n",
    "ax_x2.plot(t, x2, label='$x_2$', linewidth=4)\n",
    "ax_x2.plot(t, xhat[:, 1], '--', label=r'$x_2$ (estimated)', linewidth=4)\n",
    "\n",
    "ax_tau.plot(t, tau, label=r'$\\tau$', linewidth=4)\n",
    "ax_tau.plot(t, simulator.tau_max * np.ones_like(t), '--', linewidth=4, color='C1')\n",
    "ax_tau.plot(t, - simulator.tau_max * np.ones_like(t), '--', linewidth=4, color='C1')\n",
    "\n",
    "ax_x1.grid()\n",
    "ax_x1.legend(fontsize=16, loc='upper right')\n",
    "ax_x1.tick_params(labelsize=14)\n",
    "ax_x1.set_ylim(-1, 1)\n",
    "\n",
    "ax_x2.grid()\n",
    "ax_x2.legend(fontsize=16, loc='upper right')\n",
    "ax_x2.tick_params(labelsize=14)\n",
    "ax_x2.set_ylim(-1, 1)\n",
    "\n",
    "ax_tau.grid()\n",
    "ax_tau.legend(fontsize=16, loc='upper right')\n",
    "ax_tau.tick_params(labelsize=14)\n",
    "ax_tau.set_ylim(-1.2 * simulator.tau_max, 1.2 * simulator.tau_max)\n",
    "\n",
    "ax_tau.set_xlabel('time (s)', fontsize=20)\n",
    "ax_tau.set_xlim([data['t'][0], data['t'][-1]])\n",
    "\n",
    "fig.tight_layout()\n",
    "plt.show()"
   ]
  },
  {
   "cell_type": "code",
   "execution_count": null,
   "id": "e5c76e82",
   "metadata": {},
   "outputs": [],
   "source": [
    "class Controller:\n",
    "    def __init__(self):\n",
    "        self.A = np.array([[0.0000, 1.0000], [0.0000, 0.0000]])\n",
    "        self.B = np.array([[0.0000], [5.0930]])\n",
    "        self.C = np.array([[1.0000, 0.0000]])\n",
    "        self.K = np.array([[0.8921, 1.0433]])\n",
    "        self.L = np.array([[1.2250], [0.5894]])\n",
    "        self.q1e = np.pi/10\n",
    "        self.v1e = 0\n",
    "        self.taue = 0\n",
    "    \n",
    "    def reset(self):\n",
    "        self.xhat = np.array([0., 0.])\n",
    "    \n",
    "    def run(self, t, wheel_angle_measurement):\n",
    "        \"\"\"\n",
    "        INPUTS\n",
    "         t = current time (s)\n",
    "         wheel_angle_measurement = measured angle of wheel (rad)\n",
    "        \n",
    "        OUTPUTS\n",
    "         wheel_torque = torque applied to wheel by motor on ground (N m)\n",
    "        \"\"\"\n",
    "        \n",
    "        # Find input\n",
    "        u = - self.K @ self.xhat\n",
    "        \n",
    "        # Find measurement\n",
    "        y = np.array([np.sin(platform_angle_measurement) - np.sin(q1e)])\n",
    "        \n",
    "        # Find state estimate\n",
    "        self.xhat += self.dt * (self.A @ self.xhat + self.B @ u - self.L @ (self.C @ self.xhat - y))\n",
    "        \n",
    "        # Find actuator command\n",
    "        tau = u[0] + self.taue\n",
    "        \n",
    "        wheel_torque = tau\n",
    "        return wheel_torque"
   ]
  }
 ],
 "metadata": {
  "kernelspec": {
   "display_name": "Python 3 (ipykernel)",
   "language": "python",
   "name": "python3"
  },
  "language_info": {
   "codemirror_mode": {
    "name": "ipython",
    "version": 3
   },
   "file_extension": ".py",
   "mimetype": "text/x-python",
   "name": "python",
   "nbconvert_exporter": "python",
   "pygments_lexer": "ipython3",
   "version": "3.10.2"
  }
 },
 "nbformat": 4,
 "nbformat_minor": 5
}
