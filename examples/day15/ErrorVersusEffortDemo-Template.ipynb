{
 "cells": [
  {
   "cell_type": "markdown",
   "id": "middle-acoustic",
   "metadata": {},
   "source": [
    "# Tradeoff between \"error\" and \"effort\" for a scalar system"
   ]
  },
  {
   "cell_type": "markdown",
   "id": "90a3378b",
   "metadata": {},
   "source": [
    "Do all imports:"
   ]
  },
  {
   "cell_type": "code",
   "execution_count": null,
   "id": "dimensional-contamination",
   "metadata": {},
   "outputs": [],
   "source": [
    "# Stuff for computation\n",
    "import numpy as np\n",
    "from scipy import integrate\n",
    "\n",
    "# Stuff for visualization\n",
    "from ipywidgets import interactive_output, HBox, VBox, FloatSlider, Layout\n",
    "from bokeh.io import push_notebook, show, output_notebook\n",
    "from bokeh.layouts import column, row, Spacer\n",
    "from bokeh.plotting import figure\n",
    "from bokeh.models import Div"
   ]
  },
  {
   "cell_type": "markdown",
   "id": "d740db6e",
   "metadata": {},
   "source": [
    "[Display Bokeh plots inline](https://docs.bokeh.org/en/latest/docs/user_guide/jupyter.html#classic-notebooks):"
   ]
  },
  {
   "cell_type": "code",
   "execution_count": null,
   "id": "4501f868",
   "metadata": {},
   "outputs": [],
   "source": [
    "output_notebook()"
   ]
  },
  {
   "cell_type": "markdown",
   "id": "ebdbb501",
   "metadata": {},
   "source": [
    "Suppress the use of scientific notation when printing small numbers:"
   ]
  },
  {
   "cell_type": "code",
   "execution_count": null,
   "id": "61943473",
   "metadata": {},
   "outputs": [],
   "source": [
    "np.set_printoptions(suppress=True)"
   ]
  },
  {
   "cell_type": "markdown",
   "id": "34b5c21c",
   "metadata": {},
   "source": [
    "This function returns the cost\n",
    "\n",
    "$$ q x(t)^2 + r u(t)^2 $$\n",
    "\n",
    "assuming that linear state feedback\n",
    "\n",
    "$$ u = -k x $$\n",
    "\n",
    "is applied to the (scalar) state-space system\n",
    "\n",
    "$$ \\dot{x} = ax + bu $$\n",
    "\n",
    "starting from the initial condition\n",
    "\n",
    "$$ x(t_0) = x_0. $$"
   ]
  },
  {
   "cell_type": "code",
   "execution_count": null,
   "id": "7b1803fc",
   "metadata": {},
   "outputs": [],
   "source": [
    "def integrand(t, a, b, q, r, k, x0, t0):\n",
    "    x = np.exp((a - b * k) * (t - t0)) * x0\n",
    "    u = - k * x\n",
    "    return q * x**2 + r * u**2"
   ]
  },
  {
   "cell_type": "markdown",
   "id": "333590b5",
   "metadata": {},
   "source": [
    "This function returns the total cost\n",
    "\n",
    "$$ \\int_{t_0}^{t_1} \\left( q x(t)^2 + r u(t)^2 \\right) dt $$\n",
    "\n",
    "for the same controller, system, and initial condition."
   ]
  },
  {
   "cell_type": "code",
   "execution_count": null,
   "id": "4b2d0fab",
   "metadata": {},
   "outputs": [],
   "source": [
    "def get_cost(a, b, q, r, k, x0, t0, t1):\n",
    "    cost, err = integrate.quad(integrand, t0, t1, args=(a, b, q, r, k, x0, t0))\n",
    "    return cost"
   ]
  },
  {
   "cell_type": "markdown",
   "id": "4a553818",
   "metadata": {},
   "source": [
    "Create interactive visualization for the particular case in which $a=5$ and $b=1$:"
   ]
  },
  {
   "cell_type": "code",
   "execution_count": null,
   "id": "914bd458",
   "metadata": {},
   "outputs": [],
   "source": [
    "# Parameters that define the state-space model\n",
    "(a, b) = (5., 1.)\n",
    "\n",
    "# Parameters that define the initial conditions\n",
    "x0 = 1.\n",
    "\n",
    "# Parameters that define the cost\n",
    "(q, r) = (1., 1.)\n",
    "\n",
    "# Parameters that define the simulation\n",
    "(t0, t1, dt) = (0., 3., 0.05)\n",
    "nt = int(1 + np.ceil((t1 - t0) / dt))\n",
    "t = np.linspace(t0, t1, nt)\n",
    "\n",
    "# Function to update the figure after changing parameters\n",
    "def update(k=12, x0=1, q=1, r=1):\n",
    "    # Get the closed-loop eigenvalue\n",
    "    s = a - b * k\n",
    "    \n",
    "    # Get the state, input, and cost as functions of time\n",
    "    x = np.exp((a - b * k) * (t - t0)) * x0\n",
    "    u = - k * x\n",
    "    cost = np.array([get_cost(a, b, q, r, k, x0, t0, t1) for t1 in t])\n",
    "\n",
    "    # Get the cost at infinity\n",
    "    if (a - b * k) < 0:\n",
    "        cost_at_infinity = get_cost(a, b, q, r, k, x0, t0, np.inf)\n",
    "    else:\n",
    "        cost_at_infinity = np.inf\n",
    "\n",
    "    # Plot everything\n",
    "    s_plt.data_source.data['x'] = [s]\n",
    "    s_plt.data_source.data['y'] = [0]\n",
    "    x_plt.data_source.data['y'] = x\n",
    "    u_plt.data_source.data['y'] = u\n",
    "    cost_plt.data_source.data['y'] = cost\n",
    "    cost_at_infinity_plt.data_source.data['x'] = [k]\n",
    "    cost_at_infinity_plt.data_source.data['y'] = [cost_at_infinity]\n",
    "    \n",
    "    # Refresh plots\n",
    "    push_notebook()\n",
    "\n",
    "# Plots\n",
    "s_fig = figure(title='CLOSED-LOOP EIGENVALUES', height=300, width=300,\n",
    "                x_range=(-15, 5), y_range=(-10, 10))\n",
    "s_plt = s_fig.circle([0], [0], size=5, color='navy', alpha=0.5)\n",
    "x_fig = figure(title='STATE', height=200, width=400,\n",
    "                x_range=(t0, t1), y_range=(-2, 2))\n",
    "x_plt = x_fig.line(t, np.zeros_like(t), line_width=2, line_color='navy')\n",
    "u_fig = figure(title='INPUT', height=200, width=400,\n",
    "                x_range=(t0, t1), y_range=(-15, 15))\n",
    "u_plt = u_fig.line(t, np.zeros_like(t), line_width=2, line_color='navy')\n",
    "cost_fig = figure(title='TOTAL COST', height=200, width=400,\n",
    "                x_range=(t0, t1), y_range=(0, 40))\n",
    "cost_plt = cost_fig.line(t, np.zeros_like(t), line_width=2, line_color='navy')\n",
    "cost_at_infinity_fig = figure(title='TOTAL COST AS TIME GETS LARGE', height=300, width=300,\n",
    "                x_range=(0, 20), y_range=(0, 30))\n",
    "cost_at_infinity_plt = cost_at_infinity_fig.circle([0], [0], size=5, color='navy', alpha=0.5)\n",
    "\n",
    "# Text\n",
    "div_style = {'font-size': '150%'}\n",
    "x_lab = Div(text=r'$$x(t) = e^{(a - bk)t}x_0$$', style=div_style, align='center')\n",
    "u_lab = Div(text=r'$$u(t) = -kx(t)$$', style=div_style, align='center')\n",
    "cost_lab = Div(text=r'$$\\int_{0}^{t} (qx(t)^2 + ru(t)^2) dt$$', style=div_style, align='center')\n",
    "\n",
    "# Layout\n",
    "show(\n",
    "    row(\n",
    "        column(s_fig, cost_at_infinity_fig),\n",
    "        column(Spacer(), sizing_mode='stretch_width'),\n",
    "        column(row(x_fig, x_lab), row(u_fig, u_lab), row(cost_fig, cost_lab)),\n",
    "    ),\n",
    "    notebook_handle=True,\n",
    ")\n",
    "\n",
    "# Widgets\n",
    "ks = FloatSlider(min=2, max=20, step=0.1, value=12, description='k', layout=Layout(width='auto'))\n",
    "x0s = FloatSlider(min=-2, max=2, step=0.1, value=1, description='x0', layout=Layout(width='auto'))\n",
    "qs = FloatSlider(min=0, max=10, step=0.01, value=1, description='q', layout=Layout(width='auto'))\n",
    "rs = FloatSlider(min=0, max=10, step=0.01, value=1, description='r', layout=Layout(width='auto'))\n",
    "ui = HBox(\n",
    "    [\n",
    "        VBox([ks, x0s], layout=Layout(width='50%')),\n",
    "        VBox([qs, rs], layout=Layout(width='50%'))\n",
    "    ], layout=Layout(border='solid 1px', width='90%')\n",
    ")\n",
    "out = interactive_output(update, {'k': ks, 'x0': x0s, 'q': qs, 'r': rs})\n",
    "display(ui, out)"
   ]
  },
  {
   "cell_type": "code",
   "execution_count": null,
   "id": "2575435f",
   "metadata": {},
   "outputs": [],
   "source": []
  }
 ],
 "metadata": {
  "kernelspec": {
   "display_name": "Python 3 (ipykernel)",
   "language": "python",
   "name": "python3"
  },
  "language_info": {
   "codemirror_mode": {
    "name": "ipython",
    "version": 3
   },
   "file_extension": ".py",
   "mimetype": "text/x-python",
   "name": "python",
   "nbconvert_exporter": "python",
   "pygments_lexer": "ipython3",
   "version": "3.10.2"
  }
 },
 "nbformat": 4,
 "nbformat_minor": 5
}
